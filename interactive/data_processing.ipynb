{
  "nbformat": 4,
  "nbformat_minor": 0,
  "metadata": {
    "colab": {
      "name": "ms1-interactive.ipynb",
      "provenance": [],
      "collapsed_sections": [
        "Ia1csPvEGBuW"
      ],
      "toc_visible": true
    },
    "kernelspec": {
      "name": "python3",
      "display_name": "Python 3"
    },
    "language_info": {
      "name": "python"
    }
  },
  "cells": [
    {
      "cell_type": "markdown",
      "metadata": {
        "id": "TmegW8ZMr6GH"
      },
      "source": [
        "\n",
        "# Data Processing\n",
        "<br>\n",
        "Major Studio 1 @MSDV Parsons\n",
        "<br>\n",
        "Jessie Han \n",
        "<br>\n",
        "\n",
        "\n",
        "### On Exhibition\n",
        "\n",
        "In this demo, we'll analyze an image dataset of all the 'art' objects that are currently on view across Smithsonian – 1357 images in total pulled from the Smithsonian API.\n"
      ]
    },
    {
      "cell_type": "markdown",
      "metadata": {
        "id": "9EwjJ5Z4VFEk"
      },
      "source": [
        "\n",
        "# Data Retrieving"
      ]
    },
    {
      "cell_type": "code",
      "metadata": {
        "id": "6a07hOQB0Ncn"
      },
      "source": [
        "import requests\n",
        "import json\n",
        "import shutil # to save it locally\n"
      ],
      "execution_count": 1,
      "outputs": []
    },
    {
      "cell_type": "code",
      "metadata": {
        "id": "qBgHrRKEQUlR"
      },
      "source": [
        "API = \"8SgxKTQfTiefbu1dgMUTNflJVqAS9KvtvY2f26Fj\" ## add your API key\n",
        "query_list = []\n",
        "\n",
        "# # landscape 6000+\n",
        "# query_list.append('https://api.si.edu/openaccess/api/v1.0/search?q=online_visual_material:true+AND+type:edanmdm+AND+landscape+&rows=1000&start=0&api_key=' + API)\n",
        "# query_list.append('https://api.si.edu/openaccess/api/v1.0/search?q=online_visual_material:true+AND+type:edanmdm+AND+landscape+&rows=1000&start=1001&api_key=' + API)\n",
        "# query_list.append('https://api.si.edu/openaccess/api/v1.0/search?q=online_visual_material:true+AND+type:edanmdm+AND+landscape+&rows=1000&start=2001&api_key=' + API)\n",
        "# query_list.append('https://api.si.edu/openaccess/api/v1.0/search?q=online_visual_material:true+AND+type:edanmdm+AND+landscape+&rows=1000&start=3001&api_key=' + API)\n",
        "# query_list.append('https://api.si.edu/openaccess/api/v1.0/search?q=online_visual_material:true+AND+type:edanmdm+AND+landscape+&rows=1000&start=4001&api_key=' + API)\n",
        "# query_list.append('https://api.si.edu/openaccess/api/v1.0/search?q=online_visual_material:true+AND+type:edanmdm+AND+landscape+&rows=1000&start=5001&api_key=' + API)\n",
        "# query_list.append('https://api.si.edu/openaccess/api/v1.0/search?q=online_visual_material:true+AND+type:edanmdm+AND+landscape+&rows=1000&start=6001&api_key=' + API)\n",
        "# query_list.append('https://api.si.edu/openaccess/api/v1.0/search?q=online_visual_material:true+AND+type:edanmdm+AND+landscape+&rows=1000&start=7001&api_key=' + API)\n",
        "\n",
        "# # sign 6000+\n",
        "# query_list.append('https://api.si.edu/openaccess/api/v1.0/search?q=online_visual_material:true+AND+type:edanmdm+AND+sign+&rows=1000&start=0&api_key=' + API)\n",
        "# query_list.append('https://api.si.edu/openaccess/api/v1.0/search?q=online_visual_material:true+AND+type:edanmdm+AND+sign+&rows=1000&start=1001&api_key=' + API)\n",
        "# query_list.append('https://api.si.edu/openaccess/api/v1.0/search?q=online_visual_material:true+AND+type:edanmdm+AND+sign+&rows=1000&start=2001&api_key=' + API)\n",
        "# query_list.append('https://api.si.edu/openaccess/api/v1.0/search?q=online_visual_material:true+AND+type:edanmdm+AND+sign+&rows=1000&start=3001&api_key=' + API)\n",
        "# query_list.append('https://api.si.edu/openaccess/api/v1.0/search?q=online_visual_material:true+AND+type:edanmdm+AND+sign+&rows=1000&start=4001&api_key=' + API)\n",
        "# query_list.append('https://api.si.edu/openaccess/api/v1.0/search?q=online_visual_material:true+AND+type:edanmdm+AND+sign+&rows=1000&start=5001&api_key=' + API)\n",
        "# query_list.append('https://api.si.edu/openaccess/api/v1.0/search?q=online_visual_material:true+AND+type:edanmdm+AND+sign+&rows=1000&start=6001&api_key=' + API)\n",
        "\n",
        "\n",
        "# # sculpture 5000+\n",
        "# query_list.append('https://api.si.edu/openaccess/api/v1.0/search?q=online_visual_material:true+AND+type:edanmdm+AND+sculpture+&rows=1000&start=0&api_key=' + API)\n",
        "# query_list.append('https://api.si.edu/openaccess/api/v1.0/search?q=online_visual_material:true+AND+type:edanmdm+AND+sculpture+&rows=1000&start=1001&api_key=' + API)\n",
        "# query_list.append('https://api.si.edu/openaccess/api/v1.0/search?q=online_visual_material:true+AND+type:edanmdm+AND+sculpture+&rows=1000&start=2001&api_key=' + API)\n",
        "# query_list.append('https://api.si.edu/openaccess/api/v1.0/search?q=online_visual_material:true+AND+type:edanmdm+AND+sculpture+&rows=1000&start=3001&api_key=' + API)\n",
        "# query_list.append('https://api.si.edu/openaccess/api/v1.0/search?q=online_visual_material:true+AND+type:edanmdm+AND+sculpture+&rows=1000&start=4001&api_key=' + API)\n",
        "# query_list.append('https://api.si.edu/openaccess/api/v1.0/search?q=online_visual_material:true+AND+type:edanmdm+AND+sculpture+&rows=1000&start=5001&api_key=' + API)\n",
        "\n",
        "# # query_list.append(\"https://api.si.edu/openaccess/api/v1.0/search?q=online_visual_material:true+AND+type:edanmdm+AND+onphysicalexhibit%3A%22yes%22%20and%20art+&rows=10&start=0&api_key=\" + API)\n",
        "# # query_list.append(\"https://api.si.edu/openaccess/api/v1.0/search?q=online_visual_material:true+AND+type:edanmdm+AND+onphysicalexhibit%3A%22yes%22%20and%20art+&rows=1000&start=0&api_key=\" + API)\n",
        "# # query_list.append(\"https://api.si.edu/openaccess/api/v1.0/search?q=online_visual_material:true+AND+type:edanmdm+AND+onphysicalexhibit%3A%22yes%22%20and%20art+&rows=357&start=1001&api_key=\" + API)\n",
        "\n",
        "#on exhibition\n",
        "query_list.append(\"https://api.si.edu/openaccess/api/v1.0/search?q=online_visual_material:true+AND+type:edanmdm+AND+onphysicalexhibit%3A%22yes%22%20&rows=1000&start=0&api_key=\" + API)\n",
        "query_list.append(\"https://api.si.edu/openaccess/api/v1.0/search?q=online_visual_material:true+AND+type:edanmdm+AND+onphysicalexhibit%3A%22yes%22%20&rows=1000&start=1001&api_key=\" + API)\n",
        "query_list.append(\"https://api.si.edu/openaccess/api/v1.0/search?q=online_visual_material:true+AND+type:edanmdm+AND+onphysicalexhibit%3A%22yes%22%20&rows=1000&start=2001&api_key=\" + API)\n",
        "query_list.append(\"https://api.si.edu/openaccess/api/v1.0/search?q=online_visual_material:true+AND+type:edanmdm+AND+onphysicalexhibit%3A%22yes%22%20&rows=1000&start=3001&api_key=\" + API)\n",
        "query_list.append(\"https://api.si.edu/openaccess/api/v1.0/search?q=online_visual_material:true+AND+type:edanmdm+AND+onphysicalexhibit%3A%22yes%22%20&rows=1000&start=4001&api_key=\" + API)\n"
      ],
      "execution_count": 349,
      "outputs": []
    },
    {
      "cell_type": "code",
      "metadata": {
        "colab": {
          "base_uri": "https://localhost:8080/"
        },
        "id": "w1O5tH9nGlbu",
        "outputId": "9c14a253-68df-497a-c971-060508871b8d"
      },
      "source": [
        "query_list"
      ],
      "execution_count": 350,
      "outputs": [
        {
          "output_type": "execute_result",
          "data": {
            "text/plain": [
              "['https://api.si.edu/openaccess/api/v1.0/search?q=online_visual_material:true+AND+type:edanmdm+AND+onphysicalexhibit%3A%22yes%22%20&rows=1000&start=0&api_key=8SgxKTQfTiefbu1dgMUTNflJVqAS9KvtvY2f26Fj',\n",
              " 'https://api.si.edu/openaccess/api/v1.0/search?q=online_visual_material:true+AND+type:edanmdm+AND+onphysicalexhibit%3A%22yes%22%20&rows=1000&start=1001&api_key=8SgxKTQfTiefbu1dgMUTNflJVqAS9KvtvY2f26Fj',\n",
              " 'https://api.si.edu/openaccess/api/v1.0/search?q=online_visual_material:true+AND+type:edanmdm+AND+onphysicalexhibit%3A%22yes%22%20&rows=1000&start=2001&api_key=8SgxKTQfTiefbu1dgMUTNflJVqAS9KvtvY2f26Fj',\n",
              " 'https://api.si.edu/openaccess/api/v1.0/search?q=online_visual_material:true+AND+type:edanmdm+AND+onphysicalexhibit%3A%22yes%22%20&rows=1000&start=3001&api_key=8SgxKTQfTiefbu1dgMUTNflJVqAS9KvtvY2f26Fj',\n",
              " 'https://api.si.edu/openaccess/api/v1.0/search?q=online_visual_material:true+AND+type:edanmdm+AND+onphysicalexhibit%3A%22yes%22%20&rows=1000&start=4001&api_key=8SgxKTQfTiefbu1dgMUTNflJVqAS9KvtvY2f26Fj']"
            ]
          },
          "metadata": {},
          "execution_count": 350
        }
      ]
    },
    {
      "cell_type": "code",
      "source": [
        ""
      ],
      "metadata": {
        "id": "Ck8rn5e_PQBD"
      },
      "execution_count": 160,
      "outputs": []
    },
    {
      "cell_type": "code",
      "source": [
        "def format_time(time):\n",
        "  newtime = time[:-1]\n",
        "  newtime = newtime.replace('BCE ','-')\n",
        "  return int(newtime)"
      ],
      "metadata": {
        "id": "ivQUdag-PPte"
      },
      "execution_count": 161,
      "outputs": []
    },
    {
      "cell_type": "code",
      "metadata": {
        "id": "TqPirl2VRHZg"
      },
      "source": [
        "\n",
        "count = 0;\n",
        "mylist = []\n",
        "\n",
        "for query in query_list:\n",
        "  response = requests.get(query).text\n",
        "  response_json = json.loads(response)\n",
        "\n",
        "  for item in response_json[\"response\"][\"rows\"]:\n",
        "\n",
        "    \n",
        "    id = item[\"id\"]\n",
        "    title = item[\"title\"]\n",
        "    imgurl = ''\n",
        "    unit = item[\"unitCode\"]\n",
        "    url = \"https://www.si.edu/\"\n",
        "\n",
        "    culture = \"undefined\"\n",
        "    object_type = \"undefined\"\n",
        "    topic = \"undefined\"\n",
        "    date = \"undefined\"\n",
        "\n",
        "    culture_exist = False;\n",
        "    object_type_exist = False;\n",
        "    topic_exist = False;\n",
        "    date_exist = False;\n",
        "\n",
        "\n",
        "    for it in item[\"content\"][\"descriptiveNonRepeating\"]:\n",
        "      if (it == \"record_link\"):\n",
        "        url = item[\"content\"][\"descriptiveNonRepeating\"][\"record_link\"]\n",
        "\n",
        "\n",
        "    for it in item[\"content\"][\"indexedStructured\"]:\n",
        "\n",
        "   \n",
        "\n",
        "      if (it == \"date\"):\n",
        "        if (item[\"content\"][\"indexedStructured\"][\"date\"] != []):\n",
        "          # print(item[\"content\"][\"indexedStructured\"][\"date\"])\n",
        "          date = format_time(item[\"content\"][\"indexedStructured\"][\"date\"][0])\n",
        "          date_exist = True;\n",
        "        \n",
        "     \n",
        "\n",
        "      if (it == \"culture\"):\n",
        "        \n",
        "        culture = item[\"content\"][\"indexedStructured\"][\"culture\"]\n",
        "        culture_exist = True;\n",
        "\n",
        "      if (it == \"object_type\"):\n",
        "        \n",
        "        object_type = item[\"content\"][\"indexedStructured\"][\"object_type\"]\n",
        "        object_type_exist = True;\n",
        "\n",
        "      if (it == \"topic\"):\n",
        "        topic = item[\"content\"][\"indexedStructured\"][\"topic\"]\n",
        "        topic_exist = True;\n",
        "\n",
        "    if \"online_media\" in item[\"content\"][\"descriptiveNonRepeating\"]:\n",
        "      for index,it in enumerate(item[\"content\"][\"descriptiveNonRepeating\"][\"online_media\"][\"media\"]):\n",
        "        if not index:\n",
        "          imgurl = it[\"thumbnail\"]\n",
        "\n",
        "    # if (topic_exist == False):\n",
        "    #   print(title,id ,url)\n",
        "\n",
        "    if (date_exist== True and topic_exist == True):\n",
        "      mylist.append({\n",
        "          \"index\": count,\n",
        "          \"id\": id,\n",
        "          \"title\": title,\n",
        "          \"img_url\": imgurl,\n",
        "          \"record_url\": url,\n",
        "          \"date\": date,\n",
        "          \"object_type\": object_type,\n",
        "          \"culture\": culture,\n",
        "          \"topic\": topic,\n",
        "          \"unit\": unit\n",
        "      })\n",
        "      count +=1;\n",
        "\n",
        " \n",
        "\n"
      ],
      "execution_count": 162,
      "outputs": []
    },
    {
      "cell_type": "code",
      "metadata": {
        "colab": {
          "base_uri": "https://localhost:8080/"
        },
        "id": "GsVj30EcEY3A",
        "outputId": "24cee466-2ab8-4fc2-86ee-87ebf83c899a"
      },
      "source": [
        "print(len(mylist))"
      ],
      "execution_count": 163,
      "outputs": [
        {
          "output_type": "stream",
          "name": "stdout",
          "text": [
            "3016\n"
          ]
        }
      ]
    },
    {
      "cell_type": "code",
      "source": [
        "with open('data.json', 'w') as outfile:\n",
        "    json.dump(mylist, outfile, indent=2)"
      ],
      "metadata": {
        "id": "UDey0jl49RLI"
      },
      "execution_count": 164,
      "outputs": []
    },
    {
      "cell_type": "code",
      "source": [
        "def timelist(item):\n",
        "    return item[\"date\"]"
      ],
      "metadata": {
        "id": "1w0Vaz8u5Z9l"
      },
      "execution_count": 165,
      "outputs": []
    },
    {
      "cell_type": "code",
      "source": [
        "## time array\n",
        "\n",
        "timeline_raw = list(map(timelist,mylist))\n",
        "print(list(map(timelist,mylist)))\n",
        "\n",
        "mytimeline = list(dict.fromkeys(timeline_raw))\n",
        "mytimeline.sort()\n",
        "print(mytimeline)"
      ],
      "metadata": {
        "colab": {
          "base_uri": "https://localhost:8080/"
        },
        "id": "nZvPzw1o3vdZ",
        "outputId": "06d6e86f-7b65-468b-9e48-1a9db925c6ca"
      },
      "execution_count": 166,
      "outputs": [
        {
          "output_type": "stream",
          "name": "stdout",
          "text": [
            "[1870, 1870, 1870, 1880, 1870, 1890, 1890, 1880, 1880, 1880, 1880, 1870, 1860, 1870, 1880, 1870, 1870, 1860, 1870, 1870, 1870, 1880, 1860, 1880, 1870, 1890, 1880, 1870, 1870, 1870, 1870, 1870, 1890, 1880, 1870, 1880, 1860, 1880, 1860, 1870, 1870, 1870, 1870, 1890, 1870, 1870, 1870, 1870, 1890, 1880, 1880, 1890, 1880, 1890, 1880, 1870, 1880, 1880, 1870, 1870, 1880, 1880, 1870, 1870, 1890, 1870, 1890, 1900, 1890, 1890, 1990, 1890, 1870, 1860, 1870, 1880, 1850, 1860, 1770, 1900, 1700, 1890, 1830, 1890, 1900, 1810, 1820, 1880, 1850, 1860, 1870, 1870, 1870, 1880, 1880, 1890, 1890, 1890, 1890, 1890, 1890, 1890, 1890, 1890, 1890, 1890, 1890, 1890, 1890, 1890, 1890, 1890, 1890, 1890, 1850, 1870, 1890, 1890, 1890, 1890, 1850, 1860, 1860, 1860, 1870, 1890, 1890, 1890, 1890, 1890, 1890, 1890, 1890, 1890, 1890, 1890, 1890, 1890, 1890, 1860, 1870, 1860, 1890, 1890, 1880, 1880, 1850, 1850, 1850, 1860, 1870, 1870, 1870, 1870, 1870, 1880, 1880, 1850, 1860, 1850, 1860, 1870, 1880, 1840, 1860, 1880, 1880, 1880, 1850, 1850, 1870, 1870, 1850, 1890, 1880, 1840, 1860, 1860, 1870, 1870, 1850, 1880, 1890, 1880, 1880, 1870, 1860, 1860, 1860, 1860, 1870, 1880, 1860, 1890, 1890, 1890, 1890, 1890, 1890, 1890, 1890, 1890, 1890, 1890, 1890, 1890, 1890, 1870, 1890, 1880, 1890, 1840, 1850, 1880, 1890, 1890, 1860, 1870, 1860, 1870, 1890, 1890, 1890, 1890, 1890, 1890, 1890, 1890, 1890, 1890, 1890, 1890, 1890, 1890, 1890, 1860, 1850, 1890, 1860, 1890, 1880, 1880, 1880, 1860, 1850, 1860, 1860, 1860, 1870, 1850, 1850, 1880, 1880, 1840, 1930, 1860, 1860, 1870, 1860, 1870, 1870, 1870, 1890, 1890, 1890, 1890, 1890, 1890, 1890, 1890, 1890, 1890, 1890, 1890, 1890, 1890, 1890, 1890, 1890, 1890, 1890, 1890, 1840, 1880, 1860, 1870, 1850, 1850, 1850, 1860, 1870, 1850, 1860, 1860, 1860, 1860, 1890, 1890, 1890, 1890, 1890, 1890, 1890, 1890, 1890, 1890, 1890, 1890, 1890, 1890, 1890, 1890, 1890, 1890, 1880, 1870, 1890, 1860, 1880, 1880, 1880, 1880, 1850, 1860, 1860, 1850, 1870, 1890, 1860, 1870, 1870, 1860, 1870, 1870, 1870, 1870, 1880, 1890, 1890, 1890, 1890, 1890, 1890, 1890, 1890, 1890, 1890, 1890, 1890, 1890, 1890, 1890, 1890, 1890, 1890, 1890, 1890, 1890, 1890, 1890, 1890, 1890, 1860, 1860, 1890, 1890, 1890, 1870, 1850, 1890, 1880, 1880, 1880, 1850, 1850, 1850, 1860, 1850, 1860, 1850, 1850, 1880, 1870, 1850, 1900, 1890, 1790, 1890, 1890, 1890, 1870, 1900, 1790, 1820, 1840, 1900, 1900, 1910, 1910, 1860, 1890, 1830, 1840, 1880, 1890, 1830, 1820, 1890, 1870, 1860, 1910, 1890, 1900, 1890, 1900, 1840, 1910, 1870, 1840, 1880, 1890, 1800, 1890, 1870, 1890, 1860, 1850, 1790, 1790, 1860, 1900, 1900, 1880, 1890, 1810, 1900, 1870, 1890, 1880, 1900, 1890, 1890, 1790, 1910, 1880, 1840, 1840, 1930, 1840, 1910, 1910, 1890, 1870, 1920, 1860, 1860, 1880, 1870, 1890, 1880, 1840, 1860, 1860, 1860, 1870, 1890, 1890, 1890, 1890, 1890, 1890, 1890, 1890, 1890, 1890, 1890, 1890, 1890, 1890, 1890, 1890, 1850, 1860, 1860, 1890, 1870, 1880, 1880, 1890, 1880, 1880, 1850, 1860, 1860, 1860, 1860, 1860, 1850, 1880, 1860, 1850, 1860, 1870, 1850, 1850, 1850, 1860, 1850, 1850, 1870, 1870, 1870, 1890, 1880, 1860, 1880, 1860, 1860, 1860, 1860, 1860, 1870, 1860, 1890, 1890, 1890, 1890, 1890, 1890, 1890, 1890, 1890, 1890, 1890, 1890, 1890, 1890, 1890, 1890, 1870, 1840, 1860, 1890, 1870, 1860, 1840, 1880, 1880, 1850, 1860, 1860, 1860, 1860, 1850, 1880, 1870, 1870, 1870, 1880, 1860, 1860, 1870, 1870, 1870, 1890, 1890, 1890, 1890, 1890, 1890, 1890, 1890, 1890, 1890, 1890, 1890, 1890, 1890, 1890, 1890, 1890, 1890, 1890, 1840, 1850, 1850, 1850, 1870, 1870, 1870, 1890, 1830, 1880, 1890, 1890, 1930, 1880, 1890, 1890, 1870, 1900, 1910, 1860, 1880, 1860, 1910, 1910, 1700, 1700, 1900, 1830, 1840, 1870, 1860, 1870, 1880, 1870, 1870, 1880, 1870, 1880, 2010, 1910, 1890, 1840, 1850, 1870, 1860, 1860, 1860, 1860, 1860, 1870, 1870, 1880, 1880, 1890, 1890, 1890, 1890, 1890, 1890, 1890, 1890, 1890, 1890, 1890, 1890, 1870, 1870, 1880, 1880, 1850, 1860, 1860, 1880, 1880, 1850, 1850, 1870, 1870, 1870, 1850, 1880, 1880, 1890, 1850, 1850, 1880, 1930, 1850, 1850, 1870, 1870, 1870, 1890, 1890, 1890, 1890, 1890, 1890, 1890, 1890, 1890, 1890, 1890, 1890, 1890, 1890, 1890, 1890, 1890, 1890, 1880, 1880, 1890, 1860, 1850, 1860, 1860, 1880, 1890, 1890, 1890, 1890, 1890, 1890, 1890, 1890, 1890, 1890, 1860, 1860, 1860, 1870, 1870, 1870, 1880, 1860, 1890, 1880, 1880, 1850, 1860, 1870, 1870, 1890, 1890, 1890, 1890, 1890, 1890, 1890, 1890, 1890, 1890, 1890, 1890, 1890, 1890, 1890, 1890, 1890, 1860, 1860, 1890, 1890, 1860, 1870, 1880, 1880, 1850, 1850, 1850, 1860, 1870, 1850, 1870, 1870, 1850, 1880, 1880, 1890, 1860, 1860, 1860, 1870, 1890, 1890, 1890, 1890, 1890, 1890, 1890, 1890, 1890, 1890, 1890, 1890, 1890, 1890, 1860, 1910, 1870, 1870, 1880, 1850, 1860, 1890, 1890, 1820, 1870, 1870, 1880, 1840, 1850, 1830, 1860, 1900, 1840, 1900, 1930, 1870, 1890, 1870, 1870, 1870, 1870, 1890, 1880, 1880, 1880, 1880, 1850, 1850, 1850, 1860, 1860, 1870, 1880, 1850, 1850, 1870, 1860, 1860, 1860, 1860, 1860, 1870, 1870, 1870, 1870, 1870, 1870, 1890, 1890, 1890, 1890, 1890, 1890, 1890, 1890, 1890, 1890, 1890, 1890, 1890, 1890, 1870, 1890, 1890, 1870, 1870, 1870, 1860, 1890, 1880, 1860, 1850, 1860, 1860, 1850, 1860, 1880, 1850, 1850, 1860, 1880, 1700, 1720, 1860, 1870, 1940, 1930, 1950, 1800, 1960, 1850, 1910, 1910, 1850, 1830, 1830, 1830, 1830, 1830, 1830, 1880, 1880, 1870, 1920, 1830, 1890, 1880, 1810, 1870, 1910, 1900, 1880, 1880, 1800, 1860, 1880, 1910, 1920, 1840, 1830, 1830, 1830, 1830, 1830, 1880, 1880, 1890, 1890, 1860, 1830, 1800, 1870, 1820, 1880, 1910, 1910, 1910, 1910, 1880, 1870, 1830, 1840, 1900, 1890, 1800, 1810, 1820, 1840, 1830, 1830, 1900, 1900, 1860, 1860, 1860, 1850, 1840, 1850, 1920, 1850, 1880, 1930, 1900, 1930, 1900, 1800, 1910, 1890, 1810, 1910, 1790, 1880, 1870, 1860, 1840, 1860, 1850, 1880, 1800, 1810, 1920, 1930, 1880, 1860, 1800, 1900, 1900, 1870, 1880, 1920, 1940, 1900, 1870, 1860, 1900, 1850, 1870, 1870, 1930, 1920, 1880, 1880, 1870, 1840, 1900, 1880, 1900, 1900, 1800, 1920, 1810, 1870, 1930, 1690, 1870, 1870, 1820, 1800, 1890, 1880, 1880, 1900, 1930, 1920, 1890, 1870, 1940, 1880, 1890, 1880, 1880, 1890, 1880, 1890, 1910, 1940, 1900, 1940, 1870, 1870, 1840, 1880, 1900, 1920, 1850, 1830, 1930, 1950, 1960, 1940, 1940, 1800, 2010, 1940, 1900, 1950, 1990, 1950, 1940, 1930, 1860, 1940, 1970, 2000, 1870, 1600, 1800, 1800, 1950, 1900, 1930, 1900, 1910, 1940, 1960, 1850, 1500, 1800, 1940, 1780, 1800, 1800, 1770, 1800, 1900, 1900, 1900, 1920, 1880, 1830, 1800, 1820, 1920, 1700, 1900, 1930, 1850, 1940, 1940, 1830, 1960, 1970, 1880, 1700, 1950, 2000, 1800, 1500, 1960, 1930, 1890, 1970, 1700, 1890, 1880, 1880, 1930, 1890, 1880, 1880, 1930, 1910, 1940, 1880, 1890, 1880, 1880, 1880, 1910, 1940, 1940, 1940, 1860, 1870, 1870, 1870, 1910, 1900, 1890, 1880, 1880, 1900, 1930, 1930, 1870, 1870, 1890, 1850, 1890, 1950, 1850, 1840, 1860, 1980, 1700, 1920, 1960, 1910, 1700, 1850, 1910, 1860, 1920, 1950, 1830, 1870, 1950, 1800, 1700, 1800, 1940, 1940, 2000, 1930, 1930, 1940, 1980, 1850, 1870, 1940, 1950, 1830, 1840, 1830, 1920, 1900, 1900, 1640, 1840, 1820, 1900, 1860, 1820, 1860, 1890, 1910, 1910, 1830, 1840, 1830, 1830, 1840, 1880, 1890, 1830, 1850, 1900, 1870, 1890, 1820, 1870, 1880, 1900, 1840, 1800, 1850, 1850, 1910, 1920, 1890, 1890, 1800, 1910, 1900, 1900, 1920, 1870, 1770, 1910, 1890, 1880, 1870, 1890, 1910, 1800, 1830, 1870, 1810, 1840, 1860, 1840, 1860, 1880, 1910, 1840, 1850, 1910, 1890, 1900, 1870, 1850, 1800, 1800, 1850, 1800, 1700, 1900, 1930, 1910, 1880, 1870, 1860, 1860, 1840, 1900, 1920, 1920, 1900, 1880, 1880, 1500, 1500, 1800, 1800, 1900, 1800, 1890, 1770, 1860, 1830, 1860, 1880, 1900, 1930, 1900, 1820, 1800, 1600, 1900, 1800, 1780, 1760, 1900, 1900, 1900, 1940, 1900, 1900, 1820, 1820, 1860, 1910, 1910, 1910, 1880, 1870, 1890, 1860, 1830, 1860, 1900, 1910, 1910, 1900, 1830, 1830, 1890, 1800, 1930, 900, 1910, 1910, 1880, 1860, 1880, 1890, 1910, 1910, 1830, 1830, 1830, 1830, 1820, 1850, 1880, 1890, 1890, 1900, 1900, 1940, 1850, 1880, 1830, 1810, 1860, 1880, 1610, 1890, 1850, 1910, 1930, 1880, 1820, 1890, 1820, 1840, 1800, 1800, 1800, 1890, 1900, 1940, 1810, 1810, 1920, 1720, 1940, 1820, 1870, 1890, 1840, 1920, 1870, 1650, 1880, 1830, 1770, 1860, 1840, 1860, 1910, 1820, 1600, 1800, 1770, 1800, 1800, 1800, 1890, 1850, 1800, 1700, 1900, 1890, 1880, 1870, 1920, 1830, 1830, 1830, 1830, 1880, 1890, 1840, 1850, 1870, 1840, 1920, 1800, 1820, 1840, 1840, 1790, 1850, 1880, 1880, 1890, 1830, 1890, 1880, 1890, 1890, 1800, 1900, 1790, 1820, 1720, 1770, 1850, 1910, 1870, 1800, 1880, 1920, 1860, 1890, 1890, 1840, 1830, 1860, 1800, 1860, 1840, 1860, 1900, 1870, 1850, 1880, 1870, 1910, 1890, 1920, 1920, 1830, 1900, 1900, 1930, 1880, 1810, 1100, 1500, 1800, 1800, 1800, 1800, 1890, 1890, 1920, 1920, 1700, 1100, 1100, 1880, 1890, 1880, 1880, 1900, 1870, 1850, 1850, 1880, 1870, 1870, 0, 600, 0, 1400, 600, 1100, 1700, 1740, 700, 600, 1700, 1700, 1100, 1880, 1700, 1830, 1930, 1820, 1870, 1880, 1830, 1780, 1850, 1860, 1880, 1870, 1920, 700, 1100, 1700, 1100, 1100, 1830, 1890, 1870, 1870, 1860, 1940, 1940, 1870, 1940, 1770, 1860, 1850, 1950, 1940, 1910, 1930, 1950, 1940, 1940, 1920, 1800, 1700, 1700, 1860, 1790, 1850, 1880, 1890, 1890, 1880, 1930, 1930, 1870, 1870, 1860, 1930, 1870, 1880, 1880, 1880, 1890, 1900, 1930, 1940, 1860, 1890, 1940, 1850, 1830, 1930, 1860, 1990, 1860, 1930, 1860, 1930, 1940, 1970, 1800, 1940, 1880, 1800, 1890, 1890, 1870, 1910, 1860, 1860, 1840, 1830, 1830, 1830, 1850, 1870, 1920, 0, 1700, 1700, 1880, 1860, 1900, 1910, 1890, 1910, 1910, 1900, 1830, 1830, 1830, 1860, 1880, 1850, 1900, 1910, 1900, 1800, 1930, 1880, 1900, 1850, 1870, 1900, 1890, 1870, 1860, 1860, 1860, 1830, 1880, 1880, 1890, 1910, 1890, 1900, 1760, 1900, 1810, 1920, 1890, 1910, 1830, 1830, 1820, 1900, 1880, 1910, 1850, 1890, 1850, 1920, 1870, 1880, 1900, 1910, 1900, 1850, 1860, 1900, 1870, 1830, 1860, 1830, 1870, 1850, 1860, 1890, 1930, 1930, 1900, 1890, 1920, 1920, 1870, 1910, 1850, 1540, 1760, 1800, 1800, 1900, 1900, 1700, 1860, 1820, 1840, 1840, 1860, 1850, 1870, 1870, 1850, 1930, 1900, 1880, 1700, 1900, 1930, 1880, 1760, 1860, 1770, 1780, 1800, 1910, 1900, 1900, 1900, 1870, 1820, 1920, 1880, 1880, 1910, 1800, 1920, 1880, 1920, 1910, 1810, 1840, 1850, 1970, 1800, 2000, 1800, 1800, 1960, 1950, 1800, 2000, 1920, 1960, 1990, 1960, 1870, 2010, 1940, 1960, 1890, 1940, 1960, 1740, 1850, 1970, 1800, 1700, 1800, 1810, 1880, 1770, 1920, 1880, 1890, 1880, 1880, 1900, 1920, 1920, 1840, 1890, 1900, 1850, 1880, 1850, 1890, 1830, 1820, 1830, 1100, 1100, 900, 1860, 1880, 1820, 1880, 1920, 1900, 1880, 1880, 1880, 1880, 1880, 1920, 1930, 1930, 1930, 1880, 1880, 1890, 1860, 1880, 1880, 1880, 1880, 1890, 1930, 1930, 1930, 1930, 1930, 1940, 1860, 1710, 1880, 1890, 1890, 1890, 1850, 1880, 1870, 1800, 1920, 1880, 1880, 1890, 1890, 1890, 1890, 1900, 1920, 1700, 700, 1970, 1870, 1890, 1880, 1930, 1820, 1900, 1750, 1860, 1850, 1920, 1880, 1860, 1890, 1830, 1800, 1910, 1900, 1910, 1930, 1910, 1880, 1900, 1910, 1800, 1900, 1850, 1890, 1700, 1700, 1900, 1930, 1880, 1950, 1990, 1830, 1860, 1960, 1950, 2000, 1800, 1800, 1800, 1820, 1830, 1830, 1820, 1850, 1850, 1890, 1940, 1830, 1870, 1860, 1860, 1930, 1830, 1800, 1900, 1930, 1920, 1870, 1810, 1860, 1930, 1930, 1820, 1800, 1910, 1850, 1880, 1880, 1890, 1890, 1930, 1870, 1940, 1860, 500, 1000, 1800, 1900, 1720, 1720, 1720, 1940, 1800, 1810, 1910, 1870, 1850, 1930, 1800, 1910, 1860, 1960, 1910, 1990, 1950, 1960, 1950, 1940, 1880, 1900, 1940, 1940, 1940, 1980, 1900, 1810, 1860, 1890, 1870, 1900, 1830, 1810, 1720, 1700, 1530, 1780, 1400, 1530, 1720, 1400, 1830, 1880, 1850, 1790, 1850, 1870, 1850, 1820, 1900, 1840, 600, 700, -2000, 0, -2000, -2000, 1700, 1830, 1780, 1910, 1810, 1970, 1980, 1980, 1930, 1950, 1880, 1930, 1970, 1910, 1960, 1800, 1940, 1940, 2010, 1780, 1850, 1950, 1900, 1940, 1940, 1970, 1960, 1940, 1990, 2010, 1930, 1900, 1950, 1940, 1980, 1950, 1930, 1840, 1860, 1960, 1990, 1960, 1930, 1950, 1800, 2000, 1910, 1930, 1910, 1870, 2010, 1720, 1720, 1720, 1720, 1720, 1400, -2000, -2000, -2000, -2000, -2000, -2000, 600, 0, 1970, 1910, 1920, 1910, 1970, 1900, 1920, 1960, 1940, 1930, 1900, 1970, 1850, 1900, 1940, 1970, 1850, 1840, 1960, 1960, 1980, 1910, 1920, 1920, 2000, 1900, 1910, 1850, 1950, 2000, 1990, 1860, 1880, 1910, 1810, 1810, 1800, 1910, 1900, 1930, 1800, 1920, 1930, 1800, 1920, 1950, 1600, 1940, 1970, 1810, 1910, 1940, 1980, 1800, 1880, 1910, 1970, 1940, 1850, 1780, 1770, 1910, 1870, 1860, 1950, 1950, 1960, 1970, 2010, 1830, 1940, 1840, 1900, 1980, 1800, 1950, 1880, 1840, 1800, 1830, 1830, 1840, 1910, 1850, 1790, 1810, 1920, 1880, 1900, 1900, 1830, 1910, 1910, 1920, 1910, 1840, 1750, 1860, 1880, 1830, 1830, 1830, 1870, 1900, 1830, 1900, 1900, 1880, 1910, 1890, 1900, 1900, 1840, 1700, 1700, 1700, 400, 500, -2000, -3000, -2000, 1100, -2000, 1800, 1840, 700, -2000, -2000, -1000, -2000, 600, 1700, 1700, 200, 1100, -2000, 1720, -2000, -2000, -2000, 1100, 1100, -2000, -2000, -2000, 100, -2000, -2000, -2000, -2000, -2000, -2000, -2000, 1700, 1700, -2000, -2000, 1700, 1300, 500, -2000, 1100, -2000, 0, 0, 1880, 1830, 1840, 1850, 1820, 1880, 1870, 1920, 1700, -2000, -2000, 0, 1700, 1700, 1700, 0, 0, 1740, 1100, 1100, 500, -2000, 1100, 1900, 1860, 1910, 1800, 1920, 1800, 1940, 1970, 1850, 1850, 1970, 1960, 1850, 1940, 1950, 2010, 1910, 1960, 2010, 1930, 1940, 1930, 1970, 1940, 2000, 1950, 1860, 1940, 1910, 1830, 1860, 1840, 1960, 1830, 1820, 1860, 1840, 1890, 1960, 1810, 1910, 1980, 1910, 1940, 1870, 1940, 1910, 1860, 1880, 1950, 1960, 1920, 1950, 1920, 1900, 2000, 1940, 2010, 1850, 1930, 1890, 1900, 1820, 1880, 1590, 1840, 1820, 1910, 1780, 1720, 1780, 1830, 1700, 500, -3000, -2000, -2000, 900, -2000, 1700, 1700, -3000, -2000, -2000, 1890, 1840, 1770, 1830, 1850, 1830, 1830, 1860, 1830, 1830, 1900, 1830, 1900, 1890, 1940, 1780, 1930, 1940, 1940, 1970, 1950, 1940, 1960, 1940, 1950, 1830, 1890, 1940, 2010, 1950, 1940, 1990, 1880, 1940, 1940, 1940, 1980, 1950, 1990, 1920, 1860, 1920, 1940, 1900, 1900, 1850, 1850, 1850, 1880, 1820, 1800, 1810, 1870, 1780, 1860, 1800, 1920, 1750, 1800, 1820, 1910, 1870, 1840, 1850, 1830, 500, 1740, 500, -2000, 500, -2000, -2000, -2000, 1910, 1940, 1910, 1860, 1860, 1860, 1800, 1900, 1810, 1910, 1790, 1870, 1890, 1840, 1910, 1820, 1900, 1990, 1800, 1940, 1850, 1810, 1820, 1870, 1960, 1930, 2000, 1940, 1870, 1810, 1700, 1880, 1870, 1880, 1870, 1970, 1960, 1860, 1950, 1970, 1880, 1960, 1880, 1910, 1960, 1800, 1910, 1850, 1920, 1960, 1700, 600, 1800, 1860, 1600, 1720, 1700, 1960, 1920, 1950, 1770, 2010, 1990, 1920, 1990, 1830, 2000, 1840, 1860, 1780, 1850, 1880, 1770, 1880, 1800, 1770, 1600, 1770, 1870, 1780, 1880, 500, 0, 1850, 1890, 1910, 1870, 1840, 1850, 1870, 1850, 1910, 1960, 1940, 1850, 1920, 1900, 1900, 1990, 1910, 1940, 1860, 1900, 1940, 2010, 1920, 1850, 1920, 1960, 1860, 1920, 1970, 1800, 1870, 1860, 1830, 1950, 1960, 1840, 1910, 1990, 1900, 1930, 1880, 1590, 1400, 1880, 1500, 1500, 1850, 1960, 1860, 1910, 1820, 1890, 1920, 1830, 1940, 1960, 1940, 1920, 1950, 1850, 1990, 1920, 1690, 1900, 1820, 1910, 1920, 1920, 1860, 1950, 1950, 1930, 1830, 1900, 1970, 1930, 2010, 1920, 1890, 1920, 1910, 1940, 1960, 1900, 1860, 1830, 1920, 1930, 1960, 1930, 1940, 1900, 2000, 1990, 1990, 1930, 1980, 1860, 1860, 1840, 1830, 1860, 1860, 1850, 1930, 1840, 1840, 1850, 1850, -2000, 500, 1870, 1840, 1860, 0, 0, 1860, 500, 1850, 1790, 1820, 1880, 0, 800, -3000, 600, 1100, -2000, 0, 0, 1890, 1920, 1920, 1810, 1830, 1960, 2000, 1910, 1880, 1870, 1970, 2010, 1920, 1990, 1880, 1940, 1920, 1970, 1920, 1910, 1920, 1860, 1800, 1840, 1920, 1970, 1990, 1920, 1810, 1830, 1870, 1870, 1990, 1780, 1970, 1930, 1970, 1980, 1980, 1990, 1960, 1930, 1900, 1940, 1800, 1960, 1960, 1990, 1840, 1960, 1850, 1880, 1810, 1880, 1810, 1830, 1860, 1890, 0, -1000, -2000, 1850, 1880, 1850, 1840, 1970, 1810, 1900, 1900, 1900, 1930, 1850, 1960, 1910, 1900, 1880, 1930, 1990, 1850, 1880, 1850, 1840, 1950, 1870, 1940, 1900, 1830, 1900, 1860, 1920, 1950, 1910, 1840, 1890, 1790, 1790, 1920, 1760, 1900, 1860, 1880, 1760, 1920, 1810, 1910, 1940, 1860, 1870, 1940, 1980, 1800, 1850, 1800, 1850, 1840, 1850, 1850, 1840, 1790, 1800, 1790, 1880, 1880, 1880, 1920, 1870, 1940, 1920, 1920, 1810, 1840, 1790, 1920, 2000, 1900, 1920, 1960, 2000, 2000, 1880, 1840, 1930, 1970, 1860, 1850, 1940, 1920, 1860, 2000, 1960, 1960, 1970, 1920, 1840, 1840, 1910, 1930, 1920, 1920, 500, 1800, 1590, 1900, 1960, 1910, 1960, 1930, 1920, 1990, 1950, 2000, 1850, 1990, 2010, 2000, 2010, 1920, 1400, 1700, 1500, 1800, 1500, 1810, 1830, 1870, 1840, -2000, 1920, 1920, 1920, 1920, 1920, 1920, 1920, 1940, 1940, 1940, 1960, 1960, 1950, 1970, 1960, 2010, 1760, 2000, 1970, 1810, 1940, 1960, 1960, 1920, 1990, 1920, 1990, 1990, 2000, 1850, -2000, -2000, 1720, 1940, 1950, 1930, 1990, 2000, 1930, 1990, 1960, 1960, 1960, 1940, 1990, 1900, 1990, 1980, 1910, 1850, 1850, 2000, 1840, 1940, 1860, 1880, 1920, 1920, 1920, 1920, 1920, 1700, 1970, 1910, 1910, 1860, 1920, 1940, 1970, 1840, 2000, 2000, 1950, 1920, 1930, 1840, 1920, 1970, 2010, 1950, 1960, 1980, 1980, 1890, 1880, 1920, 1940, 1930, 1910, 1930, 1990, 1980, 2010, 1940, 1870, 1860, 1850, 1790, 1920, 1920, 1920, 1920, 1920, 1920, 1920, 1720, 1100, 1400, 1800, 1720, 1930, 1860, 1920, 1960, 1850, 1940, 1960, 1990, 1980, 1890, 1960, 1860, 1830, 1910, 2000, 2000, 1970, 1960, 1990, 1960, 1890, 1950, 1940, 1840, 1800, 1940, 1940, 1920, 1940, 1970, 1950, 1940, 1910, 1950, 1920, 1940, 1890, 1850, 1910, 1870, 500, 1720, -1000, 1830, 1780, 1950, 1990, 1950, 1940, 1920, 1960, 1990, 1820, 1940, 1940, 2010, 1980, 1850, 1830, 1960, 1940, 1870, 1870, 1940, 1990, 1940, 1850, 1860, 1870, 1880, 1920, 1920, 1920, 1920, 1780, 1960, 1960, 1940, 1940, 1850, 1870, 1990, 1950, 1900, 1900, 2000, 2000, 1870, 1990, 1840, 1880, 1760, 1920, 1920, 1920, 1840, 1860, 1920, 2010, 2000, 1400, 1900, 1700, 1960, 1800, 1790, 1920, 1970, 1980, 1940, 1940, 1910, 1950, 1880, 1940, 1860, 1960, 1970, 1930, 1990, 1990, 1860, 1860, 1770, 1850, 500, 1970, 1960, 1960, 1840, 1830, 1980, 1860, 2010, 2010, 1860, 1870, 1870, 1920, 1840, 1890, 1970, 2010, 1940, 1920, 1990, 1800, 1940, 1590, 1940, 1930, 1590]\n",
            "[-3000, -2000, -1000, 0, 100, 200, 400, 500, 600, 700, 800, 900, 1000, 1100, 1300, 1400, 1500, 1530, 1540, 1590, 1600, 1610, 1640, 1650, 1690, 1700, 1710, 1720, 1740, 1750, 1760, 1770, 1780, 1790, 1800, 1810, 1820, 1830, 1840, 1850, 1860, 1870, 1880, 1890, 1900, 1910, 1920, 1930, 1940, 1950, 1960, 1970, 1980, 1990, 2000, 2010]\n"
          ]
        }
      ]
    },
    {
      "cell_type": "markdown",
      "source": [
        "# Connections"
      ],
      "metadata": {
        "id": "QI6S4jXiK0Ue"
      }
    },
    {
      "cell_type": "markdown",
      "source": [
        "\n",
        "## spaCy"
      ],
      "metadata": {
        "id": "NxTt0BKL92df"
      }
    },
    {
      "cell_type": "code",
      "source": [
        "!pip install -U pip setuptools wheel\n"
      ],
      "metadata": {
        "colab": {
          "base_uri": "https://localhost:8080/"
        },
        "id": "6i21jL5o98uf",
        "outputId": "9ad373e7-8a06-42b8-edd1-161d57b85565"
      },
      "execution_count": 79,
      "outputs": [
        {
          "output_type": "stream",
          "name": "stdout",
          "text": [
            "Requirement already satisfied: pip in /usr/local/lib/python3.7/dist-packages (21.3.1)\n",
            "Requirement already satisfied: setuptools in /usr/local/lib/python3.7/dist-packages (59.5.0)\n",
            "Requirement already satisfied: wheel in /usr/local/lib/python3.7/dist-packages (0.37.0)\n",
            "\u001b[33mWARNING: Running pip as the 'root' user can result in broken permissions and conflicting behaviour with the system package manager. It is recommended to use a virtual environment instead: https://pip.pypa.io/warnings/venv\u001b[0m\n"
          ]
        }
      ]
    },
    {
      "cell_type": "code",
      "source": [
        "!pip install -U spacy\n",
        "!python -m spacy download en_core_web_lg"
      ],
      "metadata": {
        "colab": {
          "base_uri": "https://localhost:8080/"
        },
        "id": "eYpODFoZ4WH0",
        "outputId": "8695c14f-21f2-4ae7-f1ec-8cca7dec29da"
      },
      "execution_count": 80,
      "outputs": [
        {
          "output_type": "stream",
          "name": "stdout",
          "text": [
            "Requirement already satisfied: spacy in /usr/local/lib/python3.7/dist-packages (3.2.1)\n",
            "Requirement already satisfied: catalogue<2.1.0,>=2.0.6 in /usr/local/lib/python3.7/dist-packages (from spacy) (2.0.6)\n",
            "Requirement already satisfied: preshed<3.1.0,>=3.0.2 in /usr/local/lib/python3.7/dist-packages (from spacy) (3.0.6)\n",
            "Requirement already satisfied: typer<0.5.0,>=0.3.0 in /usr/local/lib/python3.7/dist-packages (from spacy) (0.4.0)\n",
            "Requirement already satisfied: thinc<8.1.0,>=8.0.12 in /usr/local/lib/python3.7/dist-packages (from spacy) (8.0.13)\n",
            "Requirement already satisfied: typing-extensions<4.0.0.0,>=3.7.4 in /usr/local/lib/python3.7/dist-packages (from spacy) (3.10.0.2)\n",
            "Requirement already satisfied: packaging>=20.0 in /usr/local/lib/python3.7/dist-packages (from spacy) (21.3)\n",
            "Requirement already satisfied: requests<3.0.0,>=2.13.0 in /usr/local/lib/python3.7/dist-packages (from spacy) (2.23.0)\n",
            "Requirement already satisfied: numpy>=1.15.0 in /usr/local/lib/python3.7/dist-packages (from spacy) (1.19.5)\n",
            "Requirement already satisfied: spacy-loggers<2.0.0,>=1.0.0 in /usr/local/lib/python3.7/dist-packages (from spacy) (1.0.1)\n",
            "Requirement already satisfied: spacy-legacy<3.1.0,>=3.0.8 in /usr/local/lib/python3.7/dist-packages (from spacy) (3.0.8)\n",
            "Requirement already satisfied: pathy>=0.3.5 in /usr/local/lib/python3.7/dist-packages (from spacy) (0.6.1)\n",
            "Requirement already satisfied: murmurhash<1.1.0,>=0.28.0 in /usr/local/lib/python3.7/dist-packages (from spacy) (1.0.6)\n",
            "Requirement already satisfied: langcodes<4.0.0,>=3.2.0 in /usr/local/lib/python3.7/dist-packages (from spacy) (3.3.0)\n",
            "Requirement already satisfied: tqdm<5.0.0,>=4.38.0 in /usr/local/lib/python3.7/dist-packages (from spacy) (4.62.3)\n",
            "Requirement already satisfied: wasabi<1.1.0,>=0.8.1 in /usr/local/lib/python3.7/dist-packages (from spacy) (0.8.2)\n",
            "Requirement already satisfied: jinja2 in /usr/local/lib/python3.7/dist-packages (from spacy) (2.11.3)\n",
            "Requirement already satisfied: srsly<3.0.0,>=2.4.1 in /usr/local/lib/python3.7/dist-packages (from spacy) (2.4.2)\n",
            "Requirement already satisfied: pydantic!=1.8,!=1.8.1,<1.9.0,>=1.7.4 in /usr/local/lib/python3.7/dist-packages (from spacy) (1.8.2)\n",
            "Requirement already satisfied: setuptools in /usr/local/lib/python3.7/dist-packages (from spacy) (59.5.0)\n",
            "Requirement already satisfied: cymem<2.1.0,>=2.0.2 in /usr/local/lib/python3.7/dist-packages (from spacy) (2.0.6)\n",
            "Requirement already satisfied: blis<0.8.0,>=0.4.0 in /usr/local/lib/python3.7/dist-packages (from spacy) (0.4.1)\n",
            "Requirement already satisfied: zipp>=0.5 in /usr/local/lib/python3.7/dist-packages (from catalogue<2.1.0,>=2.0.6->spacy) (3.6.0)\n",
            "Requirement already satisfied: pyparsing!=3.0.5,>=2.0.2 in /usr/local/lib/python3.7/dist-packages (from packaging>=20.0->spacy) (3.0.6)\n",
            "Requirement already satisfied: smart-open<6.0.0,>=5.0.0 in /usr/local/lib/python3.7/dist-packages (from pathy>=0.3.5->spacy) (5.2.1)\n",
            "Requirement already satisfied: certifi>=2017.4.17 in /usr/local/lib/python3.7/dist-packages (from requests<3.0.0,>=2.13.0->spacy) (2021.10.8)\n",
            "Requirement already satisfied: chardet<4,>=3.0.2 in /usr/local/lib/python3.7/dist-packages (from requests<3.0.0,>=2.13.0->spacy) (3.0.4)\n",
            "Requirement already satisfied: idna<3,>=2.5 in /usr/local/lib/python3.7/dist-packages (from requests<3.0.0,>=2.13.0->spacy) (2.10)\n",
            "Requirement already satisfied: urllib3!=1.25.0,!=1.25.1,<1.26,>=1.21.1 in /usr/local/lib/python3.7/dist-packages (from requests<3.0.0,>=2.13.0->spacy) (1.24.3)\n",
            "Requirement already satisfied: click<9.0.0,>=7.1.1 in /usr/local/lib/python3.7/dist-packages (from typer<0.5.0,>=0.3.0->spacy) (7.1.2)\n",
            "Requirement already satisfied: MarkupSafe>=0.23 in /usr/local/lib/python3.7/dist-packages (from jinja2->spacy) (2.0.1)\n",
            "\u001b[33mWARNING: Running pip as the 'root' user can result in broken permissions and conflicting behaviour with the system package manager. It is recommended to use a virtual environment instead: https://pip.pypa.io/warnings/venv\u001b[0m\n",
            "Collecting en-core-web-lg==3.2.0\n",
            "  Downloading https://github.com/explosion/spacy-models/releases/download/en_core_web_lg-3.2.0/en_core_web_lg-3.2.0-py3-none-any.whl (777.4 MB)\n",
            "     |████████████████████████████████| 777.4 MB 5.2 kB/s             \n",
            "\u001b[?25hRequirement already satisfied: spacy<3.3.0,>=3.2.0 in /usr/local/lib/python3.7/dist-packages (from en-core-web-lg==3.2.0) (3.2.1)\n",
            "Requirement already satisfied: wasabi<1.1.0,>=0.8.1 in /usr/local/lib/python3.7/dist-packages (from spacy<3.3.0,>=3.2.0->en-core-web-lg==3.2.0) (0.8.2)\n",
            "Requirement already satisfied: spacy-loggers<2.0.0,>=1.0.0 in /usr/local/lib/python3.7/dist-packages (from spacy<3.3.0,>=3.2.0->en-core-web-lg==3.2.0) (1.0.1)\n",
            "Requirement already satisfied: requests<3.0.0,>=2.13.0 in /usr/local/lib/python3.7/dist-packages (from spacy<3.3.0,>=3.2.0->en-core-web-lg==3.2.0) (2.23.0)\n",
            "Requirement already satisfied: spacy-legacy<3.1.0,>=3.0.8 in /usr/local/lib/python3.7/dist-packages (from spacy<3.3.0,>=3.2.0->en-core-web-lg==3.2.0) (3.0.8)\n",
            "Requirement already satisfied: tqdm<5.0.0,>=4.38.0 in /usr/local/lib/python3.7/dist-packages (from spacy<3.3.0,>=3.2.0->en-core-web-lg==3.2.0) (4.62.3)\n",
            "Requirement already satisfied: murmurhash<1.1.0,>=0.28.0 in /usr/local/lib/python3.7/dist-packages (from spacy<3.3.0,>=3.2.0->en-core-web-lg==3.2.0) (1.0.6)\n",
            "Requirement already satisfied: langcodes<4.0.0,>=3.2.0 in /usr/local/lib/python3.7/dist-packages (from spacy<3.3.0,>=3.2.0->en-core-web-lg==3.2.0) (3.3.0)\n",
            "Requirement already satisfied: typer<0.5.0,>=0.3.0 in /usr/local/lib/python3.7/dist-packages (from spacy<3.3.0,>=3.2.0->en-core-web-lg==3.2.0) (0.4.0)\n",
            "Requirement already satisfied: packaging>=20.0 in /usr/local/lib/python3.7/dist-packages (from spacy<3.3.0,>=3.2.0->en-core-web-lg==3.2.0) (21.3)\n",
            "Requirement already satisfied: setuptools in /usr/local/lib/python3.7/dist-packages (from spacy<3.3.0,>=3.2.0->en-core-web-lg==3.2.0) (59.5.0)\n",
            "Requirement already satisfied: cymem<2.1.0,>=2.0.2 in /usr/local/lib/python3.7/dist-packages (from spacy<3.3.0,>=3.2.0->en-core-web-lg==3.2.0) (2.0.6)\n",
            "Requirement already satisfied: pydantic!=1.8,!=1.8.1,<1.9.0,>=1.7.4 in /usr/local/lib/python3.7/dist-packages (from spacy<3.3.0,>=3.2.0->en-core-web-lg==3.2.0) (1.8.2)\n",
            "Requirement already satisfied: blis<0.8.0,>=0.4.0 in /usr/local/lib/python3.7/dist-packages (from spacy<3.3.0,>=3.2.0->en-core-web-lg==3.2.0) (0.4.1)\n",
            "Requirement already satisfied: thinc<8.1.0,>=8.0.12 in /usr/local/lib/python3.7/dist-packages (from spacy<3.3.0,>=3.2.0->en-core-web-lg==3.2.0) (8.0.13)\n",
            "Requirement already satisfied: catalogue<2.1.0,>=2.0.6 in /usr/local/lib/python3.7/dist-packages (from spacy<3.3.0,>=3.2.0->en-core-web-lg==3.2.0) (2.0.6)\n",
            "Requirement already satisfied: numpy>=1.15.0 in /usr/local/lib/python3.7/dist-packages (from spacy<3.3.0,>=3.2.0->en-core-web-lg==3.2.0) (1.19.5)\n",
            "Requirement already satisfied: srsly<3.0.0,>=2.4.1 in /usr/local/lib/python3.7/dist-packages (from spacy<3.3.0,>=3.2.0->en-core-web-lg==3.2.0) (2.4.2)\n",
            "Requirement already satisfied: typing-extensions<4.0.0.0,>=3.7.4 in /usr/local/lib/python3.7/dist-packages (from spacy<3.3.0,>=3.2.0->en-core-web-lg==3.2.0) (3.10.0.2)\n",
            "Requirement already satisfied: preshed<3.1.0,>=3.0.2 in /usr/local/lib/python3.7/dist-packages (from spacy<3.3.0,>=3.2.0->en-core-web-lg==3.2.0) (3.0.6)\n",
            "Requirement already satisfied: jinja2 in /usr/local/lib/python3.7/dist-packages (from spacy<3.3.0,>=3.2.0->en-core-web-lg==3.2.0) (2.11.3)\n",
            "Requirement already satisfied: pathy>=0.3.5 in /usr/local/lib/python3.7/dist-packages (from spacy<3.3.0,>=3.2.0->en-core-web-lg==3.2.0) (0.6.1)\n",
            "Requirement already satisfied: zipp>=0.5 in /usr/local/lib/python3.7/dist-packages (from catalogue<2.1.0,>=2.0.6->spacy<3.3.0,>=3.2.0->en-core-web-lg==3.2.0) (3.6.0)\n",
            "Requirement already satisfied: pyparsing!=3.0.5,>=2.0.2 in /usr/local/lib/python3.7/dist-packages (from packaging>=20.0->spacy<3.3.0,>=3.2.0->en-core-web-lg==3.2.0) (3.0.6)\n",
            "Requirement already satisfied: smart-open<6.0.0,>=5.0.0 in /usr/local/lib/python3.7/dist-packages (from pathy>=0.3.5->spacy<3.3.0,>=3.2.0->en-core-web-lg==3.2.0) (5.2.1)\n",
            "Requirement already satisfied: certifi>=2017.4.17 in /usr/local/lib/python3.7/dist-packages (from requests<3.0.0,>=2.13.0->spacy<3.3.0,>=3.2.0->en-core-web-lg==3.2.0) (2021.10.8)\n",
            "Requirement already satisfied: idna<3,>=2.5 in /usr/local/lib/python3.7/dist-packages (from requests<3.0.0,>=2.13.0->spacy<3.3.0,>=3.2.0->en-core-web-lg==3.2.0) (2.10)\n",
            "Requirement already satisfied: urllib3!=1.25.0,!=1.25.1,<1.26,>=1.21.1 in /usr/local/lib/python3.7/dist-packages (from requests<3.0.0,>=2.13.0->spacy<3.3.0,>=3.2.0->en-core-web-lg==3.2.0) (1.24.3)\n",
            "Requirement already satisfied: chardet<4,>=3.0.2 in /usr/local/lib/python3.7/dist-packages (from requests<3.0.0,>=2.13.0->spacy<3.3.0,>=3.2.0->en-core-web-lg==3.2.0) (3.0.4)\n",
            "Requirement already satisfied: click<9.0.0,>=7.1.1 in /usr/local/lib/python3.7/dist-packages (from typer<0.5.0,>=0.3.0->spacy<3.3.0,>=3.2.0->en-core-web-lg==3.2.0) (7.1.2)\n",
            "Requirement already satisfied: MarkupSafe>=0.23 in /usr/local/lib/python3.7/dist-packages (from jinja2->spacy<3.3.0,>=3.2.0->en-core-web-lg==3.2.0) (2.0.1)\n",
            "\u001b[33mWARNING: Running pip as the 'root' user can result in broken permissions and conflicting behaviour with the system package manager. It is recommended to use a virtual environment instead: https://pip.pypa.io/warnings/venv\u001b[0m\n",
            "\u001b[38;5;2m✔ Download and installation successful\u001b[0m\n",
            "You can now load the package via spacy.load('en_core_web_lg')\n"
          ]
        }
      ]
    },
    {
      "cell_type": "code",
      "source": [
        "import spacy\n",
        "nlp = spacy.load(\"en_core_web_lg\")\n"
      ],
      "metadata": {
        "id": "AswuL1f2FN52"
      },
      "execution_count": 81,
      "outputs": []
    },
    {
      "cell_type": "markdown",
      "source": [
        "## Functions"
      ],
      "metadata": {
        "id": "Ia1csPvEGBuW"
      }
    },
    {
      "cell_type": "code",
      "source": [
        "# sentence1 = \" \".join(mylist[2000][\"object_type\"])\n",
        "# sentence2 = \" \".join(mylist[110][\"object_type\"])\n",
        "\n",
        "# doc1 = nlp(sentence1)\n",
        "# doc2 = nlp(sentence2)\n",
        "\n",
        "# print(sentence1)\n",
        "# print(sentence2)\n",
        "# print(doc1.similarity(doc2))"
      ],
      "metadata": {
        "id": "DTvZLMG1KONH"
      },
      "execution_count": 4,
      "outputs": []
    },
    {
      "cell_type": "code",
      "source": [
        "def get_similarity(list1, list2, category):\n",
        "\n",
        "  result = 0;\n",
        "\n",
        "  sentence1 = \" \".join(mylist[list1][category])\n",
        "  sentence2 = \" \".join(mylist[list2][category])\n",
        "\n",
        "  if (sentence1 != \"\" and sentence2 != \"\"):\n",
        "\n",
        "    doc1 = nlp(sentence1)\n",
        "    doc2 = nlp(sentence2)\n",
        "    result = doc1.similarity(doc2)\n",
        "\n",
        "  return result\n"
      ],
      "metadata": {
        "id": "c1i9hI5LLK59"
      },
      "execution_count": 5,
      "outputs": []
    },
    {
      "cell_type": "code",
      "source": [
        "def next_unit(prev_index):\n",
        "\n",
        "  count = 0;\n",
        "  next_index = [];\n",
        "  candidate = [];\n",
        "\n",
        "  for (index, item) in enumerate(mylist):\n",
        "\n",
        "    #make sure not the same unit\n",
        "    if ( mylist[prev_index][\"unit\"] != item[\"unit\"]):\n",
        "\n",
        "      #same date\n",
        "      if ( abs(item[\"date\"] - mylist[prev_index][\"date\"]) <= 10 ):\n",
        "        \n",
        "        result = get_similarity(prev_index, index, \"topic\")\n",
        "\n",
        "        if (result > 0.4):\n",
        "          candidate.append({\n",
        "              \"i\": index,\n",
        "              \"r\": result\n",
        "          })\n",
        "\n",
        "  candidate.sort(key=lambda k : k['r'], reverse=True)\n",
        "\n",
        "  for item in candidate:\n",
        "\n",
        "    if ((count == 0) or (mylist[next_index[0]][\"unit\"] != mylist[item[\"i\"]][\"unit\"])):\n",
        "      count += 1;\n",
        "      next_index.append(item[\"i\"])\n",
        "    \n",
        "    if (count == 2):\n",
        "      break;\n",
        "\n",
        "  if count == 1:\n",
        "    next_index.append(1)\n",
        "  elif count==0:\n",
        "    next_index.append(1)\n",
        "    next_index.append(2)\n",
        "\n",
        "  return next_index\n",
        "\n",
        "\n"
      ],
      "metadata": {
        "id": "be_12vYOJlbj"
      },
      "execution_count": 6,
      "outputs": []
    },
    {
      "cell_type": "code",
      "source": [
        "def next_date_remedy(direction, prev_index):\n",
        "  candidate = []\n",
        "\n",
        "  for (index, item) in enumerate(mylist):\n",
        "\n",
        "      #find date on the left\n",
        "      if ( (item[\"date\"] - mylist[prev_index][\"date\"]) * direction >= 10 ):\n",
        "\n",
        "        result = get_similarity(prev_index, index, \"topic\")\n",
        " \n",
        "        if (result > 0.6):\n",
        "          candidate.append({\n",
        "              \"i\": index,\n",
        "              \"r\": result\n",
        "          })\n",
        "\n",
        "  if(len(candidate) > 0):\n",
        "    candidate.sort(key=lambda k : k['r'], reverse=True)\n",
        "    return candidate[0][\"i\"]\n",
        "  else:\n",
        "    return 3000\n"
      ],
      "metadata": {
        "id": "PHgVsNaNzdAf"
      },
      "execution_count": 7,
      "outputs": []
    },
    {
      "cell_type": "code",
      "source": [
        "def next_date(prev_index):\n",
        "  next_index = [];\n",
        "  candidate1 = [];\n",
        "  candidate2 = [];\n",
        "\n",
        "  for (index, item) in enumerate(mylist):\n",
        "    \n",
        "    #same unit\n",
        "    if ( mylist[prev_index][\"unit\"] == item[\"unit\"]):\n",
        "\n",
        "      #find date on the left\n",
        "      if ( item[\"date\"] - mylist[prev_index][\"date\"] <= -10 ):\n",
        "\n",
        "        result = get_similarity(prev_index, index, \"topic\")\n",
        " \n",
        "        if (result > 0.6):\n",
        "          candidate1.append({\n",
        "              \"i\": index,\n",
        "              \"r\": result\n",
        "          })\n",
        "      \n",
        "      #find date on the right\n",
        "      if ( item[\"date\"] - mylist[prev_index][\"date\"] >= 10 ):\n",
        "\n",
        "        result = get_similarity(prev_index, index, \"topic\")\n",
        "\n",
        "        if (result > 0.6):\n",
        "          candidate2.append({\n",
        "              \"i\": index,\n",
        "              \"r\": result\n",
        "          })\n",
        "\n",
        "  if (len(candidate1)>0):\n",
        "    candidate1.sort(key=lambda k : k['r'], reverse=True)\n",
        "    next_index.append(candidate1[0][\"i\"])\n",
        "  else:\n",
        "    next_index.append(next_date_remedy(-1, prev_index))\n",
        "    \n",
        "  if (len(candidate2)>0):\n",
        "    candidate2.sort(key=lambda k : k['r'], reverse=True)\n",
        "    next_index.append(candidate2[0][\"i\"])\n",
        "  else:\n",
        "    next_index.append(next_date_remedy(1, prev_index))\n",
        "\n",
        "  return next_index \n",
        "\n",
        "\n"
      ],
      "metadata": {
        "id": "WyxySfHYJbue"
      },
      "execution_count": 8,
      "outputs": []
    },
    {
      "cell_type": "code",
      "source": [
        "def next_topic(prev_index):\n",
        "\n",
        "  next_index = [];\n",
        "  candidate = [];\n",
        "\n",
        "  for (index, item) in enumerate(mylist):\n",
        "    \n",
        "    #same unit and date\n",
        "    if ( mylist[prev_index][\"unit\"] == item[\"unit\"] and  mylist[prev_index][\"date\"] == item[\"date\"] and index != prev_index):\n",
        "\n",
        "      #find nearest topic\n",
        "      result = get_similarity(prev_index, index, \"topic\")\n",
        "\n",
        "      if (result > 0.6):\n",
        "        candidate.append({\n",
        "            \"i\": index,\n",
        "            \"r\": result\n",
        "        })  \n",
        "  \n",
        "\n",
        "  if (len(candidate)>0):\n",
        "    candidate.sort(key=lambda k : k['r'], reverse=True)\n",
        "\n",
        "  if (len(candidate)>=2):\n",
        "    next_index.append(candidate[0][\"i\"])\n",
        "    next_index.append(candidate[1][\"i\"])\n",
        "\n",
        "  elif (len(candidate)==1):\n",
        "    next_index.append(1)\n",
        "    next_index.append(candidate[0][\"i\"])\n",
        "  else:\n",
        "    next_index.append(1)\n",
        "    next_index.append(1)\n",
        "\n",
        "\n",
        "  return next_index"
      ],
      "metadata": {
        "id": "MuIiP5QsibMt"
      },
      "execution_count": 9,
      "outputs": []
    },
    {
      "cell_type": "code",
      "source": [
        "    ##check see if id exist:\n",
        "    # Create a list of all values in list of dictionaries\n",
        "    # value = 2723\n",
        "    # list_of_all_idx = [elem[\"info\"][\"index\"] for elem in NODES]\n",
        "    # if value in list_of_all_idx:\n",
        "    #   print('exsit')\n",
        "    # else:\n",
        "    #   print('not')"
      ],
      "metadata": {
        "id": "Sb71RLpvzp6F"
      },
      "execution_count": 10,
      "outputs": []
    },
    {
      "cell_type": "code",
      "source": [
        "def init_node(index):\n",
        "\n",
        "  new_neighbor = {\n",
        "          \"info\":{\n",
        "              \"id\": mylist[index][\"id\"],\n",
        "              \"index\": index\n",
        "          },\n",
        "          \"time\":{\n",
        "              \"left\":[],\n",
        "              \"right\":[]\n",
        "          },\n",
        "            \"institute\":{\n",
        "              \"left\":[],\n",
        "              \"right\":[]\n",
        "          },\n",
        "            \"theme\":{\n",
        "              \"left\":[],\n",
        "              \"right\":[]\n",
        "          }\n",
        "      }\n",
        "      \n",
        "  return new_neighbor"
      ],
      "metadata": {
        "id": "tVDTPHwV2bT6"
      },
      "execution_count": 11,
      "outputs": []
    },
    {
      "cell_type": "code",
      "source": [
        "# def add_node(index, direction, left_or_right, next_update , output):\n",
        "\n",
        "#   ## first check if node exist\n",
        "#   value = index\n",
        "#   list_of_all_idx = [elem[\"info\"][\"index\"] for elem in output]\n",
        "\n",
        "#   if value not in list_of_all_values:\n",
        "#     #init\n",
        "#     output_0 = output.append(init_node(index)); \n",
        "\n",
        "\n",
        "#   #update\n",
        "#   output_1 = update_node(index, direction, left_or_right, next_update, output )\n",
        "\n",
        "#   return output_1"
      ],
      "metadata": {
        "id": "oojiI2Y_2SL-"
      },
      "execution_count": 12,
      "outputs": []
    },
    {
      "cell_type": "code",
      "source": [
        "def update_node(index, direction, left_or_right, index_to_update, output):\n",
        "  # id = mylist[index][\"id\"]\n",
        "\n",
        "  if (left_or_right == 0):\n",
        "    dir = \"left\"\n",
        "  else:\n",
        "    dir = \"right\"\n",
        "\n",
        "  for item in output:\n",
        "    if (item[\"info\"][\"index\"] == index):\n",
        "\n",
        "      if (item[direction][dir] == []):\n",
        "        item[direction][dir].append({\n",
        "            \"id\":mylist[index_to_update][\"id\"],\n",
        "            \"index\":index_to_update\n",
        "        }) \n",
        " \n",
        "  return output"
      ],
      "metadata": {
        "id": "RgDirnhz0tQu"
      },
      "execution_count": 13,
      "outputs": []
    },
    {
      "cell_type": "code",
      "source": [
        "def both_node_update(index, next_index, direction, left_or_right, output):\n",
        "\n",
        "  if (left_or_right == 0):\n",
        "    right_or_left = 1\n",
        "  else:\n",
        "    right_or_left = 0\n",
        "\n",
        "  ##first confirm if the other side's node exist:\n",
        "\n",
        "  value = next_index\n",
        "  list_of_all_idx = [elem[\"info\"][\"index\"] for elem in output]\n",
        "\n",
        "  if value not in list_of_all_idx:\n",
        "    output.append(init_node(value))\n",
        "    print('newbie', value)\n",
        "\n",
        "  ##if exist, is available?\n",
        "  if (node_available(next_index, direction, right_or_left, output) == True):\n",
        "\n",
        "    ##update this node\n",
        "    output = update_node(index, direction, left_or_right, next_index, output)\n",
        "\n",
        "    ##update the other side \n",
        "    output = update_node(next_index, direction, right_or_left, index, output)\n",
        "\n",
        "  return output\n"
      ],
      "metadata": {
        "id": "jYgJdSil5ehU"
      },
      "execution_count": 14,
      "outputs": []
    },
    {
      "cell_type": "code",
      "source": [
        "def left_right_node_update(index, direction, next_update_list, output):\n",
        "  ## first check if this node available\n",
        "  \n",
        "  #left:\n",
        "  if (node_available(index, direction, 0, output) == True):\n",
        "    output = both_node_update(index, next_update_list[0], direction, 0 ,output)\n",
        "\n",
        "  #right:\n",
        "  if (node_available(index, direction, 1, output) == True):\n",
        "    output = both_node_update(index, next_update_list[1], direction, 1, output)\n",
        "\n",
        "  return output"
      ],
      "metadata": {
        "id": "3ZSpFQ3t85g6"
      },
      "execution_count": 15,
      "outputs": []
    },
    {
      "cell_type": "code",
      "source": [
        "def node_available(index, direction, left_or_right, output):\n",
        "\n",
        "\n",
        "  if (left_or_right == 0):\n",
        "    dir = \"left\"\n",
        "  else:\n",
        "    dir = \"right\"\n",
        "\n",
        "  for item in output:\n",
        "    if (item[\"info\"][\"index\"] == index):\n",
        "   \n",
        "      if (item[direction][dir] == []):\n",
        "\n",
        "        return True;\n",
        "        break;\n",
        "\n",
        "      else:\n",
        "        return False;\n",
        "        break;\n",
        "\n"
      ],
      "metadata": {
        "id": "xjUH0Y1bBMiu"
      },
      "execution_count": 16,
      "outputs": []
    },
    {
      "cell_type": "code",
      "source": [
        "def get_neighbor(index, output):\n",
        "      \n",
        "    to_get_list = []\n",
        "\n",
        "    date = next_date(index)\n",
        "    unit = next_unit(index)\n",
        "    topic = next_topic(index)\n",
        "\n",
        "    to_get_list.extend(date)\n",
        "    to_get_list.extend(unit)\n",
        "    to_get_list.extend(topic)\n",
        "\n",
        "    print(to_get_list)\n",
        "\n",
        "    # check see if id exist:\n",
        "    value = index\n",
        "    list_of_all_idx = [elem[\"info\"][\"index\"] for elem in output]\n",
        "\n",
        "    if value not in list_of_all_idx:\n",
        "      output.append(init_node(value))\n",
        "      print('newbie', value)\n",
        "    \n",
        "    ## update three directions\n",
        "    output = left_right_node_update(index, \"time\", date, output)\n",
        "    output = left_right_node_update(index, \"institute\", unit, output)\n",
        "    output = left_right_node_update(index, \"theme\", topic, output)\n",
        "\n",
        "    return (output, to_get_list)\n",
        "      "
      ],
      "metadata": {
        "id": "BJL27PiMxKgK"
      },
      "execution_count": 17,
      "outputs": []
    },
    {
      "cell_type": "code",
      "source": [
        "def get_connections(list, output):\n",
        "  for index in list:\n",
        "    output, next_list = get_neighbor(index, output)\n",
        "\n",
        "    print(next_list)\n",
        "\n",
        "  return output"
      ],
      "metadata": {
        "id": "J1bi3Q-YItJk"
      },
      "execution_count": 18,
      "outputs": []
    },
    {
      "cell_type": "markdown",
      "source": [
        "## Runtime"
      ],
      "metadata": {
        "id": "w6ecH3mJGNBQ"
      }
    },
    {
      "cell_type": "code",
      "source": [
        "testing = []\n",
        "\n",
        "result, next_list = get_neighbor(2723, testing)\n",
        "\n",
        "print(result)\n",
        "print(next_list)"
      ],
      "metadata": {
        "colab": {
          "base_uri": "https://localhost:8080/"
        },
        "id": "LoU58zLDAi3D",
        "outputId": "83b6bcb6-4814-45a2-c007-2f193c2efb07"
      },
      "execution_count": 320,
      "outputs": [
        {
          "output_type": "stream",
          "name": "stdout",
          "text": [
            "[2719, 2511, 1337, 1967, 2541, 2256]\n",
            "newbie 2723\n",
            "newbie 2719\n",
            "newbie 2511\n",
            "newbie 1337\n",
            "newbie 1967\n",
            "newbie 2541\n",
            "newbie 2256\n",
            "[{'info': {'id': 'edanmdm-npg_NPG.2015.136', 'index': 2723}, 'time': {'left': [{'id': 'edanmdm-npg_NPG.2019.5', 'index': 2719}], 'right': [{'id': 'edanmdm-nmaahc_2007.3.37', 'index': 2511}]}, 'institute': {'left': [{'id': 'edanmdm-saam_1983.95.201', 'index': 1337}], 'right': [{'id': 'edanmdm-nmaahc_2011.90', 'index': 1967}]}, 'theme': {'left': [{'id': 'edanmdm-npg_NPG.93.272', 'index': 2541}], 'right': [{'id': 'edanmdm-npg_NPG.99.3', 'index': 2256}]}}, {'info': {'id': 'edanmdm-npg_NPG.2019.5', 'index': 2719}, 'time': {'left': [], 'right': [{'id': 'edanmdm-npg_NPG.2015.136', 'index': 2723}]}, 'institute': {'left': [], 'right': []}, 'theme': {'left': [], 'right': []}}, {'info': {'id': 'edanmdm-nmaahc_2007.3.37', 'index': 2511}, 'time': {'left': [{'id': 'edanmdm-npg_NPG.2015.136', 'index': 2723}], 'right': []}, 'institute': {'left': [], 'right': []}, 'theme': {'left': [], 'right': []}}, {'info': {'id': 'edanmdm-saam_1983.95.201', 'index': 1337}, 'time': {'left': [], 'right': []}, 'institute': {'left': [], 'right': [{'id': 'edanmdm-npg_NPG.2015.136', 'index': 2723}]}, 'theme': {'left': [], 'right': []}}, {'info': {'id': 'edanmdm-nmaahc_2011.90', 'index': 1967}, 'time': {'left': [], 'right': []}, 'institute': {'left': [{'id': 'edanmdm-npg_NPG.2015.136', 'index': 2723}], 'right': []}, 'theme': {'left': [], 'right': []}}, {'info': {'id': 'edanmdm-npg_NPG.93.272', 'index': 2541}, 'time': {'left': [], 'right': []}, 'institute': {'left': [], 'right': []}, 'theme': {'left': [], 'right': [{'id': 'edanmdm-npg_NPG.2015.136', 'index': 2723}]}}, {'info': {'id': 'edanmdm-npg_NPG.99.3', 'index': 2256}, 'time': {'left': [], 'right': []}, 'institute': {'left': [], 'right': []}, 'theme': {'left': [{'id': 'edanmdm-npg_NPG.2015.136', 'index': 2723}], 'right': []}}]\n",
            "[2719, 2511, 1337, 1967, 2541, 2256]\n"
          ]
        }
      ]
    },
    {
      "cell_type": "code",
      "source": [
        "moreresult = get_connections([2719, 2511, 1337, 1967, 2541, 2256], result)\n",
        "moreresult"
      ],
      "metadata": {
        "colab": {
          "base_uri": "https://localhost:8080/"
        },
        "id": "C1gF7g92J2tq",
        "outputId": "b0a8426a-ce4e-49fc-fe83-067be8299885"
      },
      "execution_count": 321,
      "outputs": [
        {
          "output_type": "stream",
          "name": "stdout",
          "text": [
            "[2558, 2723, 1182, 2250, 2691, 1496]\n",
            "newbie 2558\n",
            "newbie 1182\n",
            "newbie 2250\n",
            "newbie 2691\n",
            "newbie 1496\n",
            "[{'info': {'id': 'edanmdm-npg_NPG.2015.136', 'index': 2723}, 'time': {'left': [{'id': 'edanmdm-npg_NPG.2019.5', 'index': 2719}], 'right': [{'id': 'edanmdm-nmaahc_2007.3.37', 'index': 2511}]}, 'institute': {'left': [{'id': 'edanmdm-saam_1983.95.201', 'index': 1337}], 'right': [{'id': 'edanmdm-nmaahc_2011.90', 'index': 1967}]}, 'theme': {'left': [{'id': 'edanmdm-npg_NPG.93.272', 'index': 2541}], 'right': [{'id': 'edanmdm-npg_NPG.99.3', 'index': 2256}]}}, {'info': {'id': 'edanmdm-npg_NPG.2019.5', 'index': 2719}, 'time': {'left': [{'id': 'edanmdm-npg_NPG.84.34', 'index': 2558}], 'right': [{'id': 'edanmdm-npg_NPG.2015.136', 'index': 2723}]}, 'institute': {'left': [{'id': 'edanmdm-saam_1958.11.14', 'index': 1182}], 'right': [{'id': 'edanmdm-nmaahc_2014.102', 'index': 2250}]}, 'theme': {'left': [{'id': 'edanmdm-npg_NPG.2016.125', 'index': 2691}], 'right': [{'id': 'edanmdm-npg_NPG.77.244', 'index': 1496}]}}, {'info': {'id': 'edanmdm-nmaahc_2007.3.37', 'index': 2511}, 'time': {'left': [{'id': 'edanmdm-npg_NPG.2015.136', 'index': 2723}], 'right': []}, 'institute': {'left': [], 'right': []}, 'theme': {'left': [], 'right': []}}, {'info': {'id': 'edanmdm-saam_1983.95.201', 'index': 1337}, 'time': {'left': [], 'right': []}, 'institute': {'left': [], 'right': [{'id': 'edanmdm-npg_NPG.2015.136', 'index': 2723}]}, 'theme': {'left': [], 'right': []}}, {'info': {'id': 'edanmdm-nmaahc_2011.90', 'index': 1967}, 'time': {'left': [], 'right': []}, 'institute': {'left': [{'id': 'edanmdm-npg_NPG.2015.136', 'index': 2723}], 'right': []}, 'theme': {'left': [], 'right': []}}, {'info': {'id': 'edanmdm-npg_NPG.93.272', 'index': 2541}, 'time': {'left': [], 'right': []}, 'institute': {'left': [], 'right': []}, 'theme': {'left': [], 'right': [{'id': 'edanmdm-npg_NPG.2015.136', 'index': 2723}]}}, {'info': {'id': 'edanmdm-npg_NPG.99.3', 'index': 2256}, 'time': {'left': [], 'right': []}, 'institute': {'left': [], 'right': []}, 'theme': {'left': [{'id': 'edanmdm-npg_NPG.2015.136', 'index': 2723}], 'right': []}}, {'info': {'id': 'edanmdm-npg_NPG.84.34', 'index': 2558}, 'time': {'left': [], 'right': [{'id': 'edanmdm-npg_NPG.2019.5', 'index': 2719}]}, 'institute': {'left': [], 'right': []}, 'theme': {'left': [], 'right': []}}, {'info': {'id': 'edanmdm-saam_1958.11.14', 'index': 1182}, 'time': {'left': [], 'right': []}, 'institute': {'left': [], 'right': [{'id': 'edanmdm-npg_NPG.2019.5', 'index': 2719}]}, 'theme': {'left': [], 'right': []}}, {'info': {'id': 'edanmdm-nmaahc_2014.102', 'index': 2250}, 'time': {'left': [], 'right': []}, 'institute': {'left': [{'id': 'edanmdm-npg_NPG.2019.5', 'index': 2719}], 'right': []}, 'theme': {'left': [], 'right': []}}, {'info': {'id': 'edanmdm-npg_NPG.2016.125', 'index': 2691}, 'time': {'left': [], 'right': []}, 'institute': {'left': [], 'right': []}, 'theme': {'left': [], 'right': [{'id': 'edanmdm-npg_NPG.2019.5', 'index': 2719}]}}, {'info': {'id': 'edanmdm-npg_NPG.77.244', 'index': 1496}, 'time': {'left': [], 'right': []}, 'institute': {'left': [], 'right': []}, 'theme': {'left': [{'id': 'edanmdm-npg_NPG.2019.5', 'index': 2719}], 'right': []}}] [2558, 2723, 1182, 2250, 2691, 1496]\n",
            "[2411, 2740, 2009, 2229, 2709, 2632]\n",
            "newbie 2740\n",
            "newbie 2009\n",
            "newbie 2229\n",
            "newbie 2709\n",
            "newbie 2632\n",
            "[{'info': {'id': 'edanmdm-npg_NPG.2015.136', 'index': 2723}, 'time': {'left': [{'id': 'edanmdm-npg_NPG.2019.5', 'index': 2719}], 'right': [{'id': 'edanmdm-nmaahc_2007.3.37', 'index': 2511}]}, 'institute': {'left': [{'id': 'edanmdm-saam_1983.95.201', 'index': 1337}], 'right': [{'id': 'edanmdm-nmaahc_2011.90', 'index': 1967}]}, 'theme': {'left': [{'id': 'edanmdm-npg_NPG.93.272', 'index': 2541}], 'right': [{'id': 'edanmdm-npg_NPG.99.3', 'index': 2256}]}}, {'info': {'id': 'edanmdm-npg_NPG.2019.5', 'index': 2719}, 'time': {'left': [{'id': 'edanmdm-npg_NPG.84.34', 'index': 2558}], 'right': [{'id': 'edanmdm-npg_NPG.2015.136', 'index': 2723}]}, 'institute': {'left': [{'id': 'edanmdm-saam_1958.11.14', 'index': 1182}], 'right': [{'id': 'edanmdm-nmaahc_2014.102', 'index': 2250}]}, 'theme': {'left': [{'id': 'edanmdm-npg_NPG.2016.125', 'index': 2691}], 'right': [{'id': 'edanmdm-npg_NPG.77.244', 'index': 1496}]}}, {'info': {'id': 'edanmdm-nmaahc_2007.3.37', 'index': 2511}, 'time': {'left': [{'id': 'edanmdm-npg_NPG.2015.136', 'index': 2723}], 'right': [{'id': 'edanmdm-nmaahc_2015.19.3.1-.2', 'index': 2740}]}, 'institute': {'left': [{'id': 'edanmdm-nmah_375161', 'index': 2009}], 'right': [{'id': 'edanmdm-npg_NPG.69.54', 'index': 2229}]}, 'theme': {'left': [{'id': 'edanmdm-nmaahc_2007.3.35', 'index': 2709}], 'right': [{'id': 'edanmdm-nmaahc_2007.3.36', 'index': 2632}]}}, {'info': {'id': 'edanmdm-saam_1983.95.201', 'index': 1337}, 'time': {'left': [], 'right': []}, 'institute': {'left': [], 'right': [{'id': 'edanmdm-npg_NPG.2015.136', 'index': 2723}]}, 'theme': {'left': [], 'right': []}}, {'info': {'id': 'edanmdm-nmaahc_2011.90', 'index': 1967}, 'time': {'left': [], 'right': []}, 'institute': {'left': [{'id': 'edanmdm-npg_NPG.2015.136', 'index': 2723}], 'right': []}, 'theme': {'left': [], 'right': []}}, {'info': {'id': 'edanmdm-npg_NPG.93.272', 'index': 2541}, 'time': {'left': [], 'right': []}, 'institute': {'left': [], 'right': []}, 'theme': {'left': [], 'right': [{'id': 'edanmdm-npg_NPG.2015.136', 'index': 2723}]}}, {'info': {'id': 'edanmdm-npg_NPG.99.3', 'index': 2256}, 'time': {'left': [], 'right': []}, 'institute': {'left': [], 'right': []}, 'theme': {'left': [{'id': 'edanmdm-npg_NPG.2015.136', 'index': 2723}], 'right': []}}, {'info': {'id': 'edanmdm-npg_NPG.84.34', 'index': 2558}, 'time': {'left': [], 'right': [{'id': 'edanmdm-npg_NPG.2019.5', 'index': 2719}]}, 'institute': {'left': [], 'right': []}, 'theme': {'left': [], 'right': []}}, {'info': {'id': 'edanmdm-saam_1958.11.14', 'index': 1182}, 'time': {'left': [], 'right': []}, 'institute': {'left': [], 'right': [{'id': 'edanmdm-npg_NPG.2019.5', 'index': 2719}]}, 'theme': {'left': [], 'right': []}}, {'info': {'id': 'edanmdm-nmaahc_2014.102', 'index': 2250}, 'time': {'left': [], 'right': []}, 'institute': {'left': [{'id': 'edanmdm-npg_NPG.2019.5', 'index': 2719}], 'right': []}, 'theme': {'left': [], 'right': []}}, {'info': {'id': 'edanmdm-npg_NPG.2016.125', 'index': 2691}, 'time': {'left': [], 'right': []}, 'institute': {'left': [], 'right': []}, 'theme': {'left': [], 'right': [{'id': 'edanmdm-npg_NPG.2019.5', 'index': 2719}]}}, {'info': {'id': 'edanmdm-npg_NPG.77.244', 'index': 1496}, 'time': {'left': [], 'right': []}, 'institute': {'left': [], 'right': []}, 'theme': {'left': [{'id': 'edanmdm-npg_NPG.2019.5', 'index': 2719}], 'right': []}}, {'info': {'id': 'edanmdm-nmaahc_2015.19.3.1-.2', 'index': 2740}, 'time': {'left': [{'id': 'edanmdm-nmaahc_2007.3.37', 'index': 2511}], 'right': []}, 'institute': {'left': [], 'right': []}, 'theme': {'left': [], 'right': []}}, {'info': {'id': 'edanmdm-nmah_375161', 'index': 2009}, 'time': {'left': [], 'right': []}, 'institute': {'left': [], 'right': [{'id': 'edanmdm-nmaahc_2007.3.37', 'index': 2511}]}, 'theme': {'left': [], 'right': []}}, {'info': {'id': 'edanmdm-npg_NPG.69.54', 'index': 2229}, 'time': {'left': [], 'right': []}, 'institute': {'left': [{'id': 'edanmdm-nmaahc_2007.3.37', 'index': 2511}], 'right': []}, 'theme': {'left': [], 'right': []}}, {'info': {'id': 'edanmdm-nmaahc_2007.3.35', 'index': 2709}, 'time': {'left': [], 'right': []}, 'institute': {'left': [], 'right': []}, 'theme': {'left': [], 'right': [{'id': 'edanmdm-nmaahc_2007.3.37', 'index': 2511}]}}, {'info': {'id': 'edanmdm-nmaahc_2007.3.36', 'index': 2632}, 'time': {'left': [], 'right': []}, 'institute': {'left': [], 'right': []}, 'theme': {'left': [{'id': 'edanmdm-nmaahc_2007.3.37', 'index': 2511}], 'right': []}}] [2411, 2740, 2009, 2229, 2709, 2632]\n",
            "[1818, 1167, 1157, 2691, 985, 1868]\n",
            "newbie 1818\n",
            "newbie 1167\n",
            "newbie 1157\n",
            "newbie 985\n",
            "newbie 1868\n",
            "[{'info': {'id': 'edanmdm-npg_NPG.2015.136', 'index': 2723}, 'time': {'left': [{'id': 'edanmdm-npg_NPG.2019.5', 'index': 2719}], 'right': [{'id': 'edanmdm-nmaahc_2007.3.37', 'index': 2511}]}, 'institute': {'left': [{'id': 'edanmdm-saam_1983.95.201', 'index': 1337}], 'right': [{'id': 'edanmdm-nmaahc_2011.90', 'index': 1967}]}, 'theme': {'left': [{'id': 'edanmdm-npg_NPG.93.272', 'index': 2541}], 'right': [{'id': 'edanmdm-npg_NPG.99.3', 'index': 2256}]}}, {'info': {'id': 'edanmdm-npg_NPG.2019.5', 'index': 2719}, 'time': {'left': [{'id': 'edanmdm-npg_NPG.84.34', 'index': 2558}], 'right': [{'id': 'edanmdm-npg_NPG.2015.136', 'index': 2723}]}, 'institute': {'left': [{'id': 'edanmdm-saam_1958.11.14', 'index': 1182}], 'right': [{'id': 'edanmdm-nmaahc_2014.102', 'index': 2250}]}, 'theme': {'left': [{'id': 'edanmdm-npg_NPG.2016.125', 'index': 2691}], 'right': [{'id': 'edanmdm-npg_NPG.77.244', 'index': 1496}]}}, {'info': {'id': 'edanmdm-nmaahc_2007.3.37', 'index': 2511}, 'time': {'left': [{'id': 'edanmdm-npg_NPG.2015.136', 'index': 2723}], 'right': [{'id': 'edanmdm-nmaahc_2015.19.3.1-.2', 'index': 2740}]}, 'institute': {'left': [{'id': 'edanmdm-nmah_375161', 'index': 2009}], 'right': [{'id': 'edanmdm-npg_NPG.69.54', 'index': 2229}]}, 'theme': {'left': [{'id': 'edanmdm-nmaahc_2007.3.35', 'index': 2709}], 'right': [{'id': 'edanmdm-nmaahc_2007.3.36', 'index': 2632}]}}, {'info': {'id': 'edanmdm-saam_1983.95.201', 'index': 1337}, 'time': {'left': [{'id': 'edanmdm-saam_XX23', 'index': 1818}], 'right': [{'id': 'edanmdm-saam_1952.13.72', 'index': 1167}]}, 'institute': {'left': [{'id': 'edanmdm-nmaahc_2016.48.49.5', 'index': 1157}], 'right': [{'id': 'edanmdm-npg_NPG.2015.136', 'index': 2723}]}, 'theme': {'left': [{'id': 'edanmdm-saam_1983.95.194', 'index': 985}], 'right': [{'id': 'edanmdm-saam_1983.95.213', 'index': 1868}]}}, {'info': {'id': 'edanmdm-nmaahc_2011.90', 'index': 1967}, 'time': {'left': [], 'right': []}, 'institute': {'left': [{'id': 'edanmdm-npg_NPG.2015.136', 'index': 2723}], 'right': []}, 'theme': {'left': [], 'right': []}}, {'info': {'id': 'edanmdm-npg_NPG.93.272', 'index': 2541}, 'time': {'left': [], 'right': []}, 'institute': {'left': [], 'right': []}, 'theme': {'left': [], 'right': [{'id': 'edanmdm-npg_NPG.2015.136', 'index': 2723}]}}, {'info': {'id': 'edanmdm-npg_NPG.99.3', 'index': 2256}, 'time': {'left': [], 'right': []}, 'institute': {'left': [], 'right': []}, 'theme': {'left': [{'id': 'edanmdm-npg_NPG.2015.136', 'index': 2723}], 'right': []}}, {'info': {'id': 'edanmdm-npg_NPG.84.34', 'index': 2558}, 'time': {'left': [], 'right': [{'id': 'edanmdm-npg_NPG.2019.5', 'index': 2719}]}, 'institute': {'left': [], 'right': []}, 'theme': {'left': [], 'right': []}}, {'info': {'id': 'edanmdm-saam_1958.11.14', 'index': 1182}, 'time': {'left': [], 'right': []}, 'institute': {'left': [], 'right': [{'id': 'edanmdm-npg_NPG.2019.5', 'index': 2719}]}, 'theme': {'left': [], 'right': []}}, {'info': {'id': 'edanmdm-nmaahc_2014.102', 'index': 2250}, 'time': {'left': [], 'right': []}, 'institute': {'left': [{'id': 'edanmdm-npg_NPG.2019.5', 'index': 2719}], 'right': []}, 'theme': {'left': [], 'right': []}}, {'info': {'id': 'edanmdm-npg_NPG.2016.125', 'index': 2691}, 'time': {'left': [], 'right': []}, 'institute': {'left': [], 'right': []}, 'theme': {'left': [], 'right': [{'id': 'edanmdm-npg_NPG.2019.5', 'index': 2719}]}}, {'info': {'id': 'edanmdm-npg_NPG.77.244', 'index': 1496}, 'time': {'left': [], 'right': []}, 'institute': {'left': [], 'right': []}, 'theme': {'left': [{'id': 'edanmdm-npg_NPG.2019.5', 'index': 2719}], 'right': []}}, {'info': {'id': 'edanmdm-nmaahc_2015.19.3.1-.2', 'index': 2740}, 'time': {'left': [{'id': 'edanmdm-nmaahc_2007.3.37', 'index': 2511}], 'right': []}, 'institute': {'left': [], 'right': []}, 'theme': {'left': [], 'right': []}}, {'info': {'id': 'edanmdm-nmah_375161', 'index': 2009}, 'time': {'left': [], 'right': []}, 'institute': {'left': [], 'right': [{'id': 'edanmdm-nmaahc_2007.3.37', 'index': 2511}]}, 'theme': {'left': [], 'right': []}}, {'info': {'id': 'edanmdm-npg_NPG.69.54', 'index': 2229}, 'time': {'left': [], 'right': []}, 'institute': {'left': [{'id': 'edanmdm-nmaahc_2007.3.37', 'index': 2511}], 'right': []}, 'theme': {'left': [], 'right': []}}, {'info': {'id': 'edanmdm-nmaahc_2007.3.35', 'index': 2709}, 'time': {'left': [], 'right': []}, 'institute': {'left': [], 'right': []}, 'theme': {'left': [], 'right': [{'id': 'edanmdm-nmaahc_2007.3.37', 'index': 2511}]}}, {'info': {'id': 'edanmdm-nmaahc_2007.3.36', 'index': 2632}, 'time': {'left': [], 'right': []}, 'institute': {'left': [], 'right': []}, 'theme': {'left': [{'id': 'edanmdm-nmaahc_2007.3.37', 'index': 2511}], 'right': []}}, {'info': {'id': 'edanmdm-saam_XX23', 'index': 1818}, 'time': {'left': [], 'right': [{'id': 'edanmdm-saam_1983.95.201', 'index': 1337}]}, 'institute': {'left': [], 'right': []}, 'theme': {'left': [], 'right': []}}, {'info': {'id': 'edanmdm-saam_1952.13.72', 'index': 1167}, 'time': {'left': [{'id': 'edanmdm-saam_1983.95.201', 'index': 1337}], 'right': []}, 'institute': {'left': [], 'right': []}, 'theme': {'left': [], 'right': []}}, {'info': {'id': 'edanmdm-nmaahc_2016.48.49.5', 'index': 1157}, 'time': {'left': [], 'right': []}, 'institute': {'left': [], 'right': [{'id': 'edanmdm-saam_1983.95.201', 'index': 1337}]}, 'theme': {'left': [], 'right': []}}, {'info': {'id': 'edanmdm-saam_1983.95.194', 'index': 985}, 'time': {'left': [], 'right': []}, 'institute': {'left': [], 'right': []}, 'theme': {'left': [], 'right': [{'id': 'edanmdm-saam_1983.95.201', 'index': 1337}]}}, {'info': {'id': 'edanmdm-saam_1983.95.213', 'index': 1868}, 'time': {'left': [], 'right': []}, 'institute': {'left': [], 'right': []}, 'theme': {'left': [{'id': 'edanmdm-saam_1983.95.201', 'index': 1337}], 'right': []}}] [1818, 1167, 1157, 2691, 985, 1868]\n",
            "[2508, 2573, 2541, 1337, 1157, 1158]\n",
            "newbie 2508\n",
            "newbie 2573\n",
            "newbie 1158\n",
            "[{'info': {'id': 'edanmdm-npg_NPG.2015.136', 'index': 2723}, 'time': {'left': [{'id': 'edanmdm-npg_NPG.2019.5', 'index': 2719}], 'right': [{'id': 'edanmdm-nmaahc_2007.3.37', 'index': 2511}]}, 'institute': {'left': [{'id': 'edanmdm-saam_1983.95.201', 'index': 1337}], 'right': [{'id': 'edanmdm-nmaahc_2011.90', 'index': 1967}]}, 'theme': {'left': [{'id': 'edanmdm-npg_NPG.93.272', 'index': 2541}], 'right': [{'id': 'edanmdm-npg_NPG.99.3', 'index': 2256}]}}, {'info': {'id': 'edanmdm-npg_NPG.2019.5', 'index': 2719}, 'time': {'left': [{'id': 'edanmdm-npg_NPG.84.34', 'index': 2558}], 'right': [{'id': 'edanmdm-npg_NPG.2015.136', 'index': 2723}]}, 'institute': {'left': [{'id': 'edanmdm-saam_1958.11.14', 'index': 1182}], 'right': [{'id': 'edanmdm-nmaahc_2014.102', 'index': 2250}]}, 'theme': {'left': [{'id': 'edanmdm-npg_NPG.2016.125', 'index': 2691}], 'right': [{'id': 'edanmdm-npg_NPG.77.244', 'index': 1496}]}}, {'info': {'id': 'edanmdm-nmaahc_2007.3.37', 'index': 2511}, 'time': {'left': [{'id': 'edanmdm-npg_NPG.2015.136', 'index': 2723}], 'right': [{'id': 'edanmdm-nmaahc_2015.19.3.1-.2', 'index': 2740}]}, 'institute': {'left': [{'id': 'edanmdm-nmah_375161', 'index': 2009}], 'right': [{'id': 'edanmdm-npg_NPG.69.54', 'index': 2229}]}, 'theme': {'left': [{'id': 'edanmdm-nmaahc_2007.3.35', 'index': 2709}], 'right': [{'id': 'edanmdm-nmaahc_2007.3.36', 'index': 2632}]}}, {'info': {'id': 'edanmdm-saam_1983.95.201', 'index': 1337}, 'time': {'left': [{'id': 'edanmdm-saam_XX23', 'index': 1818}], 'right': [{'id': 'edanmdm-saam_1952.13.72', 'index': 1167}]}, 'institute': {'left': [{'id': 'edanmdm-nmaahc_2016.48.49.5', 'index': 1157}], 'right': [{'id': 'edanmdm-npg_NPG.2015.136', 'index': 2723}]}, 'theme': {'left': [{'id': 'edanmdm-saam_1983.95.194', 'index': 985}], 'right': [{'id': 'edanmdm-saam_1983.95.213', 'index': 1868}]}}, {'info': {'id': 'edanmdm-nmaahc_2011.90', 'index': 1967}, 'time': {'left': [{'id': 'edanmdm-nmaahc_2013.118.302ab', 'index': 2508}], 'right': [{'id': 'edanmdm-nmaahc_2011.125ab', 'index': 2573}]}, 'institute': {'left': [{'id': 'edanmdm-npg_NPG.2015.136', 'index': 2723}], 'right': []}, 'theme': {'left': [{'id': 'edanmdm-nmaahc_2016.48.49.5', 'index': 1157}], 'right': [{'id': 'edanmdm-nmaahc_2016.48.60', 'index': 1158}]}}, {'info': {'id': 'edanmdm-npg_NPG.93.272', 'index': 2541}, 'time': {'left': [], 'right': []}, 'institute': {'left': [], 'right': []}, 'theme': {'left': [], 'right': [{'id': 'edanmdm-npg_NPG.2015.136', 'index': 2723}]}}, {'info': {'id': 'edanmdm-npg_NPG.99.3', 'index': 2256}, 'time': {'left': [], 'right': []}, 'institute': {'left': [], 'right': []}, 'theme': {'left': [{'id': 'edanmdm-npg_NPG.2015.136', 'index': 2723}], 'right': []}}, {'info': {'id': 'edanmdm-npg_NPG.84.34', 'index': 2558}, 'time': {'left': [], 'right': [{'id': 'edanmdm-npg_NPG.2019.5', 'index': 2719}]}, 'institute': {'left': [], 'right': []}, 'theme': {'left': [], 'right': []}}, {'info': {'id': 'edanmdm-saam_1958.11.14', 'index': 1182}, 'time': {'left': [], 'right': []}, 'institute': {'left': [], 'right': [{'id': 'edanmdm-npg_NPG.2019.5', 'index': 2719}]}, 'theme': {'left': [], 'right': []}}, {'info': {'id': 'edanmdm-nmaahc_2014.102', 'index': 2250}, 'time': {'left': [], 'right': []}, 'institute': {'left': [{'id': 'edanmdm-npg_NPG.2019.5', 'index': 2719}], 'right': []}, 'theme': {'left': [], 'right': []}}, {'info': {'id': 'edanmdm-npg_NPG.2016.125', 'index': 2691}, 'time': {'left': [], 'right': []}, 'institute': {'left': [], 'right': []}, 'theme': {'left': [], 'right': [{'id': 'edanmdm-npg_NPG.2019.5', 'index': 2719}]}}, {'info': {'id': 'edanmdm-npg_NPG.77.244', 'index': 1496}, 'time': {'left': [], 'right': []}, 'institute': {'left': [], 'right': []}, 'theme': {'left': [{'id': 'edanmdm-npg_NPG.2019.5', 'index': 2719}], 'right': []}}, {'info': {'id': 'edanmdm-nmaahc_2015.19.3.1-.2', 'index': 2740}, 'time': {'left': [{'id': 'edanmdm-nmaahc_2007.3.37', 'index': 2511}], 'right': []}, 'institute': {'left': [], 'right': []}, 'theme': {'left': [], 'right': []}}, {'info': {'id': 'edanmdm-nmah_375161', 'index': 2009}, 'time': {'left': [], 'right': []}, 'institute': {'left': [], 'right': [{'id': 'edanmdm-nmaahc_2007.3.37', 'index': 2511}]}, 'theme': {'left': [], 'right': []}}, {'info': {'id': 'edanmdm-npg_NPG.69.54', 'index': 2229}, 'time': {'left': [], 'right': []}, 'institute': {'left': [{'id': 'edanmdm-nmaahc_2007.3.37', 'index': 2511}], 'right': []}, 'theme': {'left': [], 'right': []}}, {'info': {'id': 'edanmdm-nmaahc_2007.3.35', 'index': 2709}, 'time': {'left': [], 'right': []}, 'institute': {'left': [], 'right': []}, 'theme': {'left': [], 'right': [{'id': 'edanmdm-nmaahc_2007.3.37', 'index': 2511}]}}, {'info': {'id': 'edanmdm-nmaahc_2007.3.36', 'index': 2632}, 'time': {'left': [], 'right': []}, 'institute': {'left': [], 'right': []}, 'theme': {'left': [{'id': 'edanmdm-nmaahc_2007.3.37', 'index': 2511}], 'right': []}}, {'info': {'id': 'edanmdm-saam_XX23', 'index': 1818}, 'time': {'left': [], 'right': [{'id': 'edanmdm-saam_1983.95.201', 'index': 1337}]}, 'institute': {'left': [], 'right': []}, 'theme': {'left': [], 'right': []}}, {'info': {'id': 'edanmdm-saam_1952.13.72', 'index': 1167}, 'time': {'left': [{'id': 'edanmdm-saam_1983.95.201', 'index': 1337}], 'right': []}, 'institute': {'left': [], 'right': []}, 'theme': {'left': [], 'right': []}}, {'info': {'id': 'edanmdm-nmaahc_2016.48.49.5', 'index': 1157}, 'time': {'left': [], 'right': []}, 'institute': {'left': [], 'right': [{'id': 'edanmdm-saam_1983.95.201', 'index': 1337}]}, 'theme': {'left': [], 'right': [{'id': 'edanmdm-nmaahc_2011.90', 'index': 1967}]}}, {'info': {'id': 'edanmdm-saam_1983.95.194', 'index': 985}, 'time': {'left': [], 'right': []}, 'institute': {'left': [], 'right': []}, 'theme': {'left': [], 'right': [{'id': 'edanmdm-saam_1983.95.201', 'index': 1337}]}}, {'info': {'id': 'edanmdm-saam_1983.95.213', 'index': 1868}, 'time': {'left': [], 'right': []}, 'institute': {'left': [], 'right': []}, 'theme': {'left': [{'id': 'edanmdm-saam_1983.95.201', 'index': 1337}], 'right': []}}, {'info': {'id': 'edanmdm-nmaahc_2013.118.302ab', 'index': 2508}, 'time': {'left': [], 'right': [{'id': 'edanmdm-nmaahc_2011.90', 'index': 1967}]}, 'institute': {'left': [], 'right': []}, 'theme': {'left': [], 'right': []}}, {'info': {'id': 'edanmdm-nmaahc_2011.125ab', 'index': 2573}, 'time': {'left': [{'id': 'edanmdm-nmaahc_2011.90', 'index': 1967}], 'right': []}, 'institute': {'left': [], 'right': []}, 'theme': {'left': [], 'right': []}}, {'info': {'id': 'edanmdm-nmaahc_2016.48.60', 'index': 1158}, 'time': {'left': [], 'right': []}, 'institute': {'left': [], 'right': []}, 'theme': {'left': [{'id': 'edanmdm-nmaahc_2011.90', 'index': 1967}], 'right': []}}] [2508, 2573, 2541, 1337, 1157, 1158]\n",
            "[2091, 2229, 1967, 1394, 2723, 2256]\n",
            "newbie 2091\n",
            "newbie 1394\n",
            "[{'info': {'id': 'edanmdm-npg_NPG.2015.136', 'index': 2723}, 'time': {'left': [{'id': 'edanmdm-npg_NPG.2019.5', 'index': 2719}], 'right': [{'id': 'edanmdm-nmaahc_2007.3.37', 'index': 2511}]}, 'institute': {'left': [{'id': 'edanmdm-saam_1983.95.201', 'index': 1337}], 'right': [{'id': 'edanmdm-nmaahc_2011.90', 'index': 1967}]}, 'theme': {'left': [{'id': 'edanmdm-npg_NPG.93.272', 'index': 2541}], 'right': [{'id': 'edanmdm-npg_NPG.99.3', 'index': 2256}]}}, {'info': {'id': 'edanmdm-npg_NPG.2019.5', 'index': 2719}, 'time': {'left': [{'id': 'edanmdm-npg_NPG.84.34', 'index': 2558}], 'right': [{'id': 'edanmdm-npg_NPG.2015.136', 'index': 2723}]}, 'institute': {'left': [{'id': 'edanmdm-saam_1958.11.14', 'index': 1182}], 'right': [{'id': 'edanmdm-nmaahc_2014.102', 'index': 2250}]}, 'theme': {'left': [{'id': 'edanmdm-npg_NPG.2016.125', 'index': 2691}], 'right': [{'id': 'edanmdm-npg_NPG.77.244', 'index': 1496}]}}, {'info': {'id': 'edanmdm-nmaahc_2007.3.37', 'index': 2511}, 'time': {'left': [{'id': 'edanmdm-npg_NPG.2015.136', 'index': 2723}], 'right': [{'id': 'edanmdm-nmaahc_2015.19.3.1-.2', 'index': 2740}]}, 'institute': {'left': [{'id': 'edanmdm-nmah_375161', 'index': 2009}], 'right': [{'id': 'edanmdm-npg_NPG.69.54', 'index': 2229}]}, 'theme': {'left': [{'id': 'edanmdm-nmaahc_2007.3.35', 'index': 2709}], 'right': [{'id': 'edanmdm-nmaahc_2007.3.36', 'index': 2632}]}}, {'info': {'id': 'edanmdm-saam_1983.95.201', 'index': 1337}, 'time': {'left': [{'id': 'edanmdm-saam_XX23', 'index': 1818}], 'right': [{'id': 'edanmdm-saam_1952.13.72', 'index': 1167}]}, 'institute': {'left': [{'id': 'edanmdm-nmaahc_2016.48.49.5', 'index': 1157}], 'right': [{'id': 'edanmdm-npg_NPG.2015.136', 'index': 2723}]}, 'theme': {'left': [{'id': 'edanmdm-saam_1983.95.194', 'index': 985}], 'right': [{'id': 'edanmdm-saam_1983.95.213', 'index': 1868}]}}, {'info': {'id': 'edanmdm-nmaahc_2011.90', 'index': 1967}, 'time': {'left': [{'id': 'edanmdm-nmaahc_2013.118.302ab', 'index': 2508}], 'right': [{'id': 'edanmdm-nmaahc_2011.125ab', 'index': 2573}]}, 'institute': {'left': [{'id': 'edanmdm-npg_NPG.2015.136', 'index': 2723}], 'right': [{'id': 'edanmdm-npg_NPG.93.272', 'index': 2541}]}, 'theme': {'left': [{'id': 'edanmdm-nmaahc_2016.48.49.5', 'index': 1157}], 'right': [{'id': 'edanmdm-nmaahc_2016.48.60', 'index': 1158}]}}, {'info': {'id': 'edanmdm-npg_NPG.93.272', 'index': 2541}, 'time': {'left': [{'id': 'edanmdm-npg_NPG.86.142', 'index': 2091}], 'right': [{'id': 'edanmdm-npg_NPG.69.54', 'index': 2229}]}, 'institute': {'left': [{'id': 'edanmdm-nmaahc_2011.90', 'index': 1967}], 'right': [{'id': 'edanmdm-saam_1921.1.1', 'index': 1394}]}, 'theme': {'left': [], 'right': [{'id': 'edanmdm-npg_NPG.2015.136', 'index': 2723}]}}, {'info': {'id': 'edanmdm-npg_NPG.99.3', 'index': 2256}, 'time': {'left': [], 'right': []}, 'institute': {'left': [], 'right': []}, 'theme': {'left': [{'id': 'edanmdm-npg_NPG.2015.136', 'index': 2723}], 'right': []}}, {'info': {'id': 'edanmdm-npg_NPG.84.34', 'index': 2558}, 'time': {'left': [], 'right': [{'id': 'edanmdm-npg_NPG.2019.5', 'index': 2719}]}, 'institute': {'left': [], 'right': []}, 'theme': {'left': [], 'right': []}}, {'info': {'id': 'edanmdm-saam_1958.11.14', 'index': 1182}, 'time': {'left': [], 'right': []}, 'institute': {'left': [], 'right': [{'id': 'edanmdm-npg_NPG.2019.5', 'index': 2719}]}, 'theme': {'left': [], 'right': []}}, {'info': {'id': 'edanmdm-nmaahc_2014.102', 'index': 2250}, 'time': {'left': [], 'right': []}, 'institute': {'left': [{'id': 'edanmdm-npg_NPG.2019.5', 'index': 2719}], 'right': []}, 'theme': {'left': [], 'right': []}}, {'info': {'id': 'edanmdm-npg_NPG.2016.125', 'index': 2691}, 'time': {'left': [], 'right': []}, 'institute': {'left': [], 'right': []}, 'theme': {'left': [], 'right': [{'id': 'edanmdm-npg_NPG.2019.5', 'index': 2719}]}}, {'info': {'id': 'edanmdm-npg_NPG.77.244', 'index': 1496}, 'time': {'left': [], 'right': []}, 'institute': {'left': [], 'right': []}, 'theme': {'left': [{'id': 'edanmdm-npg_NPG.2019.5', 'index': 2719}], 'right': []}}, {'info': {'id': 'edanmdm-nmaahc_2015.19.3.1-.2', 'index': 2740}, 'time': {'left': [{'id': 'edanmdm-nmaahc_2007.3.37', 'index': 2511}], 'right': []}, 'institute': {'left': [], 'right': []}, 'theme': {'left': [], 'right': []}}, {'info': {'id': 'edanmdm-nmah_375161', 'index': 2009}, 'time': {'left': [], 'right': []}, 'institute': {'left': [], 'right': [{'id': 'edanmdm-nmaahc_2007.3.37', 'index': 2511}]}, 'theme': {'left': [], 'right': []}}, {'info': {'id': 'edanmdm-npg_NPG.69.54', 'index': 2229}, 'time': {'left': [{'id': 'edanmdm-npg_NPG.93.272', 'index': 2541}], 'right': []}, 'institute': {'left': [{'id': 'edanmdm-nmaahc_2007.3.37', 'index': 2511}], 'right': []}, 'theme': {'left': [], 'right': []}}, {'info': {'id': 'edanmdm-nmaahc_2007.3.35', 'index': 2709}, 'time': {'left': [], 'right': []}, 'institute': {'left': [], 'right': []}, 'theme': {'left': [], 'right': [{'id': 'edanmdm-nmaahc_2007.3.37', 'index': 2511}]}}, {'info': {'id': 'edanmdm-nmaahc_2007.3.36', 'index': 2632}, 'time': {'left': [], 'right': []}, 'institute': {'left': [], 'right': []}, 'theme': {'left': [{'id': 'edanmdm-nmaahc_2007.3.37', 'index': 2511}], 'right': []}}, {'info': {'id': 'edanmdm-saam_XX23', 'index': 1818}, 'time': {'left': [], 'right': [{'id': 'edanmdm-saam_1983.95.201', 'index': 1337}]}, 'institute': {'left': [], 'right': []}, 'theme': {'left': [], 'right': []}}, {'info': {'id': 'edanmdm-saam_1952.13.72', 'index': 1167}, 'time': {'left': [{'id': 'edanmdm-saam_1983.95.201', 'index': 1337}], 'right': []}, 'institute': {'left': [], 'right': []}, 'theme': {'left': [], 'right': []}}, {'info': {'id': 'edanmdm-nmaahc_2016.48.49.5', 'index': 1157}, 'time': {'left': [], 'right': []}, 'institute': {'left': [], 'right': [{'id': 'edanmdm-saam_1983.95.201', 'index': 1337}]}, 'theme': {'left': [], 'right': [{'id': 'edanmdm-nmaahc_2011.90', 'index': 1967}]}}, {'info': {'id': 'edanmdm-saam_1983.95.194', 'index': 985}, 'time': {'left': [], 'right': []}, 'institute': {'left': [], 'right': []}, 'theme': {'left': [], 'right': [{'id': 'edanmdm-saam_1983.95.201', 'index': 1337}]}}, {'info': {'id': 'edanmdm-saam_1983.95.213', 'index': 1868}, 'time': {'left': [], 'right': []}, 'institute': {'left': [], 'right': []}, 'theme': {'left': [{'id': 'edanmdm-saam_1983.95.201', 'index': 1337}], 'right': []}}, {'info': {'id': 'edanmdm-nmaahc_2013.118.302ab', 'index': 2508}, 'time': {'left': [], 'right': [{'id': 'edanmdm-nmaahc_2011.90', 'index': 1967}]}, 'institute': {'left': [], 'right': []}, 'theme': {'left': [], 'right': []}}, {'info': {'id': 'edanmdm-nmaahc_2011.125ab', 'index': 2573}, 'time': {'left': [{'id': 'edanmdm-nmaahc_2011.90', 'index': 1967}], 'right': []}, 'institute': {'left': [], 'right': []}, 'theme': {'left': [], 'right': []}}, {'info': {'id': 'edanmdm-nmaahc_2016.48.60', 'index': 1158}, 'time': {'left': [], 'right': []}, 'institute': {'left': [], 'right': []}, 'theme': {'left': [{'id': 'edanmdm-nmaahc_2011.90', 'index': 1967}], 'right': []}}, {'info': {'id': 'edanmdm-npg_NPG.86.142', 'index': 2091}, 'time': {'left': [], 'right': [{'id': 'edanmdm-npg_NPG.93.272', 'index': 2541}]}, 'institute': {'left': [], 'right': []}, 'theme': {'left': [], 'right': []}}, {'info': {'id': 'edanmdm-saam_1921.1.1', 'index': 1394}, 'time': {'left': [], 'right': []}, 'institute': {'left': [{'id': 'edanmdm-npg_NPG.93.272', 'index': 2541}], 'right': []}, 'theme': {'left': [], 'right': []}}] [2091, 2229, 1967, 1394, 2723, 2256]\n",
            "[2363, 2229, 2526, 1171, 2541, 2723]\n",
            "newbie 2363\n",
            "newbie 2526\n",
            "newbie 1171\n",
            "[{'info': {'id': 'edanmdm-npg_NPG.2015.136', 'index': 2723}, 'time': {'left': [{'id': 'edanmdm-npg_NPG.2019.5', 'index': 2719}], 'right': [{'id': 'edanmdm-nmaahc_2007.3.37', 'index': 2511}]}, 'institute': {'left': [{'id': 'edanmdm-saam_1983.95.201', 'index': 1337}], 'right': [{'id': 'edanmdm-nmaahc_2011.90', 'index': 1967}]}, 'theme': {'left': [{'id': 'edanmdm-npg_NPG.93.272', 'index': 2541}], 'right': [{'id': 'edanmdm-npg_NPG.99.3', 'index': 2256}]}}, {'info': {'id': 'edanmdm-npg_NPG.2019.5', 'index': 2719}, 'time': {'left': [{'id': 'edanmdm-npg_NPG.84.34', 'index': 2558}], 'right': [{'id': 'edanmdm-npg_NPG.2015.136', 'index': 2723}]}, 'institute': {'left': [{'id': 'edanmdm-saam_1958.11.14', 'index': 1182}], 'right': [{'id': 'edanmdm-nmaahc_2014.102', 'index': 2250}]}, 'theme': {'left': [{'id': 'edanmdm-npg_NPG.2016.125', 'index': 2691}], 'right': [{'id': 'edanmdm-npg_NPG.77.244', 'index': 1496}]}}, {'info': {'id': 'edanmdm-nmaahc_2007.3.37', 'index': 2511}, 'time': {'left': [{'id': 'edanmdm-npg_NPG.2015.136', 'index': 2723}], 'right': [{'id': 'edanmdm-nmaahc_2015.19.3.1-.2', 'index': 2740}]}, 'institute': {'left': [{'id': 'edanmdm-nmah_375161', 'index': 2009}], 'right': [{'id': 'edanmdm-npg_NPG.69.54', 'index': 2229}]}, 'theme': {'left': [{'id': 'edanmdm-nmaahc_2007.3.35', 'index': 2709}], 'right': [{'id': 'edanmdm-nmaahc_2007.3.36', 'index': 2632}]}}, {'info': {'id': 'edanmdm-saam_1983.95.201', 'index': 1337}, 'time': {'left': [{'id': 'edanmdm-saam_XX23', 'index': 1818}], 'right': [{'id': 'edanmdm-saam_1952.13.72', 'index': 1167}]}, 'institute': {'left': [{'id': 'edanmdm-nmaahc_2016.48.49.5', 'index': 1157}], 'right': [{'id': 'edanmdm-npg_NPG.2015.136', 'index': 2723}]}, 'theme': {'left': [{'id': 'edanmdm-saam_1983.95.194', 'index': 985}], 'right': [{'id': 'edanmdm-saam_1983.95.213', 'index': 1868}]}}, {'info': {'id': 'edanmdm-nmaahc_2011.90', 'index': 1967}, 'time': {'left': [{'id': 'edanmdm-nmaahc_2013.118.302ab', 'index': 2508}], 'right': [{'id': 'edanmdm-nmaahc_2011.125ab', 'index': 2573}]}, 'institute': {'left': [{'id': 'edanmdm-npg_NPG.2015.136', 'index': 2723}], 'right': [{'id': 'edanmdm-npg_NPG.93.272', 'index': 2541}]}, 'theme': {'left': [{'id': 'edanmdm-nmaahc_2016.48.49.5', 'index': 1157}], 'right': [{'id': 'edanmdm-nmaahc_2016.48.60', 'index': 1158}]}}, {'info': {'id': 'edanmdm-npg_NPG.93.272', 'index': 2541}, 'time': {'left': [{'id': 'edanmdm-npg_NPG.86.142', 'index': 2091}], 'right': [{'id': 'edanmdm-npg_NPG.69.54', 'index': 2229}]}, 'institute': {'left': [{'id': 'edanmdm-nmaahc_2011.90', 'index': 1967}], 'right': [{'id': 'edanmdm-saam_1921.1.1', 'index': 1394}]}, 'theme': {'left': [], 'right': [{'id': 'edanmdm-npg_NPG.2015.136', 'index': 2723}]}}, {'info': {'id': 'edanmdm-npg_NPG.99.3', 'index': 2256}, 'time': {'left': [{'id': 'edanmdm-npg_NPG.97.100', 'index': 2363}], 'right': []}, 'institute': {'left': [{'id': 'edanmdm-nmaahc_2013.120.12.2', 'index': 2526}], 'right': [{'id': 'edanmdm-saam_1983.31.3', 'index': 1171}]}, 'theme': {'left': [{'id': 'edanmdm-npg_NPG.2015.136', 'index': 2723}], 'right': []}}, {'info': {'id': 'edanmdm-npg_NPG.84.34', 'index': 2558}, 'time': {'left': [], 'right': [{'id': 'edanmdm-npg_NPG.2019.5', 'index': 2719}]}, 'institute': {'left': [], 'right': []}, 'theme': {'left': [], 'right': []}}, {'info': {'id': 'edanmdm-saam_1958.11.14', 'index': 1182}, 'time': {'left': [], 'right': []}, 'institute': {'left': [], 'right': [{'id': 'edanmdm-npg_NPG.2019.5', 'index': 2719}]}, 'theme': {'left': [], 'right': []}}, {'info': {'id': 'edanmdm-nmaahc_2014.102', 'index': 2250}, 'time': {'left': [], 'right': []}, 'institute': {'left': [{'id': 'edanmdm-npg_NPG.2019.5', 'index': 2719}], 'right': []}, 'theme': {'left': [], 'right': []}}, {'info': {'id': 'edanmdm-npg_NPG.2016.125', 'index': 2691}, 'time': {'left': [], 'right': []}, 'institute': {'left': [], 'right': []}, 'theme': {'left': [], 'right': [{'id': 'edanmdm-npg_NPG.2019.5', 'index': 2719}]}}, {'info': {'id': 'edanmdm-npg_NPG.77.244', 'index': 1496}, 'time': {'left': [], 'right': []}, 'institute': {'left': [], 'right': []}, 'theme': {'left': [{'id': 'edanmdm-npg_NPG.2019.5', 'index': 2719}], 'right': []}}, {'info': {'id': 'edanmdm-nmaahc_2015.19.3.1-.2', 'index': 2740}, 'time': {'left': [{'id': 'edanmdm-nmaahc_2007.3.37', 'index': 2511}], 'right': []}, 'institute': {'left': [], 'right': []}, 'theme': {'left': [], 'right': []}}, {'info': {'id': 'edanmdm-nmah_375161', 'index': 2009}, 'time': {'left': [], 'right': []}, 'institute': {'left': [], 'right': [{'id': 'edanmdm-nmaahc_2007.3.37', 'index': 2511}]}, 'theme': {'left': [], 'right': []}}, {'info': {'id': 'edanmdm-npg_NPG.69.54', 'index': 2229}, 'time': {'left': [{'id': 'edanmdm-npg_NPG.93.272', 'index': 2541}], 'right': []}, 'institute': {'left': [{'id': 'edanmdm-nmaahc_2007.3.37', 'index': 2511}], 'right': []}, 'theme': {'left': [], 'right': []}}, {'info': {'id': 'edanmdm-nmaahc_2007.3.35', 'index': 2709}, 'time': {'left': [], 'right': []}, 'institute': {'left': [], 'right': []}, 'theme': {'left': [], 'right': [{'id': 'edanmdm-nmaahc_2007.3.37', 'index': 2511}]}}, {'info': {'id': 'edanmdm-nmaahc_2007.3.36', 'index': 2632}, 'time': {'left': [], 'right': []}, 'institute': {'left': [], 'right': []}, 'theme': {'left': [{'id': 'edanmdm-nmaahc_2007.3.37', 'index': 2511}], 'right': []}}, {'info': {'id': 'edanmdm-saam_XX23', 'index': 1818}, 'time': {'left': [], 'right': [{'id': 'edanmdm-saam_1983.95.201', 'index': 1337}]}, 'institute': {'left': [], 'right': []}, 'theme': {'left': [], 'right': []}}, {'info': {'id': 'edanmdm-saam_1952.13.72', 'index': 1167}, 'time': {'left': [{'id': 'edanmdm-saam_1983.95.201', 'index': 1337}], 'right': []}, 'institute': {'left': [], 'right': []}, 'theme': {'left': [], 'right': []}}, {'info': {'id': 'edanmdm-nmaahc_2016.48.49.5', 'index': 1157}, 'time': {'left': [], 'right': []}, 'institute': {'left': [], 'right': [{'id': 'edanmdm-saam_1983.95.201', 'index': 1337}]}, 'theme': {'left': [], 'right': [{'id': 'edanmdm-nmaahc_2011.90', 'index': 1967}]}}, {'info': {'id': 'edanmdm-saam_1983.95.194', 'index': 985}, 'time': {'left': [], 'right': []}, 'institute': {'left': [], 'right': []}, 'theme': {'left': [], 'right': [{'id': 'edanmdm-saam_1983.95.201', 'index': 1337}]}}, {'info': {'id': 'edanmdm-saam_1983.95.213', 'index': 1868}, 'time': {'left': [], 'right': []}, 'institute': {'left': [], 'right': []}, 'theme': {'left': [{'id': 'edanmdm-saam_1983.95.201', 'index': 1337}], 'right': []}}, {'info': {'id': 'edanmdm-nmaahc_2013.118.302ab', 'index': 2508}, 'time': {'left': [], 'right': [{'id': 'edanmdm-nmaahc_2011.90', 'index': 1967}]}, 'institute': {'left': [], 'right': []}, 'theme': {'left': [], 'right': []}}, {'info': {'id': 'edanmdm-nmaahc_2011.125ab', 'index': 2573}, 'time': {'left': [{'id': 'edanmdm-nmaahc_2011.90', 'index': 1967}], 'right': []}, 'institute': {'left': [], 'right': []}, 'theme': {'left': [], 'right': []}}, {'info': {'id': 'edanmdm-nmaahc_2016.48.60', 'index': 1158}, 'time': {'left': [], 'right': []}, 'institute': {'left': [], 'right': []}, 'theme': {'left': [{'id': 'edanmdm-nmaahc_2011.90', 'index': 1967}], 'right': []}}, {'info': {'id': 'edanmdm-npg_NPG.86.142', 'index': 2091}, 'time': {'left': [], 'right': [{'id': 'edanmdm-npg_NPG.93.272', 'index': 2541}]}, 'institute': {'left': [], 'right': []}, 'theme': {'left': [], 'right': []}}, {'info': {'id': 'edanmdm-saam_1921.1.1', 'index': 1394}, 'time': {'left': [], 'right': []}, 'institute': {'left': [{'id': 'edanmdm-npg_NPG.93.272', 'index': 2541}], 'right': []}, 'theme': {'left': [], 'right': []}}, {'info': {'id': 'edanmdm-npg_NPG.97.100', 'index': 2363}, 'time': {'left': [], 'right': [{'id': 'edanmdm-npg_NPG.99.3', 'index': 2256}]}, 'institute': {'left': [], 'right': []}, 'theme': {'left': [], 'right': []}}, {'info': {'id': 'edanmdm-nmaahc_2013.120.12.2', 'index': 2526}, 'time': {'left': [], 'right': []}, 'institute': {'left': [], 'right': [{'id': 'edanmdm-npg_NPG.99.3', 'index': 2256}]}, 'theme': {'left': [], 'right': []}}, {'info': {'id': 'edanmdm-saam_1983.31.3', 'index': 1171}, 'time': {'left': [], 'right': []}, 'institute': {'left': [{'id': 'edanmdm-npg_NPG.99.3', 'index': 2256}], 'right': []}, 'theme': {'left': [], 'right': []}}] [2363, 2229, 2526, 1171, 2541, 2723]\n"
          ]
        }
      ]
    },
    {
      "cell_type": "code",
      "source": [
        "todo = [2558, 2723, 1182, 2250, 2691, 1496,2411, 2740, 2009, 2229, 2709, 2632,1818, 1167, 1157, 2691, 985, 1868,2508, 2573, 2541, 1337, 1157, 1158,2091, 2229, 1967, 1394, 2723, 2256,2363, 2229, 2526, 1171, 2541, 2723 ]"
      ],
      "metadata": {
        "id": "Qzoxd308mjlT"
      },
      "execution_count": 361,
      "outputs": []
    },
    {
      "cell_type": "code",
      "source": [
        "newnn = get_connections(todo, result)\n",
        "newnn"
      ],
      "metadata": {
        "colab": {
          "base_uri": "https://localhost:8080/"
        },
        "id": "WmoXwHa3MjEe",
        "outputId": "55d9cead-2a12-4cc0-a08a-62308f18e8b9"
      },
      "execution_count": 362,
      "outputs": [
        {
          "output_type": "stream",
          "name": "stdout",
          "text": [
            "[1932, 2719, 1303, 2903, 1730, 2689]\n",
            "newbie 1932\n",
            "newbie 1303\n",
            "newbie 2903\n",
            "newbie 1730\n",
            "newbie 2689\n",
            "[1932, 2719, 1303, 2903, 1730, 2689]\n",
            "[2719, 2511, 1337, 1967, 2541, 2256]\n",
            "[2719, 2511, 1337, 1967, 2541, 2256]\n",
            "[1426, 1486, 2965, 2324, 921, 1289]\n",
            "newbie 1426\n",
            "newbie 1486\n",
            "newbie 2965\n",
            "newbie 921\n",
            "newbie 1289\n",
            "[1426, 1486, 2965, 2324, 921, 1289]\n",
            "[875, 1040, 1182, 2691, 2594, 2248]\n",
            "newbie 875\n",
            "newbie 1040\n",
            "newbie 2594\n",
            "newbie 2248\n",
            "[875, 1040, 1182, 2691, 2594, 2248]\n",
            "[2328, 2723, 1358, 2250, 2719, 1496]\n",
            "newbie 2328\n",
            "[2328, 2723, 1358, 2250, 2719, 1496]\n",
            "[2365, 2723, 1171, 2508, 2719, 2691]\n",
            "newbie 2365\n",
            "[2365, 2723, 1171, 2508, 2719, 2691]\n",
            "[1967, 2801, 2009, 1167, 2768, 2883]\n",
            "newbie 2411\n",
            "newbie 2801\n",
            "newbie 2768\n",
            "newbie 2883\n",
            "[1967, 2801, 2009, 1167, 2768, 2883]\n",
            "[2411, 3000, 1717, 1, 2962, 2997]\n",
            "newbie 3000\n",
            "newbie 1717\n",
            "newbie 1\n",
            "newbie 2962\n",
            "newbie 2997\n",
            "[2411, 3000, 1717, 1, 2962, 2997]\n",
            "[2198, 1717, 2920, 2229, 1, 1]\n",
            "newbie 2198\n",
            "newbie 2920\n",
            "[2198, 1717, 2920, 2229, 1, 1]\n",
            "[2406, 2254, 2016, 1167, 1, 1]\n",
            "newbie 2254\n",
            "[2406, 2254, 2016, 1167, 1, 1]\n",
            "[2411, 2740, 2009, 2229, 2511, 2632]\n",
            "[2411, 2740, 2009, 2229, 2511, 2632]\n",
            "[1967, 2801, 2009, 2229, 2816, 2511]\n",
            "[1967, 2801, 2009, 2229, 2816, 2511]\n",
            "[406, 1337, 1935, 2080, 2287, 1747]\n",
            "newbie 406\n",
            "newbie 1935\n",
            "newbie 2080\n",
            "newbie 2287\n",
            "newbie 1747\n",
            "[406, 1337, 1935, 2080, 2287, 1747]\n",
            "[998, 2920, 1721, 1109, 1, 1]\n",
            "newbie 1109\n",
            "[998, 2920, 1721, 1109, 1, 1]\n",
            "[2250, 2911, 1337, 2541, 1158, 1909]\n",
            "newbie 2911\n",
            "[2250, 2911, 1337, 2541, 1158, 1909]\n",
            "[2328, 2723, 1358, 2250, 2719, 1496]\n",
            "[2328, 2723, 1358, 2250, 2719, 1496]\n",
            "[612, 1167, 1510, 1496, 1868, 1649]\n",
            "newbie 612\n",
            "newbie 1510\n",
            "[612, 1167, 1510, 1496, 1868, 1649]\n",
            "[612, 1167, 1510, 1496, 985, 1649]\n",
            "[612, 1167, 1510, 1496, 985, 1649]\n",
            "[2320, 2816, 2541, 1337, 2532, 1046]\n",
            "newbie 2320\n",
            "newbie 2532\n",
            "newbie 1046\n",
            "[2320, 2816, 2541, 1337, 2532, 1046]\n",
            "[1967, 2919, 1717, 1, 2704, 2963]\n",
            "newbie 2919\n",
            "newbie 2704\n",
            "newbie 2963\n",
            "[1967, 2919, 1717, 1, 2704, 2963]\n",
            "[2091, 2229, 1967, 1394, 2723, 2256]\n",
            "[2091, 2229, 1967, 1394, 2723, 2256]\n",
            "[1818, 1167, 1157, 2691, 985, 1868]\n",
            "[1818, 1167, 1157, 2691, 985, 1868]\n",
            "[2250, 2911, 1337, 2541, 1158, 1909]\n",
            "[2250, 2911, 1337, 2541, 1158, 1909]\n",
            "[2250, 2911, 1337, 2541, 1157, 1909]\n",
            "[2250, 2911, 1337, 2541, 1157, 1909]\n",
            "[2369, 2541, 2400, 2320, 2722, 2368]\n",
            "newbie 2369\n",
            "newbie 2400\n",
            "newbie 2722\n",
            "newbie 2368\n",
            "[2369, 2541, 2400, 2320, 2722, 2368]\n",
            "[2406, 2254, 2016, 1167, 1, 1]\n",
            "[2406, 2254, 2016, 1167, 1, 1]\n",
            "[2508, 2573, 2541, 1337, 1157, 1158]\n",
            "[2508, 2573, 2541, 1337, 1157, 1158]\n",
            "[1584, 1337, 2733, 2101, 1358, 1696]\n",
            "newbie 1584\n",
            "newbie 2101\n",
            "newbie 1358\n",
            "newbie 1696\n",
            "[1584, 1337, 2733, 2101, 1358, 1696]\n",
            "[2719, 2511, 1337, 1967, 2541, 2256]\n",
            "[2719, 2511, 1337, 1967, 2541, 2256]\n",
            "[2363, 2229, 2526, 1171, 2541, 2723]\n",
            "[2363, 2229, 2526, 1171, 2541, 2723]\n",
            "[2366, 2256, 1147, 1379, 2091, 2101]\n",
            "newbie 2366\n",
            "newbie 1147\n",
            "newbie 1379\n",
            "[2366, 2256, 1147, 1379, 2091, 2101]\n",
            "[2406, 2254, 2016, 1167, 1, 1]\n",
            "[2406, 2254, 2016, 1167, 1, 1]\n",
            "[1957, 1514, 2256, 453, 2637, 1986]\n",
            "newbie 1957\n",
            "newbie 1514\n",
            "newbie 2637\n",
            "newbie 1986\n",
            "[1957, 1514, 2256, 453, 2637, 1986]\n",
            "[1255, 1167, 1496, 2250, 890, 1698]\n",
            "newbie 1255\n",
            "newbie 890\n",
            "newbie 1698\n",
            "[1255, 1167, 1496, 2250, 890, 1698]\n",
            "[2091, 2229, 1967, 1394, 2723, 2256]\n",
            "[2091, 2229, 1967, 1394, 2723, 2256]\n",
            "[2719, 2511, 1337, 1967, 2541, 2256]\n",
            "[2719, 2511, 1337, 1967, 2541, 2256]\n"
          ]
        },
        {
          "output_type": "execute_result",
          "data": {
            "text/plain": [
              "[{'info': {'id': 'edanmdm-npg_NPG.2015.136', 'index': 2723},\n",
              "  'institute': {'left': [{'id': 'edanmdm-saam_1983.95.201', 'index': 1337}],\n",
              "   'right': [{'id': 'edanmdm-nmaahc_2011.90', 'index': 1967}]},\n",
              "  'theme': {'left': [{'id': 'edanmdm-npg_NPG.93.272', 'index': 2541}],\n",
              "   'right': [{'id': 'edanmdm-npg_NPG.99.3', 'index': 2256}]},\n",
              "  'time': {'left': [{'id': 'edanmdm-npg_NPG.2019.5', 'index': 2719}],\n",
              "   'right': [{'id': 'edanmdm-nmaahc_2007.3.37', 'index': 2511}]}},\n",
              " {'info': {'id': 'edanmdm-npg_NPG.2019.5', 'index': 2719},\n",
              "  'institute': {'left': [{'id': 'edanmdm-saam_1958.11.14', 'index': 1182}],\n",
              "   'right': [{'id': 'edanmdm-nmaahc_2014.102', 'index': 2250}]},\n",
              "  'theme': {'left': [{'id': 'edanmdm-npg_NPG.2016.125', 'index': 2691}],\n",
              "   'right': [{'id': 'edanmdm-npg_NPG.77.244', 'index': 1496}]},\n",
              "  'time': {'left': [{'id': 'edanmdm-npg_NPG.84.34', 'index': 2558}],\n",
              "   'right': [{'id': 'edanmdm-npg_NPG.2015.136', 'index': 2723}]}},\n",
              " {'info': {'id': 'edanmdm-nmaahc_2007.3.37', 'index': 2511},\n",
              "  'institute': {'left': [{'id': 'edanmdm-nmah_375161', 'index': 2009}],\n",
              "   'right': [{'id': 'edanmdm-npg_NPG.69.54', 'index': 2229}]},\n",
              "  'theme': {'left': [{'id': 'edanmdm-nmaahc_2007.3.35', 'index': 2709}],\n",
              "   'right': [{'id': 'edanmdm-nmaahc_2007.3.36', 'index': 2632}]},\n",
              "  'time': {'left': [{'id': 'edanmdm-npg_NPG.2015.136', 'index': 2723}],\n",
              "   'right': [{'id': 'edanmdm-nmaahc_2015.19.3.1-.2', 'index': 2740}]}},\n",
              " {'info': {'id': 'edanmdm-saam_1983.95.201', 'index': 1337},\n",
              "  'institute': {'left': [{'id': 'edanmdm-nmaahc_2016.48.49.5', 'index': 1157}],\n",
              "   'right': [{'id': 'edanmdm-npg_NPG.2015.136', 'index': 2723}]},\n",
              "  'theme': {'left': [{'id': 'edanmdm-saam_1983.95.194', 'index': 985}],\n",
              "   'right': [{'id': 'edanmdm-saam_1983.95.213', 'index': 1868}]},\n",
              "  'time': {'left': [{'id': 'edanmdm-saam_XX23', 'index': 1818}],\n",
              "   'right': [{'id': 'edanmdm-saam_1952.13.72', 'index': 1167}]}},\n",
              " {'info': {'id': 'edanmdm-nmaahc_2011.90', 'index': 1967},\n",
              "  'institute': {'left': [{'id': 'edanmdm-npg_NPG.2015.136', 'index': 2723}],\n",
              "   'right': [{'id': 'edanmdm-npg_NPG.93.272', 'index': 2541}]},\n",
              "  'theme': {'left': [{'id': 'edanmdm-nmaahc_2016.48.49.5', 'index': 1157}],\n",
              "   'right': [{'id': 'edanmdm-nmaahc_2016.48.60', 'index': 1158}]},\n",
              "  'time': {'left': [{'id': 'edanmdm-nmaahc_2013.118.302ab', 'index': 2508}],\n",
              "   'right': [{'id': 'edanmdm-nmaahc_2011.125ab', 'index': 2573}]}},\n",
              " {'info': {'id': 'edanmdm-npg_NPG.93.272', 'index': 2541},\n",
              "  'institute': {'left': [{'id': 'edanmdm-nmaahc_2011.90', 'index': 1967}],\n",
              "   'right': [{'id': 'edanmdm-saam_1921.1.1', 'index': 1394}]},\n",
              "  'theme': {'left': [],\n",
              "   'right': [{'id': 'edanmdm-npg_NPG.2015.136', 'index': 2723}]},\n",
              "  'time': {'left': [{'id': 'edanmdm-npg_NPG.86.142', 'index': 2091}],\n",
              "   'right': [{'id': 'edanmdm-npg_NPG.69.54', 'index': 2229}]}},\n",
              " {'info': {'id': 'edanmdm-npg_NPG.99.3', 'index': 2256},\n",
              "  'institute': {'left': [{'id': 'edanmdm-nmaahc_2013.120.12.2',\n",
              "     'index': 2526}],\n",
              "   'right': [{'id': 'edanmdm-saam_1983.31.3', 'index': 1171}]},\n",
              "  'theme': {'left': [{'id': 'edanmdm-npg_NPG.2015.136', 'index': 2723}],\n",
              "   'right': []},\n",
              "  'time': {'left': [{'id': 'edanmdm-npg_NPG.97.100', 'index': 2363}],\n",
              "   'right': []}},\n",
              " {'info': {'id': 'edanmdm-npg_NPG.84.34', 'index': 2558},\n",
              "  'institute': {'left': [{'id': 'edanmdm-saam_1983.31.2', 'index': 1303}],\n",
              "   'right': [{'id': 'edanmdm-fsg_F1904.61', 'index': 2903}]},\n",
              "  'theme': {'left': [{'id': 'edanmdm-npg_NPG.2010.13', 'index': 1730}],\n",
              "   'right': [{'id': 'edanmdm-npg_NPG.2019.75', 'index': 2689}]},\n",
              "  'time': {'left': [{'id': 'edanmdm-npg_NPG.2007.71', 'index': 1932}],\n",
              "   'right': [{'id': 'edanmdm-npg_NPG.2019.5', 'index': 2719}]}},\n",
              " {'info': {'id': 'edanmdm-saam_1958.11.14', 'index': 1182},\n",
              "  'institute': {'left': [{'id': 'edanmdm-npg_S_NPG.84.308', 'index': 2965}],\n",
              "   'right': [{'id': 'edanmdm-npg_NPG.2019.5', 'index': 2719}]},\n",
              "  'theme': {'left': [{'id': 'edanmdm-saam_1958.11.15', 'index': 921}],\n",
              "   'right': [{'id': 'edanmdm-saam_1958.11.12', 'index': 1289}]},\n",
              "  'time': {'left': [{'id': 'edanmdm-saam_1968.155.74', 'index': 1426}],\n",
              "   'right': [{'id': 'edanmdm-saam_1964.1.92', 'index': 1486}]}},\n",
              " {'info': {'id': 'edanmdm-nmaahc_2014.102', 'index': 2250},\n",
              "  'institute': {'left': [{'id': 'edanmdm-npg_NPG.2019.5', 'index': 2719}],\n",
              "   'right': [{'id': 'edanmdm-npg_NPG.2016.125', 'index': 2691}]},\n",
              "  'theme': {'left': [{'id': 'edanmdm-nmaahc_2016.36', 'index': 2594}],\n",
              "   'right': [{'id': 'edanmdm-nmaahc_2013.153.6', 'index': 2248}]},\n",
              "  'time': {'left': [{'id': 'edanmdm-nmaahc_2014.182.74', 'index': 875}],\n",
              "   'right': [{'id': 'edanmdm-nmaahc_2007.1.36', 'index': 1040}]}},\n",
              " {'info': {'id': 'edanmdm-npg_NPG.2016.125', 'index': 2691},\n",
              "  'institute': {'left': [{'id': 'edanmdm-nmaahc_2014.102', 'index': 2250}],\n",
              "   'right': []},\n",
              "  'theme': {'left': [{'id': 'edanmdm-npg_NPG.77.244', 'index': 1496}],\n",
              "   'right': [{'id': 'edanmdm-npg_NPG.2019.5', 'index': 2719}]},\n",
              "  'time': {'left': [{'id': 'edanmdm-npg_NPG.68.1', 'index': 2328}],\n",
              "   'right': []}},\n",
              " {'info': {'id': 'edanmdm-npg_NPG.77.244', 'index': 1496},\n",
              "  'institute': {'left': [{'id': 'edanmdm-saam_1983.31.3', 'index': 1171}],\n",
              "   'right': [{'id': 'edanmdm-nmaahc_2013.118.302ab', 'index': 2508}]},\n",
              "  'theme': {'left': [{'id': 'edanmdm-npg_NPG.2019.5', 'index': 2719}],\n",
              "   'right': [{'id': 'edanmdm-npg_NPG.2016.125', 'index': 2691}]},\n",
              "  'time': {'left': [{'id': 'edanmdm-npg_NPG.65.74', 'index': 2365}],\n",
              "   'right': []}},\n",
              " {'info': {'id': 'edanmdm-nmaahc_2015.19.3.1-.2', 'index': 2740},\n",
              "  'institute': {'left': [{'id': 'edanmdm-nmah_1887924', 'index': 1717}],\n",
              "   'right': [{'id': 'edanmdm-npm_0.260305.152.70.4', 'index': 1}]},\n",
              "  'theme': {'left': [{'id': 'edanmdm-nmaahc_2015.19.2.1-.2', 'index': 2962}],\n",
              "   'right': [{'id': 'edanmdm-nmaahc_2015.19.1.1-.2', 'index': 2997}]},\n",
              "  'time': {'left': [{'id': 'edanmdm-nmaahc_2007.3.37', 'index': 2511}],\n",
              "   'right': [{'id': 'edanmdm-nmaahc_2012.160.176', 'index': 3000}]}},\n",
              " {'info': {'id': 'edanmdm-nmah_375161', 'index': 2009},\n",
              "  'institute': {'left': [{'id': 'edanmdm-nmaahc_2014.184.1.1', 'index': 2920}],\n",
              "   'right': [{'id': 'edanmdm-nmaahc_2007.3.37', 'index': 2511}]},\n",
              "  'theme': {'left': [{'id': 'edanmdm-npm_0.260305.152.70.4', 'index': 1}],\n",
              "   'right': [{'id': 'edanmdm-npm_0.260305.152.70.4', 'index': 1}]},\n",
              "  'time': {'left': [{'id': 'edanmdm-nmah_515322', 'index': 2198}],\n",
              "   'right': [{'id': 'edanmdm-nmah_1887924', 'index': 1717}]}},\n",
              " {'info': {'id': 'edanmdm-npg_NPG.69.54', 'index': 2229},\n",
              "  'institute': {'left': [{'id': 'edanmdm-nmaahc_2007.3.37', 'index': 2511}],\n",
              "   'right': []},\n",
              "  'theme': {'left': [], 'right': []},\n",
              "  'time': {'left': [{'id': 'edanmdm-npg_NPG.93.272', 'index': 2541}],\n",
              "   'right': [{'id': 'edanmdm-nmaahc_2016.59.13', 'index': 2254}]}},\n",
              " {'info': {'id': 'edanmdm-nmaahc_2007.3.35', 'index': 2709},\n",
              "  'institute': {'left': [], 'right': []},\n",
              "  'theme': {'left': [],\n",
              "   'right': [{'id': 'edanmdm-nmaahc_2007.3.37', 'index': 2511}]},\n",
              "  'time': {'left': [], 'right': []}},\n",
              " {'info': {'id': 'edanmdm-nmaahc_2007.3.36', 'index': 2632},\n",
              "  'institute': {'left': [], 'right': []},\n",
              "  'theme': {'left': [{'id': 'edanmdm-nmaahc_2007.3.37', 'index': 2511}],\n",
              "   'right': []},\n",
              "  'time': {'left': [], 'right': []}},\n",
              " {'info': {'id': 'edanmdm-saam_XX23', 'index': 1818},\n",
              "  'institute': {'left': [{'id': 'edanmdm-npg_NPG.72.73', 'index': 1935}],\n",
              "   'right': [{'id': 'edanmdm-nmaahc_2014.174.4', 'index': 2080}]},\n",
              "  'theme': {'left': [{'id': 'edanmdm-saam_1985.66.474', 'index': 2287}],\n",
              "   'right': [{'id': 'edanmdm-saam_1985.66.25', 'index': 1747}]},\n",
              "  'time': {'left': [{'id': 'edanmdm-saam_1999.94.2', 'index': 406}],\n",
              "   'right': [{'id': 'edanmdm-saam_1983.95.201', 'index': 1337}]}},\n",
              " {'info': {'id': 'edanmdm-saam_1952.13.72', 'index': 1167},\n",
              "  'institute': {'left': [{'id': 'edanmdm-nmaahc_2007.3.39', 'index': 2411}],\n",
              "   'right': [{'id': 'edanmdm-npm_0.242263.15959', 'index': 1109}]},\n",
              "  'theme': {'left': [], 'right': []},\n",
              "  'time': {'left': [{'id': 'edanmdm-saam_1983.95.201', 'index': 1337}],\n",
              "   'right': [{'id': 'edanmdm-nmaahc_2014.184.1.1', 'index': 2920}]}},\n",
              " {'info': {'id': 'edanmdm-nmaahc_2016.48.49.5', 'index': 1157},\n",
              "  'institute': {'left': [],\n",
              "   'right': [{'id': 'edanmdm-saam_1983.95.201', 'index': 1337}]},\n",
              "  'theme': {'left': [{'id': 'edanmdm-nmaahc_2016.48.60', 'index': 1158}],\n",
              "   'right': [{'id': 'edanmdm-nmaahc_2011.90', 'index': 1967}]},\n",
              "  'time': {'left': [],\n",
              "   'right': [{'id': 'edanmdm-nmaahc_2007.3.21', 'index': 2911}]}},\n",
              " {'info': {'id': 'edanmdm-saam_1983.95.194', 'index': 985},\n",
              "  'institute': {'left': [{'id': 'edanmdm-nmaahc_2010.6.55.13', 'index': 1510}],\n",
              "   'right': []},\n",
              "  'theme': {'left': [{'id': 'edanmdm-saam_1983.95.213', 'index': 1868}],\n",
              "   'right': [{'id': 'edanmdm-saam_1983.95.201', 'index': 1337}]},\n",
              "  'time': {'left': [{'id': 'edanmdm-saam_1968.65.2', 'index': 612}],\n",
              "   'right': []}},\n",
              " {'info': {'id': 'edanmdm-saam_1983.95.213', 'index': 1868},\n",
              "  'institute': {'left': [], 'right': []},\n",
              "  'theme': {'left': [{'id': 'edanmdm-saam_1983.95.201', 'index': 1337}],\n",
              "   'right': [{'id': 'edanmdm-saam_1983.95.194', 'index': 985}]},\n",
              "  'time': {'left': [], 'right': []}},\n",
              " {'info': {'id': 'edanmdm-nmaahc_2013.118.302ab', 'index': 2508},\n",
              "  'institute': {'left': [{'id': 'edanmdm-npg_NPG.77.244', 'index': 1496}],\n",
              "   'right': []},\n",
              "  'theme': {'left': [{'id': 'edanmdm-nmaahc_2015.45.3', 'index': 2532}],\n",
              "   'right': [{'id': 'edanmdm-nmaahc_2011.27.2.4', 'index': 1046}]},\n",
              "  'time': {'left': [{'id': 'edanmdm-nmaahc_2013.223.43', 'index': 2320}],\n",
              "   'right': [{'id': 'edanmdm-nmaahc_2011.90', 'index': 1967}]}},\n",
              " {'info': {'id': 'edanmdm-nmaahc_2011.125ab', 'index': 2573},\n",
              "  'institute': {'left': [], 'right': []},\n",
              "  'theme': {'left': [{'id': 'edanmdm-nmaahc_2016.67.3ab', 'index': 2704}],\n",
              "   'right': [{'id': 'edanmdm-nmaahc_2016.21.1.1', 'index': 2963}]},\n",
              "  'time': {'left': [{'id': 'edanmdm-nmaahc_2011.90', 'index': 1967}],\n",
              "   'right': [{'id': 'edanmdm-nmaahc_2016.7.2ab', 'index': 2919}]}},\n",
              " {'info': {'id': 'edanmdm-nmaahc_2016.48.60', 'index': 1158},\n",
              "  'institute': {'left': [], 'right': []},\n",
              "  'theme': {'left': [{'id': 'edanmdm-nmaahc_2011.90', 'index': 1967}],\n",
              "   'right': [{'id': 'edanmdm-nmaahc_2016.48.49.5', 'index': 1157}]},\n",
              "  'time': {'left': [], 'right': []}},\n",
              " {'info': {'id': 'edanmdm-npg_NPG.86.142', 'index': 2091},\n",
              "  'institute': {'left': [{'id': 'edanmdm-saam_1929.6.62', 'index': 2400}],\n",
              "   'right': [{'id': 'edanmdm-nmaahc_2013.223.43', 'index': 2320}]},\n",
              "  'theme': {'left': [{'id': 'edanmdm-npg_S_NPG.2005.78', 'index': 2722}],\n",
              "   'right': [{'id': 'edanmdm-npg_NPG.81.116', 'index': 2368}]},\n",
              "  'time': {'left': [{'id': 'edanmdm-npg_NPG.66.20', 'index': 2369}],\n",
              "   'right': [{'id': 'edanmdm-npg_NPG.93.272', 'index': 2541}]}},\n",
              " {'info': {'id': 'edanmdm-saam_1921.1.1', 'index': 1394},\n",
              "  'institute': {'left': [{'id': 'edanmdm-npg_NPG.93.272', 'index': 2541}],\n",
              "   'right': [{'id': 'edanmdm-npg_NPG.96.50', 'index': 2101}]},\n",
              "  'theme': {'left': [{'id': 'edanmdm-saam_1969.148', 'index': 1358}],\n",
              "   'right': [{'id': 'edanmdm-saam_1986.65.12', 'index': 1696}]},\n",
              "  'time': {'left': [{'id': 'edanmdm-saam_XX77', 'index': 1584}], 'right': []}},\n",
              " {'info': {'id': 'edanmdm-npg_NPG.97.100', 'index': 2363},\n",
              "  'institute': {'left': [{'id': 'edanmdm-nmaahc_2010.36.1.2', 'index': 1147}],\n",
              "   'right': [{'id': 'edanmdm-saam_2011.29', 'index': 1379}]},\n",
              "  'theme': {'left': [],\n",
              "   'right': [{'id': 'edanmdm-npg_NPG.96.50', 'index': 2101}]},\n",
              "  'time': {'left': [{'id': 'edanmdm-npg_NPG.78.53', 'index': 2366}],\n",
              "   'right': [{'id': 'edanmdm-npg_NPG.99.3', 'index': 2256}]}},\n",
              " {'info': {'id': 'edanmdm-nmaahc_2013.120.12.2', 'index': 2526},\n",
              "  'institute': {'left': [],\n",
              "   'right': [{'id': 'edanmdm-npg_NPG.99.3', 'index': 2256}]},\n",
              "  'theme': {'left': [{'id': 'edanmdm-nmaahc_2014.199', 'index': 2637}],\n",
              "   'right': [{'id': 'edanmdm-nmaahc_2013.219.1', 'index': 1986}]},\n",
              "  'time': {'left': [{'id': 'edanmdm-nmaahc_2013.115', 'index': 1957}],\n",
              "   'right': [{'id': 'edanmdm-nmaahc_2009.27.2ab', 'index': 1514}]}},\n",
              " {'info': {'id': 'edanmdm-saam_1983.31.3', 'index': 1171},\n",
              "  'institute': {'left': [{'id': 'edanmdm-npg_NPG.99.3', 'index': 2256}],\n",
              "   'right': [{'id': 'edanmdm-npg_NPG.77.244', 'index': 1496}]},\n",
              "  'theme': {'left': [{'id': 'edanmdm-saam_1922.3.1', 'index': 890}],\n",
              "   'right': [{'id': 'edanmdm-saam_1991.205.10', 'index': 1698}]},\n",
              "  'time': {'left': [{'id': 'edanmdm-saam_1974.88.10', 'index': 1255}],\n",
              "   'right': []}},\n",
              " {'info': {'id': 'edanmdm-npg_NPG.2007.71', 'index': 1932},\n",
              "  'institute': {'left': [], 'right': []},\n",
              "  'theme': {'left': [], 'right': []},\n",
              "  'time': {'left': [],\n",
              "   'right': [{'id': 'edanmdm-npg_NPG.84.34', 'index': 2558}]}},\n",
              " {'info': {'id': 'edanmdm-saam_1983.31.2', 'index': 1303},\n",
              "  'institute': {'left': [],\n",
              "   'right': [{'id': 'edanmdm-npg_NPG.84.34', 'index': 2558}]},\n",
              "  'theme': {'left': [], 'right': []},\n",
              "  'time': {'left': [], 'right': []}},\n",
              " {'info': {'id': 'edanmdm-fsg_F1904.61', 'index': 2903},\n",
              "  'institute': {'left': [{'id': 'edanmdm-npg_NPG.84.34', 'index': 2558}],\n",
              "   'right': []},\n",
              "  'theme': {'left': [], 'right': []},\n",
              "  'time': {'left': [], 'right': []}},\n",
              " {'info': {'id': 'edanmdm-npg_NPG.2010.13', 'index': 1730},\n",
              "  'institute': {'left': [], 'right': []},\n",
              "  'theme': {'left': [],\n",
              "   'right': [{'id': 'edanmdm-npg_NPG.84.34', 'index': 2558}]},\n",
              "  'time': {'left': [], 'right': []}},\n",
              " {'info': {'id': 'edanmdm-npg_NPG.2019.75', 'index': 2689},\n",
              "  'institute': {'left': [], 'right': []},\n",
              "  'theme': {'left': [{'id': 'edanmdm-npg_NPG.84.34', 'index': 2558}],\n",
              "   'right': []},\n",
              "  'time': {'left': [], 'right': []}},\n",
              " {'info': {'id': 'edanmdm-saam_1968.155.74', 'index': 1426},\n",
              "  'institute': {'left': [], 'right': []},\n",
              "  'theme': {'left': [], 'right': []},\n",
              "  'time': {'left': [],\n",
              "   'right': [{'id': 'edanmdm-saam_1958.11.14', 'index': 1182}]}},\n",
              " {'info': {'id': 'edanmdm-saam_1964.1.92', 'index': 1486},\n",
              "  'institute': {'left': [], 'right': []},\n",
              "  'theme': {'left': [], 'right': []},\n",
              "  'time': {'left': [{'id': 'edanmdm-saam_1958.11.14', 'index': 1182}],\n",
              "   'right': []}},\n",
              " {'info': {'id': 'edanmdm-npg_S_NPG.84.308', 'index': 2965},\n",
              "  'institute': {'left': [],\n",
              "   'right': [{'id': 'edanmdm-saam_1958.11.14', 'index': 1182}]},\n",
              "  'theme': {'left': [], 'right': []},\n",
              "  'time': {'left': [], 'right': []}},\n",
              " {'info': {'id': 'edanmdm-saam_1958.11.15', 'index': 921},\n",
              "  'institute': {'left': [], 'right': []},\n",
              "  'theme': {'left': [],\n",
              "   'right': [{'id': 'edanmdm-saam_1958.11.14', 'index': 1182}]},\n",
              "  'time': {'left': [], 'right': []}},\n",
              " {'info': {'id': 'edanmdm-saam_1958.11.12', 'index': 1289},\n",
              "  'institute': {'left': [], 'right': []},\n",
              "  'theme': {'left': [{'id': 'edanmdm-saam_1958.11.14', 'index': 1182}],\n",
              "   'right': []},\n",
              "  'time': {'left': [], 'right': []}},\n",
              " {'info': {'id': 'edanmdm-nmaahc_2014.182.74', 'index': 875},\n",
              "  'institute': {'left': [], 'right': []},\n",
              "  'theme': {'left': [], 'right': []},\n",
              "  'time': {'left': [],\n",
              "   'right': [{'id': 'edanmdm-nmaahc_2014.102', 'index': 2250}]}},\n",
              " {'info': {'id': 'edanmdm-nmaahc_2007.1.36', 'index': 1040},\n",
              "  'institute': {'left': [], 'right': []},\n",
              "  'theme': {'left': [], 'right': []},\n",
              "  'time': {'left': [{'id': 'edanmdm-nmaahc_2014.102', 'index': 2250}],\n",
              "   'right': []}},\n",
              " {'info': {'id': 'edanmdm-nmaahc_2016.36', 'index': 2594},\n",
              "  'institute': {'left': [], 'right': []},\n",
              "  'theme': {'left': [],\n",
              "   'right': [{'id': 'edanmdm-nmaahc_2014.102', 'index': 2250}]},\n",
              "  'time': {'left': [], 'right': []}},\n",
              " {'info': {'id': 'edanmdm-nmaahc_2013.153.6', 'index': 2248},\n",
              "  'institute': {'left': [], 'right': []},\n",
              "  'theme': {'left': [{'id': 'edanmdm-nmaahc_2014.102', 'index': 2250}],\n",
              "   'right': []},\n",
              "  'time': {'left': [], 'right': []}},\n",
              " {'info': {'id': 'edanmdm-npg_NPG.68.1', 'index': 2328},\n",
              "  'institute': {'left': [], 'right': []},\n",
              "  'theme': {'left': [], 'right': []},\n",
              "  'time': {'left': [],\n",
              "   'right': [{'id': 'edanmdm-npg_NPG.2016.125', 'index': 2691}]}},\n",
              " {'info': {'id': 'edanmdm-npg_NPG.65.74', 'index': 2365},\n",
              "  'institute': {'left': [], 'right': []},\n",
              "  'theme': {'left': [], 'right': []},\n",
              "  'time': {'left': [],\n",
              "   'right': [{'id': 'edanmdm-npg_NPG.77.244', 'index': 1496}]}},\n",
              " {'info': {'id': 'edanmdm-nmaahc_2007.3.39', 'index': 2411},\n",
              "  'institute': {'left': [],\n",
              "   'right': [{'id': 'edanmdm-saam_1952.13.72', 'index': 1167}]},\n",
              "  'theme': {'left': [{'id': 'edanmdm-nmaahc_2014.16.1', 'index': 2768}],\n",
              "   'right': [{'id': 'edanmdm-nmaahc_2015.45.1ab', 'index': 2883}]},\n",
              "  'time': {'left': [],\n",
              "   'right': [{'id': 'edanmdm-nmaahc_2013.145.3ab', 'index': 2801}]}},\n",
              " {'info': {'id': 'edanmdm-nmaahc_2013.145.3ab', 'index': 2801},\n",
              "  'institute': {'left': [], 'right': []},\n",
              "  'theme': {'left': [], 'right': []},\n",
              "  'time': {'left': [{'id': 'edanmdm-nmaahc_2007.3.39', 'index': 2411}],\n",
              "   'right': []}},\n",
              " {'info': {'id': 'edanmdm-nmaahc_2014.16.1', 'index': 2768},\n",
              "  'institute': {'left': [], 'right': []},\n",
              "  'theme': {'left': [],\n",
              "   'right': [{'id': 'edanmdm-nmaahc_2007.3.39', 'index': 2411}]},\n",
              "  'time': {'left': [], 'right': []}},\n",
              " {'info': {'id': 'edanmdm-nmaahc_2015.45.1ab', 'index': 2883},\n",
              "  'institute': {'left': [], 'right': []},\n",
              "  'theme': {'left': [{'id': 'edanmdm-nmaahc_2007.3.39', 'index': 2411}],\n",
              "   'right': []},\n",
              "  'time': {'left': [], 'right': []}},\n",
              " {'info': {'id': 'edanmdm-nmaahc_2012.160.176', 'index': 3000},\n",
              "  'institute': {'left': [], 'right': []},\n",
              "  'theme': {'left': [], 'right': []},\n",
              "  'time': {'left': [{'id': 'edanmdm-nmaahc_2015.19.3.1-.2', 'index': 2740}],\n",
              "   'right': []}},\n",
              " {'info': {'id': 'edanmdm-nmah_1887924', 'index': 1717},\n",
              "  'institute': {'left': [],\n",
              "   'right': [{'id': 'edanmdm-nmaahc_2015.19.3.1-.2', 'index': 2740}]},\n",
              "  'theme': {'left': [], 'right': []},\n",
              "  'time': {'left': [{'id': 'edanmdm-nmah_375161', 'index': 2009}],\n",
              "   'right': []}},\n",
              " {'info': {'id': 'edanmdm-npm_0.260305.152.70.4', 'index': 1},\n",
              "  'institute': {'left': [{'id': 'edanmdm-nmaahc_2015.19.3.1-.2',\n",
              "     'index': 2740}],\n",
              "   'right': []},\n",
              "  'theme': {'left': [{'id': 'edanmdm-nmah_375161', 'index': 2009}],\n",
              "   'right': [{'id': 'edanmdm-nmah_375161', 'index': 2009}]},\n",
              "  'time': {'left': [], 'right': []}},\n",
              " {'info': {'id': 'edanmdm-nmaahc_2015.19.2.1-.2', 'index': 2962},\n",
              "  'institute': {'left': [], 'right': []},\n",
              "  'theme': {'left': [],\n",
              "   'right': [{'id': 'edanmdm-nmaahc_2015.19.3.1-.2', 'index': 2740}]},\n",
              "  'time': {'left': [], 'right': []}},\n",
              " {'info': {'id': 'edanmdm-nmaahc_2015.19.1.1-.2', 'index': 2997},\n",
              "  'institute': {'left': [], 'right': []},\n",
              "  'theme': {'left': [{'id': 'edanmdm-nmaahc_2015.19.3.1-.2', 'index': 2740}],\n",
              "   'right': []},\n",
              "  'time': {'left': [], 'right': []}},\n",
              " {'info': {'id': 'edanmdm-nmah_515322', 'index': 2198},\n",
              "  'institute': {'left': [], 'right': []},\n",
              "  'theme': {'left': [], 'right': []},\n",
              "  'time': {'left': [],\n",
              "   'right': [{'id': 'edanmdm-nmah_375161', 'index': 2009}]}},\n",
              " {'info': {'id': 'edanmdm-nmaahc_2014.184.1.1', 'index': 2920},\n",
              "  'institute': {'left': [],\n",
              "   'right': [{'id': 'edanmdm-nmah_375161', 'index': 2009}]},\n",
              "  'theme': {'left': [], 'right': []},\n",
              "  'time': {'left': [{'id': 'edanmdm-saam_1952.13.72', 'index': 1167}],\n",
              "   'right': []}},\n",
              " {'info': {'id': 'edanmdm-nmaahc_2016.59.13', 'index': 2254},\n",
              "  'institute': {'left': [], 'right': []},\n",
              "  'theme': {'left': [], 'right': []},\n",
              "  'time': {'left': [{'id': 'edanmdm-npg_NPG.69.54', 'index': 2229}],\n",
              "   'right': []}},\n",
              " {'info': {'id': 'edanmdm-saam_1999.94.2', 'index': 406},\n",
              "  'institute': {'left': [], 'right': []},\n",
              "  'theme': {'left': [], 'right': []},\n",
              "  'time': {'left': [], 'right': [{'id': 'edanmdm-saam_XX23', 'index': 1818}]}},\n",
              " {'info': {'id': 'edanmdm-npg_NPG.72.73', 'index': 1935},\n",
              "  'institute': {'left': [],\n",
              "   'right': [{'id': 'edanmdm-saam_XX23', 'index': 1818}]},\n",
              "  'theme': {'left': [], 'right': []},\n",
              "  'time': {'left': [], 'right': []}},\n",
              " {'info': {'id': 'edanmdm-nmaahc_2014.174.4', 'index': 2080},\n",
              "  'institute': {'left': [{'id': 'edanmdm-saam_XX23', 'index': 1818}],\n",
              "   'right': []},\n",
              "  'theme': {'left': [], 'right': []},\n",
              "  'time': {'left': [], 'right': []}},\n",
              " {'info': {'id': 'edanmdm-saam_1985.66.474', 'index': 2287},\n",
              "  'institute': {'left': [], 'right': []},\n",
              "  'theme': {'left': [], 'right': [{'id': 'edanmdm-saam_XX23', 'index': 1818}]},\n",
              "  'time': {'left': [], 'right': []}},\n",
              " {'info': {'id': 'edanmdm-saam_1985.66.25', 'index': 1747},\n",
              "  'institute': {'left': [], 'right': []},\n",
              "  'theme': {'left': [{'id': 'edanmdm-saam_XX23', 'index': 1818}], 'right': []},\n",
              "  'time': {'left': [], 'right': []}},\n",
              " {'info': {'id': 'edanmdm-npm_0.242263.15959', 'index': 1109},\n",
              "  'institute': {'left': [{'id': 'edanmdm-saam_1952.13.72', 'index': 1167}],\n",
              "   'right': []},\n",
              "  'theme': {'left': [], 'right': []},\n",
              "  'time': {'left': [], 'right': []}},\n",
              " {'info': {'id': 'edanmdm-nmaahc_2007.3.21', 'index': 2911},\n",
              "  'institute': {'left': [], 'right': []},\n",
              "  'theme': {'left': [], 'right': []},\n",
              "  'time': {'left': [{'id': 'edanmdm-nmaahc_2016.48.49.5', 'index': 1157}],\n",
              "   'right': []}},\n",
              " {'info': {'id': 'edanmdm-saam_1968.65.2', 'index': 612},\n",
              "  'institute': {'left': [], 'right': []},\n",
              "  'theme': {'left': [], 'right': []},\n",
              "  'time': {'left': [],\n",
              "   'right': [{'id': 'edanmdm-saam_1983.95.194', 'index': 985}]}},\n",
              " {'info': {'id': 'edanmdm-nmaahc_2010.6.55.13', 'index': 1510},\n",
              "  'institute': {'left': [],\n",
              "   'right': [{'id': 'edanmdm-saam_1983.95.194', 'index': 985}]},\n",
              "  'theme': {'left': [], 'right': []},\n",
              "  'time': {'left': [], 'right': []}},\n",
              " {'info': {'id': 'edanmdm-nmaahc_2013.223.43', 'index': 2320},\n",
              "  'institute': {'left': [{'id': 'edanmdm-npg_NPG.86.142', 'index': 2091}],\n",
              "   'right': []},\n",
              "  'theme': {'left': [], 'right': []},\n",
              "  'time': {'left': [],\n",
              "   'right': [{'id': 'edanmdm-nmaahc_2013.118.302ab', 'index': 2508}]}},\n",
              " {'info': {'id': 'edanmdm-nmaahc_2015.45.3', 'index': 2532},\n",
              "  'institute': {'left': [], 'right': []},\n",
              "  'theme': {'left': [],\n",
              "   'right': [{'id': 'edanmdm-nmaahc_2013.118.302ab', 'index': 2508}]},\n",
              "  'time': {'left': [], 'right': []}},\n",
              " {'info': {'id': 'edanmdm-nmaahc_2011.27.2.4', 'index': 1046},\n",
              "  'institute': {'left': [], 'right': []},\n",
              "  'theme': {'left': [{'id': 'edanmdm-nmaahc_2013.118.302ab', 'index': 2508}],\n",
              "   'right': []},\n",
              "  'time': {'left': [], 'right': []}},\n",
              " {'info': {'id': 'edanmdm-nmaahc_2016.7.2ab', 'index': 2919},\n",
              "  'institute': {'left': [], 'right': []},\n",
              "  'theme': {'left': [], 'right': []},\n",
              "  'time': {'left': [{'id': 'edanmdm-nmaahc_2011.125ab', 'index': 2573}],\n",
              "   'right': []}},\n",
              " {'info': {'id': 'edanmdm-nmaahc_2016.67.3ab', 'index': 2704},\n",
              "  'institute': {'left': [], 'right': []},\n",
              "  'theme': {'left': [],\n",
              "   'right': [{'id': 'edanmdm-nmaahc_2011.125ab', 'index': 2573}]},\n",
              "  'time': {'left': [], 'right': []}},\n",
              " {'info': {'id': 'edanmdm-nmaahc_2016.21.1.1', 'index': 2963},\n",
              "  'institute': {'left': [], 'right': []},\n",
              "  'theme': {'left': [{'id': 'edanmdm-nmaahc_2011.125ab', 'index': 2573}],\n",
              "   'right': []},\n",
              "  'time': {'left': [], 'right': []}},\n",
              " {'info': {'id': 'edanmdm-npg_NPG.66.20', 'index': 2369},\n",
              "  'institute': {'left': [], 'right': []},\n",
              "  'theme': {'left': [], 'right': []},\n",
              "  'time': {'left': [],\n",
              "   'right': [{'id': 'edanmdm-npg_NPG.86.142', 'index': 2091}]}},\n",
              " {'info': {'id': 'edanmdm-saam_1929.6.62', 'index': 2400},\n",
              "  'institute': {'left': [],\n",
              "   'right': [{'id': 'edanmdm-npg_NPG.86.142', 'index': 2091}]},\n",
              "  'theme': {'left': [], 'right': []},\n",
              "  'time': {'left': [], 'right': []}},\n",
              " {'info': {'id': 'edanmdm-npg_S_NPG.2005.78', 'index': 2722},\n",
              "  'institute': {'left': [], 'right': []},\n",
              "  'theme': {'left': [],\n",
              "   'right': [{'id': 'edanmdm-npg_NPG.86.142', 'index': 2091}]},\n",
              "  'time': {'left': [], 'right': []}},\n",
              " {'info': {'id': 'edanmdm-npg_NPG.81.116', 'index': 2368},\n",
              "  'institute': {'left': [], 'right': []},\n",
              "  'theme': {'left': [{'id': 'edanmdm-npg_NPG.86.142', 'index': 2091}],\n",
              "   'right': []},\n",
              "  'time': {'left': [], 'right': []}},\n",
              " {'info': {'id': 'edanmdm-saam_XX77', 'index': 1584},\n",
              "  'institute': {'left': [], 'right': []},\n",
              "  'theme': {'left': [], 'right': []},\n",
              "  'time': {'left': [],\n",
              "   'right': [{'id': 'edanmdm-saam_1921.1.1', 'index': 1394}]}},\n",
              " {'info': {'id': 'edanmdm-npg_NPG.96.50', 'index': 2101},\n",
              "  'institute': {'left': [{'id': 'edanmdm-saam_1921.1.1', 'index': 1394}],\n",
              "   'right': []},\n",
              "  'theme': {'left': [{'id': 'edanmdm-npg_NPG.97.100', 'index': 2363}],\n",
              "   'right': []},\n",
              "  'time': {'left': [], 'right': []}},\n",
              " {'info': {'id': 'edanmdm-saam_1969.148', 'index': 1358},\n",
              "  'institute': {'left': [], 'right': []},\n",
              "  'theme': {'left': [],\n",
              "   'right': [{'id': 'edanmdm-saam_1921.1.1', 'index': 1394}]},\n",
              "  'time': {'left': [], 'right': []}},\n",
              " {'info': {'id': 'edanmdm-saam_1986.65.12', 'index': 1696},\n",
              "  'institute': {'left': [], 'right': []},\n",
              "  'theme': {'left': [{'id': 'edanmdm-saam_1921.1.1', 'index': 1394}],\n",
              "   'right': []},\n",
              "  'time': {'left': [], 'right': []}},\n",
              " {'info': {'id': 'edanmdm-npg_NPG.78.53', 'index': 2366},\n",
              "  'institute': {'left': [], 'right': []},\n",
              "  'theme': {'left': [], 'right': []},\n",
              "  'time': {'left': [],\n",
              "   'right': [{'id': 'edanmdm-npg_NPG.97.100', 'index': 2363}]}},\n",
              " {'info': {'id': 'edanmdm-nmaahc_2010.36.1.2', 'index': 1147},\n",
              "  'institute': {'left': [],\n",
              "   'right': [{'id': 'edanmdm-npg_NPG.97.100', 'index': 2363}]},\n",
              "  'theme': {'left': [], 'right': []},\n",
              "  'time': {'left': [], 'right': []}},\n",
              " {'info': {'id': 'edanmdm-saam_2011.29', 'index': 1379},\n",
              "  'institute': {'left': [{'id': 'edanmdm-npg_NPG.97.100', 'index': 2363}],\n",
              "   'right': []},\n",
              "  'theme': {'left': [], 'right': []},\n",
              "  'time': {'left': [], 'right': []}},\n",
              " {'info': {'id': 'edanmdm-nmaahc_2013.115', 'index': 1957},\n",
              "  'institute': {'left': [], 'right': []},\n",
              "  'theme': {'left': [], 'right': []},\n",
              "  'time': {'left': [],\n",
              "   'right': [{'id': 'edanmdm-nmaahc_2013.120.12.2', 'index': 2526}]}},\n",
              " {'info': {'id': 'edanmdm-nmaahc_2009.27.2ab', 'index': 1514},\n",
              "  'institute': {'left': [], 'right': []},\n",
              "  'theme': {'left': [], 'right': []},\n",
              "  'time': {'left': [{'id': 'edanmdm-nmaahc_2013.120.12.2', 'index': 2526}],\n",
              "   'right': []}},\n",
              " {'info': {'id': 'edanmdm-nmaahc_2014.199', 'index': 2637},\n",
              "  'institute': {'left': [], 'right': []},\n",
              "  'theme': {'left': [],\n",
              "   'right': [{'id': 'edanmdm-nmaahc_2013.120.12.2', 'index': 2526}]},\n",
              "  'time': {'left': [], 'right': []}},\n",
              " {'info': {'id': 'edanmdm-nmaahc_2013.219.1', 'index': 1986},\n",
              "  'institute': {'left': [], 'right': []},\n",
              "  'theme': {'left': [{'id': 'edanmdm-nmaahc_2013.120.12.2', 'index': 2526}],\n",
              "   'right': []},\n",
              "  'time': {'left': [], 'right': []}},\n",
              " {'info': {'id': 'edanmdm-saam_1974.88.10', 'index': 1255},\n",
              "  'institute': {'left': [], 'right': []},\n",
              "  'theme': {'left': [], 'right': []},\n",
              "  'time': {'left': [],\n",
              "   'right': [{'id': 'edanmdm-saam_1983.31.3', 'index': 1171}]}},\n",
              " {'info': {'id': 'edanmdm-saam_1922.3.1', 'index': 890},\n",
              "  'institute': {'left': [], 'right': []},\n",
              "  'theme': {'left': [],\n",
              "   'right': [{'id': 'edanmdm-saam_1983.31.3', 'index': 1171}]},\n",
              "  'time': {'left': [], 'right': []}},\n",
              " {'info': {'id': 'edanmdm-saam_1991.205.10', 'index': 1698},\n",
              "  'institute': {'left': [], 'right': []},\n",
              "  'theme': {'left': [{'id': 'edanmdm-saam_1983.31.3', 'index': 1171}],\n",
              "   'right': []},\n",
              "  'time': {'left': [], 'right': []}}]"
            ]
          },
          "metadata": {},
          "execution_count": 362
        }
      ]
    },
    {
      "cell_type": "code",
      "source": [
        "with open('nndata.json', 'w') as outfile:\n",
        "    json.dump(newnn, outfile, indent=2)"
      ],
      "metadata": {
        "id": "D9uaxnHvSLKm"
      },
      "execution_count": 363,
      "outputs": []
    },
    {
      "cell_type": "markdown",
      "source": [
        "## Image Download"
      ],
      "metadata": {
        "id": "6B2LkINWNJL7"
      }
    },
    {
      "cell_type": "code",
      "source": [
        "import requests\n",
        "import json\n",
        "import shutil # to save it locally"
      ],
      "metadata": {
        "id": "aSQt3MWJw03Q"
      },
      "execution_count": 345,
      "outputs": []
    },
    {
      "cell_type": "code",
      "source": [
        "image_list = [elem[\"info\"][\"index\"] for elem in nndata]\n",
        "len(image_list)"
      ],
      "metadata": {
        "colab": {
          "base_uri": "https://localhost:8080/"
        },
        "id": "T2KYe_9LhQQZ",
        "outputId": "3b84ad4c-d020-4531-9547-2aa46d153b58"
      },
      "execution_count": 29,
      "outputs": [
        {
          "output_type": "execute_result",
          "data": {
            "text/plain": [
              "91"
            ]
          },
          "metadata": {},
          "execution_count": 29
        }
      ]
    },
    {
      "cell_type": "code",
      "source": [
        "for index in image_list:\n",
        " \n",
        "  image_url = mylist[index][\"img_url\"]\n",
        "  image_title = mylist[index][\"title\"]\n",
        "  print(image_url, index)\n",
        "\n",
        "  r = requests.get(image_url, stream = True)\n",
        "\n",
        "  filename = './si/'+ str(index) + '.jpg'\n",
        "\n",
        "      # Check if the image was retrieved successfully\n",
        "  if r.status_code == 200:\n",
        "      # Set decode_content value to True, otherwise the downloaded image file's size will be zero.\n",
        "      r.raw.decode_content = True\n",
        "\n",
        "      # Open a local file with wb ( write binary ) permission.\n",
        "      with open(filename,'wb') as f:\n",
        "          shutil.copyfileobj(r.raw, f)\n",
        "\n",
        "  else:\n",
        "      print('Image Couldn\\'t be retreived')"
      ],
      "metadata": {
        "colab": {
          "base_uri": "https://localhost:8080/"
        },
        "id": "eQwukx3VNHMY",
        "outputId": "7bc88fd5-1763-4bb3-aeab-b74769b07b6d"
      },
      "execution_count": 34,
      "outputs": [
        {
          "output_type": "stream",
          "name": "stdout",
          "text": [
            "https://ids.si.edu/ids/deliveryService?id=NPG-NPG_2015_136 2723\n",
            "https://ids.si.edu/ids/deliveryService?id=NPG-NPG_2019_5 2719\n",
            "https://ids.si.edu/ids/deliveryService?id=NMAAHC-2007_3_37_001 2511\n",
            "https://ids.si.edu/ids/deliveryService?id=SAAM-1983.95.201_2 1337\n",
            "https://ids.si.edu/ids/deliveryService?id=NMAAHC-2011_90_001 1967\n",
            "https://ids.si.edu/ids/deliveryService?id=NPG-NPG_93_272Hayes-000001 2541\n",
            "https://ids.si.edu/ids/deliveryService?id=NPG-NPG_99_3Moodyv1-000001 2256\n",
            "https://ids.si.edu/ids/deliveryService?id=NPG-NPG_84_34Cassatt_d1 2558\n",
            "https://ids.si.edu/ids/deliveryService?id=SAAM-1958.11.14_1 1182\n",
            "https://ids.si.edu/ids/deliveryService?id=NMAAHC-45AE44F9E01D2_5009 2250\n",
            "https://ids.si.edu/ids/deliveryService?id=NPG-B6000260A 2691\n",
            "https://ids.si.edu/ids/deliveryService?id=NPG-NPG_77_244Woodbury-000001 1496\n",
            "https://ids.si.edu/ids/deliveryService?id=NMAAHC-5FB09AA30C2F2_4001 2740\n",
            "https://ids.si.edu/ids/deliveryService?id=NMAH-ET2014-11956&max=150 2009\n",
            "https://ids.si.edu/ids/deliveryService?id=NPG-NPG_69_54RFKM-000001 2229\n",
            "https://ids.si.edu/ids/deliveryService?id=NMAAHC-2007_3_35_001 2709\n",
            "https://ids.si.edu/ids/deliveryService?id=NMAAHC-2007_3_36_001 2632\n",
            "https://ids.si.edu/ids/deliveryService?id=SAAM-XX23_1 1818\n",
            "https://ids.si.edu/ids/deliveryService?id=SAAM-1952.13.72_1 1167\n",
            "https://ids.si.edu/ids/deliveryService?id=NMAAHC-2016_48_49_5_5002 1157\n",
            "https://ids.si.edu/ids/deliveryService?id=SAAM-1983.95.194_2 985\n",
            "https://ids.si.edu/ids/deliveryService?id=SAAM-1983.95.213_2 1868\n",
            "https://ids.si.edu/ids/deliveryService?id=NMAAHC-2013_118_302ab_001 2508\n",
            "https://ids.si.edu/ids/deliveryService?id=NMAAHC-5099E50CFFF22_5001 2573\n",
            "https://ids.si.edu/ids/deliveryService?id=NMAAHC-7D320A4DAFAE2_5001 1158\n",
            "https://ids.si.edu/ids/deliveryService?id=NPG-NPG_86_142Nazimova_d1 2091\n",
            "https://ids.si.edu/ids/deliveryService?id=SAAM-1921.1.1_1 1394\n",
            "https://ids.si.edu/ids/deliveryService?id=NPG-NPG_97_100Johnson-000001 2363\n",
            "https://ids.si.edu/ids/deliveryService?id=NMAAHC-2013_120_12_2_001 2526\n",
            "https://ids.si.edu/ids/deliveryService?id=SAAM-1983.31.3_1 1171\n",
            "https://ids.si.edu/ids/deliveryService?id=NPG-NPG_2007_71 1932\n",
            "https://ids.si.edu/ids/deliveryService?id=SAAM-1983.31.2_1 1303\n",
            "https://ids.si.edu/ids/deliveryService?id=FS-F1904.61_006 2903\n",
            "https://ids.si.edu/ids/deliveryService?id=NPG-NPG_2010_13Richardson_d1 1730\n",
            "https://ids.si.edu/ids/deliveryService?id=NPG-B9000150B 2689\n",
            "https://ids.si.edu/ids/deliveryService?id=SAAM-1968.155.74_1 1426\n",
            "https://ids.si.edu/ids/deliveryService?id=SAAM-1964.1.92_1 1486\n",
            "https://ids.si.edu/ids/deliveryService?id=NPG-S_NPG_84_308Roosevelt-000004 2965\n",
            "https://ids.si.edu/ids/deliveryService?id=SAAM-1958.11.15_1 921\n",
            "https://ids.si.edu/ids/deliveryService?id=SAAM-1958.11.12_2 1289\n",
            "https://ids.si.edu/ids/deliveryService?id=NMAAHC-3C02DB80CA712_5001 875\n",
            "https://ids.si.edu/ids/deliveryService?id=NMAAHC-2007_1_36_001 1040\n",
            "https://ids.si.edu/ids/deliveryService?id=NMAAHC-2016_36_001 2594\n",
            "https://ids.si.edu/ids/deliveryService?id=NMAAHC-2013_153_6_001 2248\n",
            "https://ids.si.edu/ids/deliveryService?id=NPG-NPG_68_1Stowe_d1 2328\n",
            "https://ids.si.edu/ids/deliveryService?id=NPG-NPG_65_74Whistlerv1_int 2365\n",
            "https://ids.si.edu/ids/deliveryService?id=NMAAHC-2007_3_39_001 2411\n",
            "https://ids.si.edu/ids/deliveryService?id=NMAAHC-2013_145_3ab_002 2801\n",
            "https://ids.si.edu/ids/deliveryService?id=NMAAHC-D82865F677B72_5001 2768\n",
            "https://ids.si.edu/ids/deliveryService?id=NMAAHC-4FC3AA1FDBFF2_5001 2883\n",
            "https://ids.si.edu/ids/deliveryService?id=NMAAHC-2012_160_176_001 3000\n",
            "https://ids.si.edu/ids/deliveryService?id=NMAH-JN2019-01874-000001&max=150 1717\n",
            "https://ids.si.edu/ids/deliveryService?id=NPM-260305_152_70_4a 1\n",
            "https://ids.si.edu/ids/deliveryService?id=NMAAHC-0F43F2891CA92_4001 2962\n",
            "https://ids.si.edu/ids/deliveryService?id=NMAAHC-0FF76745ACAA2_4001 2997\n",
            "https://ids.si.edu/ids/deliveryService?id=NMAH-2008-6460&max=150 2198\n",
            "https://ids.si.edu/ids/deliveryService?id=NMAAHC-193525616D5E2_5001 2920\n",
            "https://ids.si.edu/ids/deliveryService?id=NMAAHC-2016_59_13_002-000001 2254\n",
            "https://ids.si.edu/ids/deliveryService?id=SAAM-1999.94.2_1 406\n",
            "https://ids.si.edu/ids/deliveryService?id=NPG-NPG_72_73Aldrige_d1 1935\n",
            "https://ids.si.edu/ids/deliveryService?id=NMAAHC-2014_174_4_3001 2080\n",
            "https://ids.si.edu/ids/deliveryService?id=SAAM-1985.66.474_1 2287\n",
            "https://ids.si.edu/ids/deliveryService?id=SAAM-1985.66.25_1 1747\n",
            "https://ids.si.edu/ids/deliveryService?id=NPM-0_242263_15959 1109\n",
            "https://ids.si.edu/ids/deliveryService?id=NMAAHC-2007_3_21_001 2911\n",
            "https://ids.si.edu/ids/deliveryService?id=SAAM-1968.65.2_1 612\n",
            "https://ids.si.edu/ids/deliveryService?id=NMAAHC-42E3D6F19F542_3001 1510\n",
            "https://ids.si.edu/ids/deliveryService?id=NMAAHC-2013_223_43_001 2320\n",
            "https://ids.si.edu/ids/deliveryService?id=NMAAHC-2015_45_3_001 2532\n",
            "https://ids.si.edu/ids/deliveryService?id=NMAAHC-2011_27_2_4_6003 1046\n",
            "https://ids.si.edu/ids/deliveryService?id=NMAAHC-2016_7_2ab_5001 2919\n",
            "https://ids.si.edu/ids/deliveryService?id=NMAAHC-2016_67_3ab_003 2704\n",
            "https://ids.si.edu/ids/deliveryService?id=NMAAHC-249BF15228972_5001 2963\n",
            "https://ids.si.edu/ids/deliveryService?id=NPG-NPG_66_20Forrest_d1 2369\n",
            "https://ids.si.edu/ids/deliveryService?id=SAAM-1929.6.62_2 2400\n",
            "https://ids.si.edu/ids/deliveryService?id=NPG-S_NPG_2005_78CastlerectoM-000002 2722\n",
            "https://ids.si.edu/ids/deliveryService?id=NPG-NPG_81_116Clemens-000001 2368\n",
            "https://ids.si.edu/ids/deliveryService?id=SAAM-XX77_1 1584\n",
            "https://ids.si.edu/ids/deliveryService?id=NPG-NPG_96_50Wood_d1 2101\n",
            "https://ids.si.edu/ids/deliveryService?id=SAAM-1969.148_1 1358\n",
            "https://ids.si.edu/ids/deliveryService?id=SAAM-1986.65.12_1 1696\n",
            "https://ids.si.edu/ids/deliveryService?id=NPG-7800086A_1 2366\n",
            "https://ids.si.edu/ids/deliveryService?id=NMAAHC-2010_36_1_2_001 1147\n",
            "https://ids.si.edu/ids/deliveryService?id=SAAM-2011.29_1 1379\n",
            "https://ids.si.edu/ids/deliveryService?id=NMAAHC-2013_115_001 1957\n",
            "https://ids.si.edu/ids/deliveryService?id=NMAAHC-2009_27_2_001 1514\n",
            "https://ids.si.edu/ids/deliveryService?id=NMAAHC-0901BCC142F62_4002 2637\n",
            "https://ids.si.edu/ids/deliveryService?id=NMAAHC-2013_219_1_001 1986\n",
            "https://ids.si.edu/ids/deliveryService?id=SAAM-1974.88.10_1 1255\n",
            "https://ids.si.edu/ids/deliveryService?id=SAAM-1922.3.1_1 890\n",
            "https://ids.si.edu/ids/deliveryService?id=SAAM-1991.205.10_1 1698\n"
          ]
        }
      ]
    },
    {
      "cell_type": "code",
      "source": [
        "from google.colab import drive\n",
        "drive.mount('/content/drive')"
      ],
      "metadata": {
        "colab": {
          "base_uri": "https://localhost:8080/"
        },
        "id": "gKKOe2X5qwoC",
        "outputId": "8ba845d9-3024-4d9b-a039-9f797a16e772"
      },
      "execution_count": 35,
      "outputs": [
        {
          "output_type": "stream",
          "name": "stdout",
          "text": [
            "Mounted at /content/drive\n"
          ]
        }
      ]
    },
    {
      "cell_type": "code",
      "source": [
        "#mount the image folder to Google Drive\n",
        "\n",
        "from google.colab import drive\n",
        "drive.mount('/content/drive')"
      ],
      "metadata": {
        "colab": {
          "base_uri": "https://localhost:8080/"
        },
        "id": "ChPV3WYpkLhU",
        "outputId": "7d658b2d-7b6f-41fd-e8f8-ca5b0ad80b76"
      },
      "execution_count": 373,
      "outputs": [
        {
          "output_type": "stream",
          "name": "stdout",
          "text": [
            "Mounted at /content/drive\n"
          ]
        }
      ]
    },
    {
      "cell_type": "markdown",
      "source": [
        "## Upload JSON"
      ],
      "metadata": {
        "id": "l6ERrEo2l0YX"
      }
    },
    {
      "cell_type": "code",
      "source": [
        "with open('nndata.json') as fp:\n",
        "    nndata = json.load(fp)"
      ],
      "metadata": {
        "id": "dO-izQaQlzq6"
      },
      "execution_count": 24,
      "outputs": []
    },
    {
      "cell_type": "code",
      "source": [
        "with open('metadata.json') as fp:\n",
        "    mylist = json.load(fp)"
      ],
      "metadata": {
        "id": "UNFvd4h_p_zE"
      },
      "execution_count": 31,
      "outputs": []
    },
    {
      "cell_type": "markdown",
      "source": [
        "## Fill in the blank"
      ],
      "metadata": {
        "id": "srjQCpXOqDII"
      }
    },
    {
      "cell_type": "code",
      "source": [
        "nndata[0]"
      ],
      "metadata": {
        "colab": {
          "base_uri": "https://localhost:8080/"
        },
        "id": "Fr6lPYaukVY7",
        "outputId": "68257bd0-c9b8-4ace-ffb7-76ee76be145a"
      },
      "execution_count": 25,
      "outputs": [
        {
          "output_type": "execute_result",
          "data": {
            "text/plain": [
              "{'info': {'id': 'edanmdm-npg_NPG.2015.136', 'index': 2723},\n",
              " 'institute': {'left': [{'id': 'edanmdm-saam_1983.95.201', 'index': 1337}],\n",
              "  'right': [{'id': 'edanmdm-nmaahc_2011.90', 'index': 1967}]},\n",
              " 'theme': {'left': [{'id': 'edanmdm-npg_NPG.93.272', 'index': 2541}],\n",
              "  'right': [{'id': 'edanmdm-npg_NPG.99.3', 'index': 2256}]},\n",
              " 'time': {'left': [{'id': 'edanmdm-npg_NPG.2019.5', 'index': 2719}],\n",
              "  'right': [{'id': 'edanmdm-nmaahc_2007.3.37', 'index': 2511}]}}"
            ]
          },
          "metadata": {},
          "execution_count": 25
        }
      ]
    },
    {
      "cell_type": "code",
      "source": [
        "\n",
        "for item in nndata:\n",
        "\n",
        "  if (item[\"institute\"][\"left\"] == []):\n",
        "    item[\"institute\"][\"left\"].append({\n",
        "        'id': 'edanmdm-npg_NPG.2015.136', 'index': 2723\n",
        "    })\n",
        "\n",
        "  if (item[\"institute\"][\"right\"] == []):\n",
        "    item[\"institute\"][\"right\"].append({\n",
        "        'id': 'edanmdm-npg_NPG.2015.136', 'index': 2723\n",
        "    })\n",
        "  if (item[\"theme\"][\"left\"] == []):\n",
        "    item[\"theme\"][\"left\"].append({\n",
        "        'id': 'edanmdm-npg_NPG.2015.136', 'index': 2723\n",
        "    })\n",
        "  if (item[\"theme\"][\"right\"] == []):\n",
        "    item[\"theme\"][\"right\"].append({\n",
        "        'id': 'edanmdm-npg_NPG.2015.136', 'index': 2723\n",
        "    })\n",
        "  if (item[\"time\"][\"left\"] == []):\n",
        "    item[\"time\"][\"left\"].append({\n",
        "        'id': 'edanmdm-npg_NPG.2015.136', 'index': 2723\n",
        "    })\n",
        "  if (item[\"time\"][\"right\"] == []):\n",
        "    item[\"time\"][\"right\"].append({\n",
        "        'id': 'edanmdm-npg_NPG.2015.136', 'index': 2723\n",
        "    })\n"
      ],
      "metadata": {
        "id": "2JLC4n0xmVDH"
      },
      "execution_count": 26,
      "outputs": []
    },
    {
      "cell_type": "code",
      "source": [
        "with open('nndata.json', 'w') as outfile:\n",
        "    json.dump(nndata, outfile, indent=2)"
      ],
      "metadata": {
        "id": "NOATnayYn2jX"
      },
      "execution_count": 27,
      "outputs": []
    },
    {
      "cell_type": "code",
      "source": [
        ""
      ],
      "metadata": {
        "id": "Ur6yH4UTp77g"
      },
      "execution_count": null,
      "outputs": []
    }
  ]
}