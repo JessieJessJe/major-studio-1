{
 "cells": [
  {
   "cell_type": "markdown",
   "metadata": {},
   "source": [
    "## Download Images from Smithsonian API"
   ]
  },
  {
   "cell_type": "code",
   "execution_count": 1,
   "metadata": {},
   "outputs": [],
   "source": [
    "#https://towardsdatascience.com/how-to-download-an-image-using-python-38a75cfa21c\n",
    "import requests # to get image from the web\n",
    "import shutil # to save it locally"
   ]
  },
  {
   "cell_type": "code",
   "execution_count": 24,
   "metadata": {},
   "outputs": [],
   "source": [
    "import json\n",
    "with open('data_raw.json') as json_file:\n",
    "    data = json.load(json_file)"
   ]
  },
  {
   "cell_type": "code",
   "execution_count": 9,
   "metadata": {},
   "outputs": [
    {
     "name": "stdout",
     "output_type": "stream",
     "text": [
      "Image sucessfully Downloaded:  ./images/Bamboo Gate.jpg\n",
      "Image sucessfully Downloaded:  ./images/Sausalito.jpg\n",
      "Image sucessfully Downloaded:  ./images/The Blue Umbrella.jpg\n",
      "Image sucessfully Downloaded:  ./images/Miss Plum Blossom.jpg\n",
      "Image sucessfully Downloaded:  ./images/Head of Ah Ho.jpg\n",
      "Image sucessfully Downloaded:  ./images/The Joggling Board.jpg\n",
      "Image sucessfully Downloaded:  ./images/Little Miss Muffet.jpg\n",
      "Image sucessfully Downloaded:  ./images/The Year at the Spring.jpg\n",
      "Image sucessfully Downloaded:  ./images/A Child of the People.jpg\n",
      "Image sucessfully Downloaded:  ./images/From the Rice Fields.jpg\n",
      "Image sucessfully Downloaded:  ./images/On the Bund at Tokyo.jpg\n",
      "Image sucessfully Downloaded:  ./images/A Roundelay.jpg\n",
      "Image sucessfully Downloaded:  ./images/August.jpg\n",
      "Image sucessfully Downloaded:  ./images/New Brooms.jpg\n",
      "Image sucessfully Downloaded:  ./images/The Furious Dragon.jpg\n",
      "Image sucessfully Downloaded:  ./images/A Japanese Madonna.jpg\n",
      "Image sucessfully Downloaded:  ./images/Mount Orizaba.jpg\n",
      "Image sucessfully Downloaded:  ./images/Oaxaca Market.jpg\n",
      "Image sucessfully Downloaded:  ./images/The Home of Gabriel.jpg\n",
      "Image sucessfully Downloaded:  ./images/\"The Goblins 'l Git Yer\".jpg\n",
      "Image sucessfully Downloaded:  ./images/First Spring.jpg\n",
      "Image sucessfully Downloaded:  ./images/The Daikon and the Baby.jpg\n",
      "Image sucessfully Downloaded:  ./images/Complaints.jpg\n",
      "Image sucessfully Downloaded:  ./images/A Weary Little Mother.jpg\n",
      "Image sucessfully Downloaded:  ./images/Little Pink Plum.jpg\n",
      "Image sucessfully Downloaded:  ./images/Mother and Child.jpg\n",
      "Image sucessfully Downloaded:  ./images/In Their Holiday Clothes.jpg\n",
      "Image sucessfully Downloaded:  ./images/O Tsuyu San.jpg\n",
      "Image sucessfully Downloaded:  ./images/A Monarch of Japan.jpg\n",
      "Image sucessfully Downloaded:  ./images/Moon Bridge at Kameido.jpg\n",
      "Image sucessfully Downloaded:  ./images/The White Peacock.jpg\n",
      "Image sucessfully Downloaded:  ./images/Sunday Morning.jpg\n",
      "Image sucessfully Downloaded:  ./images/A Windy Ride.jpg\n",
      "Image sucessfully Downloaded:  ./images/Fisher Boy.jpg\n",
      "Image sucessfully Downloaded:  ./images/The Lucky Branch.jpg\n",
      "Image sucessfully Downloaded:  ./images/Alley in Chinatown.jpg\n",
      "Image sucessfully Downloaded:  ./images/A Summer Shower.jpg\n",
      "Image sucessfully Downloaded:  ./images/Over the Garden Wall.jpg\n",
      "Image sucessfully Downloaded:  ./images/Little Dancer of the \"No\".jpg\n",
      "Image sucessfully Downloaded:  ./images/Carry On.jpg\n",
      "Image sucessfully Downloaded:  ./images/The Good Luck Branch.jpg\n",
      "Image sucessfully Downloaded:  ./images/Survival of the Fittest.jpg\n",
      "Image sucessfully Downloaded:  ./images/The Mirror.jpg\n",
      "Image sucessfully Downloaded:  ./images/Going to the Fair.jpg\n",
      "Image sucessfully Downloaded:  ./images/Cypress Swamp.jpg\n",
      "Image sucessfully Downloaded:  ./images/Jingles from Japan.jpg\n",
      "Image sucessfully Downloaded:  ./images/A Javanese \"Small Person\".jpg\n",
      "Image sucessfully Downloaded:  ./images/An April Evening.jpg\n",
      "Image sucessfully Downloaded:  ./images/The Hired Baby.jpg\n",
      "Image sucessfully Downloaded:  ./images/Blossom Child.jpg\n",
      "Image sucessfully Downloaded:  ./images/Marching as to War.jpg\n",
      "Image sucessfully Downloaded:  ./images/Interior Decoration.jpg\n",
      "Image sucessfully Downloaded:  ./images/Mother and Child.jpg\n",
      "Image sucessfully Downloaded:  ./images/My Neighbors.jpg\n",
      "Image sucessfully Downloaded:  ./images/Friday's Child.jpg\n",
      "Image sucessfully Downloaded:  ./images/The Sauce-Pan Shop.jpg\n",
      "Image sucessfully Downloaded:  ./images/Feeding the Geese.jpg\n",
      "Image sucessfully Downloaded:  ./images/A Common Scold.jpg\n",
      "Image sucessfully Downloaded:  ./images/Ah Yen.jpg\n",
      "Image sucessfully Downloaded:  ./images/The Go-Cart.jpg\n",
      "Image sucessfully Downloaded:  ./images/A Snowy Day.jpg\n",
      "Image sucessfully Downloaded:  ./images/The Chase.jpg\n",
      "Image sucessfully Downloaded:  ./images/Cypress Trees.jpg\n",
      "Image sucessfully Downloaded:  ./images/The Family Umbrella.jpg\n",
      "Image sucessfully Downloaded:  ./images/The Pink Fountain at Jalapa.jpg\n",
      "Image sucessfully Downloaded:  ./images/A Rainy Night.jpg\n",
      "Image sucessfully Downloaded:  ./images/A Spring Poem.jpg\n",
      "Image sucessfully Downloaded:  ./images/The Bamboo Fence.jpg\n",
      "Image sucessfully Downloaded:  ./images/Church at Cuernavaca, Mexico.jpg\n",
      "Image sucessfully Downloaded:  ./images/Ice Cream Pails.jpg\n",
      "Image sucessfully Downloaded:  ./images/The Daruma Branch.jpg\n",
      "Image sucessfully Downloaded:  ./images/The Bath.jpg\n",
      "Image sucessfully Downloaded:  ./images/The Seats of the Mighty.jpg\n",
      "Image sucessfully Downloaded:  ./images/Jeffrey Boy.jpg\n",
      "Image sucessfully Downloaded:  ./images/Baby Talk.jpg\n",
      "Image sucessfully Downloaded:  ./images/Blossom Time in Tokyo.jpg\n",
      "Image sucessfully Downloaded:  ./images/Alfonso and Conchita.jpg\n",
      "Image sucessfully Downloaded:  ./images/Casting Out Bad Luck.jpg\n",
      "Image sucessfully Downloaded:  ./images/Forbidden Fruit.jpg\n",
      "Image sucessfully Downloaded:  ./images/Teasing the Daruma.jpg\n",
      "Image sucessfully Downloaded:  ./images/The Secret.jpg\n",
      "Image sucessfully Downloaded:  ./images/Fort Point.jpg\n",
      "Image sucessfully Downloaded:  ./images/Cherry Snow.jpg\n",
      "Image sucessfully Downloaded:  ./images/My Friend Gabriel.jpg\n",
      "Image sucessfully Downloaded:  ./images/Footbridge.jpg\n",
      "Image sucessfully Downloaded:  ./images/Spring Time at the Farm.jpg\n",
      "Image sucessfully Downloaded:  ./images/A Day in June.jpg\n",
      "Image sucessfully Downloaded:  ./images/A Southern Spring.jpg\n",
      "Image sucessfully Downloaded:  ./images/Feeding the Bunnies.jpg\n",
      "Image sucessfully Downloaded:  ./images/By the Great Peedee.jpg\n",
      "Image sucessfully Downloaded:  ./images/Belated.jpg\n",
      "Image sucessfully Downloaded:  ./images/Day Dreams.jpg\n",
      "Image sucessfully Downloaded:  ./images/Honorable Mr. Cat.jpg\n",
      "Image sucessfully Downloaded:  ./images/New Year's Day in Tokyo.jpg\n",
      "Image sucessfully Downloaded:  ./images/Little Green Willow.jpg\n",
      "Image sucessfully Downloaded:  ./images/Confidences.jpg\n",
      "Image sucessfully Downloaded:  ./images/A Mexican Coquette.jpg\n",
      "Image sucessfully Downloaded:  ./images/The Red Curtain.jpg\n",
      "Image sucessfully Downloaded:  ./images/The Greeting.jpg\n",
      "Image sucessfully Downloaded:  ./images/Totty.jpg\n",
      "Image sucessfully Downloaded:  ./images/Fireflies.jpg\n",
      "Image sucessfully Downloaded:  ./images/An Interlude.jpg\n",
      "Image sucessfully Downloaded:  ./images/A Mexican Rebecca.jpg\n",
      "Image sucessfully Downloaded:  ./images/Her Bit.jpg\n",
      "Image sucessfully Downloaded:  ./images/Little Step-Sister.jpg\n",
      "Image sucessfully Downloaded:  ./images/A Native Daughter.jpg\n",
      "Image sucessfully Downloaded:  ./images/Butterflies.jpg\n",
      "Image sucessfully Downloaded:  ./images/A Summer Girl.jpg\n",
      "Image sucessfully Downloaded:  ./images/A Gentleman of France.jpg\n",
      "Image sucessfully Downloaded:  ./images/Moonlight on the Viga Canal.jpg\n",
      "Image sucessfully Downloaded:  ./images/In Mexico.jpg\n",
      "Image sucessfully Downloaded:  ./images/The Unwilling Dancers.jpg\n",
      "Image sucessfully Downloaded:  ./images/Happiness Flower.jpg\n",
      "Image sucessfully Downloaded:  ./images/Three Friends of Winter.jpg\n",
      "Image sucessfully Downloaded:  ./images/The Puppy-cat and the Baby.jpg\n",
      "Image sucessfully Downloaded:  ./images/Hide and Seek.jpg\n",
      "Image sucessfully Downloaded:  ./images/Baby San.jpg\n",
      "Image sucessfully Downloaded:  ./images/Miss Apricot - Cloud.jpg\n",
      "Image sucessfully Downloaded:  ./images/Goblin Lanterns.jpg\n",
      "Image sucessfully Downloaded:  ./images/The Return.jpg\n",
      "Image sucessfully Downloaded:  ./images/The Sacred Calf in the Bazaar at Agra.jpg\n",
      "Image sucessfully Downloaded:  ./images/The Shower.jpg\n",
      "Image sucessfully Downloaded:  ./images/The Family Umbrella.jpg\n",
      "Image sucessfully Downloaded:  ./images/Her Bit (War Time).jpg\n",
      "Image sucessfully Downloaded:  ./images/Little Pink Plum.jpg\n"
     ]
    }
   ],
   "source": [
    "for d in data:\n",
    "    filename = './images/' + d[\"title\"] + '.jpg'\n",
    "    image_url = d[\"image_link\"]\n",
    "    # Open the url image, set stream to True, this will return the stream content.\n",
    "    r = requests.get(image_url, stream = True)\n",
    "    \n",
    "        # Check if the image was retrieved successfully\n",
    "    if r.status_code == 200:\n",
    "        # Set decode_content value to True, otherwise the downloaded image file's size will be zero.\n",
    "        r.raw.decode_content = True\n",
    "\n",
    "        # Open a local file with wb ( write binary ) permission.\n",
    "        with open(filename,'wb') as f:\n",
    "            shutil.copyfileobj(r.raw, f)\n",
    "\n",
    "        print('Image sucessfully Downloaded: ',filename)\n",
    "    else:\n",
    "        print('Image Couldn\\'t be retreived')"
   ]
  },
  {
   "cell_type": "markdown",
   "metadata": {},
   "source": [
    "## Register Cropped Images in JSON"
   ]
  },
  {
   "cell_type": "code",
   "execution_count": 7,
   "metadata": {},
   "outputs": [],
   "source": [
    "import glob\n",
    "import re"
   ]
  },
  {
   "cell_type": "code",
   "execution_count": 5,
   "metadata": {},
   "outputs": [
    {
     "data": {
      "text/plain": [
       "['./images/cropping/Child30@A Roundelay.jpg',\n",
       " './images/cropping/Figur23@From the Rice Fields.jpg',\n",
       " './images/cropping/Plant26@From the Rice Fields.jpg',\n",
       " './images/cropping/Child29@A Roundelay.jpg',\n",
       " './images/cropping/Child1@Bamboo Gate.jpg',\n",
       " './images/cropping/Child6@Bamboo Gate.jpg',\n",
       " './images/cropping/Child17@Little Miss Muffet.jpg',\n",
       " './images/cropping/Child24@From the Rice Fields.jpg',\n",
       " './images/cropping/Child25@From the Rice Fields.jpg',\n",
       " './images/cropping/Tools10@The Blue Umbrella.jpg',\n",
       " './images/cropping/Plant19@Little Miss Muffet.jpg',\n",
       " './images/cropping/Aminl28@On the Bund at Tokyo.jpg',\n",
       " './images/cropping/Lands8@Sausalito.jpg',\n",
       " './images/cropping/Child31@A Roundelay.jpg',\n",
       " './images/cropping/Figur27@On the Bund at Tokyo.jpg',\n",
       " './images/cropping/Child13@Head of Ah Ho.jpg',\n",
       " './images/cropping/Lands9@Sausalito.jpg',\n",
       " './images/cropping/Plant32@A Roundelay.jpg',\n",
       " './images/cropping/Child5@Bamboo Gate.jpg',\n",
       " './images/cropping/Child16@The Joggling Board.jpg',\n",
       " './images/cropping/Child15@The Joggling Board.jpg',\n",
       " './images/cropping/Tools22@A Child of the People.jpg',\n",
       " './images/cropping/Animl18@Little Miss Muffet.jpg',\n",
       " './images/cropping/Child2@Bamboo Gate.jpg',\n",
       " './images/cropping/Lands20@The Year at the Spring.jpg',\n",
       " './images/cropping/Child11@The Blue Umbrella.jpg',\n",
       " './images/cropping/Child3@Bamboo Gate.jpg',\n",
       " './images/cropping/Child21@A Child of the People.jpg',\n",
       " './images/cropping/Figur12@The Blue Umbrella.jpg',\n",
       " './images/cropping/Child14@The Joggling Board.jpg',\n",
       " './images/cropping/Child4@Bamboo Gate.jpg',\n",
       " './images/cropping/Lands7@Sausalito.jpg']"
      ]
     },
     "execution_count": 5,
     "metadata": {},
     "output_type": "execute_result"
    }
   ],
   "source": [
    "files = glob.glob(\"./images/cropping/*.jpg\",recursive=True)\n",
    "files"
   ]
  },
  {
   "cell_type": "code",
   "execution_count": null,
   "metadata": {},
   "outputs": [],
   "source": [
    "# >>> r = re.compile(\"([a-zA-Z]+)([0-9]+)\")\n",
    "# >>> m = r.match(\"foobar12345\")\n",
    "# >>> m.group(1)\n",
    "# 'foobar'\n",
    "# >>> m.group(2)\n",
    "# '12345'"
   ]
  },
  {
   "cell_type": "code",
   "execution_count": 25,
   "metadata": {},
   "outputs": [],
   "source": [
    "# Opening JSON file\n",
    "\n",
    "data = []\n",
    "\n",
    "with open('data.json') as json_file:\n",
    "    data = json.load(json_file)\n"
   ]
  },
  {
   "cell_type": "code",
   "execution_count": 26,
   "metadata": {},
   "outputs": [
    {
     "name": "stdout",
     "output_type": "stream",
     "text": [
      "[{'itemid': '30', 'group': 'Child', 'title': 'A Roundelay', 'date': '1906'}, {'itemid': '23', 'group': 'Figur', 'title': 'From the Rice Fields', 'date': '1901'}, {'itemid': '26', 'group': 'Plant', 'title': 'From the Rice Fields', 'date': '1901'}, {'itemid': '29', 'group': 'Child', 'title': 'A Roundelay', 'date': '1906'}, {'itemid': '1', 'group': 'Child', 'title': 'Bamboo Gate', 'date': '1915'}, {'itemid': '6', 'group': 'Child', 'title': 'Bamboo Gate', 'date': '1915'}, {'itemid': '17', 'group': 'Child', 'title': 'Little Miss Muffet', 'date': '1918'}, {'itemid': '24', 'group': 'Child', 'title': 'From the Rice Fields', 'date': '1901'}, {'itemid': '25', 'group': 'Child', 'title': 'From the Rice Fields', 'date': '1901'}, {'itemid': '10', 'group': 'Tools', 'title': 'The Blue Umbrella', 'date': '1914'}, {'itemid': '19', 'group': 'Plant', 'title': 'Little Miss Muffet', 'date': '1918'}, {'itemid': '28', 'group': 'Aminl', 'title': 'On the Bund at Tokyo', 'date': '1900'}, {'itemid': '8', 'group': 'Lands', 'title': 'Sausalito', 'date': '1898'}, {'itemid': '31', 'group': 'Child', 'title': 'A Roundelay', 'date': '1906'}, {'itemid': '27', 'group': 'Figur', 'title': 'On the Bund at Tokyo', 'date': '1900'}, {'itemid': '13', 'group': 'Child', 'title': 'Head of Ah Ho', 'date': '1899'}, {'itemid': '9', 'group': 'Lands', 'title': 'Sausalito', 'date': '1898'}, {'itemid': '32', 'group': 'Plant', 'title': 'A Roundelay', 'date': '1906'}, {'itemid': '5', 'group': 'Child', 'title': 'Bamboo Gate', 'date': '1915'}, {'itemid': '16', 'group': 'Child', 'title': 'The Joggling Board', 'date': '1918'}, {'itemid': '15', 'group': 'Child', 'title': 'The Joggling Board', 'date': '1918'}, {'itemid': '22', 'group': 'Tools', 'title': 'A Child of the People', 'date': '1901'}, {'itemid': '18', 'group': 'Animl', 'title': 'Little Miss Muffet', 'date': '1918'}, {'itemid': '2', 'group': 'Child', 'title': 'Bamboo Gate', 'date': '1915'}, {'itemid': '20', 'group': 'Lands', 'title': 'The Year at the Spring', 'date': '1899'}, {'itemid': '11', 'group': 'Child', 'title': 'The Blue Umbrella', 'date': '1914'}, {'itemid': '3', 'group': 'Child', 'title': 'Bamboo Gate', 'date': '1915'}, {'itemid': '21', 'group': 'Child', 'title': 'A Child of the People', 'date': '1901'}, {'itemid': '12', 'group': 'Figur', 'title': 'The Blue Umbrella', 'date': '1914'}, {'itemid': '14', 'group': 'Child', 'title': 'The Joggling Board', 'date': '1918'}, {'itemid': '4', 'group': 'Child', 'title': 'Bamboo Gate', 'date': '1915'}, {'itemid': '7', 'group': 'Lands', 'title': 'Sausalito', 'date': '1898'}]\n"
     ]
    }
   ],
   "source": [
    "data_crop = []\n",
    "\n",
    "r = re.compile(\"([a-zA-Z]+)([0-9]+)\")\n",
    "\n",
    "for f in files:\n",
    "    m = r.match(f.split('/')[-1])\n",
    "    title = f.split('/')[-1].split('@')[-1].split('.')[0]\n",
    "    \n",
    "    for d in data:\n",
    "        if title == d[\"title\"]:\n",
    "            date = d[\"date\"]\n",
    "    \n",
    "    item = {\n",
    "        \"itemid\" : m.group(2),\n",
    "        \"group\" : m.group(1),\n",
    "        \"title\" : title,\n",
    "        \"date\" : date\n",
    "        \n",
    "    }\n",
    "    \n",
    "    data_crop.append(item)\n",
    "\n",
    "print(data_crop)"
   ]
  },
  {
   "cell_type": "code",
   "execution_count": 27,
   "metadata": {},
   "outputs": [],
   "source": [
    "with open(\"data_crop.json\", \"w\") as outfile:\n",
    "    json.dump(data_crop, outfile)"
   ]
  },
  {
   "cell_type": "code",
   "execution_count": null,
   "metadata": {},
   "outputs": [],
   "source": []
  }
 ],
 "metadata": {
  "kernelspec": {
   "display_name": "Python 3",
   "language": "python",
   "name": "python3"
  },
  "language_info": {
   "codemirror_mode": {
    "name": "ipython",
    "version": 3
   },
   "file_extension": ".py",
   "mimetype": "text/x-python",
   "name": "python",
   "nbconvert_exporter": "python",
   "pygments_lexer": "ipython3",
   "version": "3.7.6"
  }
 },
 "nbformat": 4,
 "nbformat_minor": 4
}
